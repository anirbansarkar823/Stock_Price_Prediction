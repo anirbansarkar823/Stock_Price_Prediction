{
  "nbformat": 4,
  "nbformat_minor": 0,
  "metadata": {
    "colab": {
      "name": "Bitcoin_Stockprice_Prediction.ipynb",
      "provenance": []
    },
    "kernelspec": {
      "name": "python3",
      "display_name": "Python 3"
    },
    "language_info": {
      "name": "python"
    },
    "accelerator": "GPU"
  },
  "cells": [
    {
      "cell_type": "code",
      "execution_count": null,
      "metadata": {
        "id": "MZh0oQdJm-kc"
      },
      "outputs": [],
      "source": [
        ""
      ]
    },
    {
      "cell_type": "code",
      "source": [
        "from google.colab import drive\n",
        "drive.mount('/content/drive')"
      ],
      "metadata": {
        "colab": {
          "base_uri": "https://localhost:8080/"
        },
        "id": "m7lY_Cl-CARb",
        "outputId": "860620bb-cf41-4a9c-a9d6-7db2e1891904"
      },
      "execution_count": null,
      "outputs": [
        {
          "output_type": "stream",
          "name": "stdout",
          "text": [
            "Drive already mounted at /content/drive; to attempt to forcibly remount, call drive.mount(\"/content/drive\", force_remount=True).\n"
          ]
        }
      ]
    },
    {
      "cell_type": "code",
      "source": [
        "# importing libraries\n",
        "import pandas as pd\n",
        "import numpy as np"
      ],
      "metadata": {
        "id": "rvLL2QYOCUSc"
      },
      "execution_count": null,
      "outputs": []
    },
    {
      "cell_type": "code",
      "source": [
        "# loading the dataset\n",
        "btc = pd.read_csv(\"/content/drive/MyDrive/Colab Notebooks/btc_hourly.csv\")\n",
        "btc.head() # seems to have lot of empty values"
      ],
      "metadata": {
        "colab": {
          "base_uri": "https://localhost:8080/",
          "height": 206
        },
        "id": "cz89LVRMCYXV",
        "outputId": "05039953-9f63-44b8-99b7-5d4b5c1685cc"
      },
      "execution_count": null,
      "outputs": [
        {
          "output_type": "execute_result",
          "data": {
            "text/plain": [
              "             Timestamp  Open  High   Low  Close  Volume_(BTC)  \\\n",
              "0  2011-12-31 07:00:00  4.39  4.39  4.39   4.39      0.455581   \n",
              "1  2011-12-31 08:00:00   NaN   NaN   NaN    NaN           NaN   \n",
              "2  2011-12-31 09:00:00   NaN   NaN   NaN    NaN           NaN   \n",
              "3  2011-12-31 10:00:00   NaN   NaN   NaN    NaN           NaN   \n",
              "4  2011-12-31 11:00:00   NaN   NaN   NaN    NaN           NaN   \n",
              "\n",
              "   Volume_(Currency)  Weighted_Price  \n",
              "0                2.0            4.39  \n",
              "1                NaN             NaN  \n",
              "2                NaN             NaN  \n",
              "3                NaN             NaN  \n",
              "4                NaN             NaN  "
            ],
            "text/html": [
              "\n",
              "  <div id=\"df-4490f1d7-445e-4df9-9c0d-caa9692910b8\">\n",
              "    <div class=\"colab-df-container\">\n",
              "      <div>\n",
              "<style scoped>\n",
              "    .dataframe tbody tr th:only-of-type {\n",
              "        vertical-align: middle;\n",
              "    }\n",
              "\n",
              "    .dataframe tbody tr th {\n",
              "        vertical-align: top;\n",
              "    }\n",
              "\n",
              "    .dataframe thead th {\n",
              "        text-align: right;\n",
              "    }\n",
              "</style>\n",
              "<table border=\"1\" class=\"dataframe\">\n",
              "  <thead>\n",
              "    <tr style=\"text-align: right;\">\n",
              "      <th></th>\n",
              "      <th>Timestamp</th>\n",
              "      <th>Open</th>\n",
              "      <th>High</th>\n",
              "      <th>Low</th>\n",
              "      <th>Close</th>\n",
              "      <th>Volume_(BTC)</th>\n",
              "      <th>Volume_(Currency)</th>\n",
              "      <th>Weighted_Price</th>\n",
              "    </tr>\n",
              "  </thead>\n",
              "  <tbody>\n",
              "    <tr>\n",
              "      <th>0</th>\n",
              "      <td>2011-12-31 07:00:00</td>\n",
              "      <td>4.39</td>\n",
              "      <td>4.39</td>\n",
              "      <td>4.39</td>\n",
              "      <td>4.39</td>\n",
              "      <td>0.455581</td>\n",
              "      <td>2.0</td>\n",
              "      <td>4.39</td>\n",
              "    </tr>\n",
              "    <tr>\n",
              "      <th>1</th>\n",
              "      <td>2011-12-31 08:00:00</td>\n",
              "      <td>NaN</td>\n",
              "      <td>NaN</td>\n",
              "      <td>NaN</td>\n",
              "      <td>NaN</td>\n",
              "      <td>NaN</td>\n",
              "      <td>NaN</td>\n",
              "      <td>NaN</td>\n",
              "    </tr>\n",
              "    <tr>\n",
              "      <th>2</th>\n",
              "      <td>2011-12-31 09:00:00</td>\n",
              "      <td>NaN</td>\n",
              "      <td>NaN</td>\n",
              "      <td>NaN</td>\n",
              "      <td>NaN</td>\n",
              "      <td>NaN</td>\n",
              "      <td>NaN</td>\n",
              "      <td>NaN</td>\n",
              "    </tr>\n",
              "    <tr>\n",
              "      <th>3</th>\n",
              "      <td>2011-12-31 10:00:00</td>\n",
              "      <td>NaN</td>\n",
              "      <td>NaN</td>\n",
              "      <td>NaN</td>\n",
              "      <td>NaN</td>\n",
              "      <td>NaN</td>\n",
              "      <td>NaN</td>\n",
              "      <td>NaN</td>\n",
              "    </tr>\n",
              "    <tr>\n",
              "      <th>4</th>\n",
              "      <td>2011-12-31 11:00:00</td>\n",
              "      <td>NaN</td>\n",
              "      <td>NaN</td>\n",
              "      <td>NaN</td>\n",
              "      <td>NaN</td>\n",
              "      <td>NaN</td>\n",
              "      <td>NaN</td>\n",
              "      <td>NaN</td>\n",
              "    </tr>\n",
              "  </tbody>\n",
              "</table>\n",
              "</div>\n",
              "      <button class=\"colab-df-convert\" onclick=\"convertToInteractive('df-4490f1d7-445e-4df9-9c0d-caa9692910b8')\"\n",
              "              title=\"Convert this dataframe to an interactive table.\"\n",
              "              style=\"display:none;\">\n",
              "        \n",
              "  <svg xmlns=\"http://www.w3.org/2000/svg\" height=\"24px\"viewBox=\"0 0 24 24\"\n",
              "       width=\"24px\">\n",
              "    <path d=\"M0 0h24v24H0V0z\" fill=\"none\"/>\n",
              "    <path d=\"M18.56 5.44l.94 2.06.94-2.06 2.06-.94-2.06-.94-.94-2.06-.94 2.06-2.06.94zm-11 1L8.5 8.5l.94-2.06 2.06-.94-2.06-.94L8.5 2.5l-.94 2.06-2.06.94zm10 10l.94 2.06.94-2.06 2.06-.94-2.06-.94-.94-2.06-.94 2.06-2.06.94z\"/><path d=\"M17.41 7.96l-1.37-1.37c-.4-.4-.92-.59-1.43-.59-.52 0-1.04.2-1.43.59L10.3 9.45l-7.72 7.72c-.78.78-.78 2.05 0 2.83L4 21.41c.39.39.9.59 1.41.59.51 0 1.02-.2 1.41-.59l7.78-7.78 2.81-2.81c.8-.78.8-2.07 0-2.86zM5.41 20L4 18.59l7.72-7.72 1.47 1.35L5.41 20z\"/>\n",
              "  </svg>\n",
              "      </button>\n",
              "      \n",
              "  <style>\n",
              "    .colab-df-container {\n",
              "      display:flex;\n",
              "      flex-wrap:wrap;\n",
              "      gap: 12px;\n",
              "    }\n",
              "\n",
              "    .colab-df-convert {\n",
              "      background-color: #E8F0FE;\n",
              "      border: none;\n",
              "      border-radius: 50%;\n",
              "      cursor: pointer;\n",
              "      display: none;\n",
              "      fill: #1967D2;\n",
              "      height: 32px;\n",
              "      padding: 0 0 0 0;\n",
              "      width: 32px;\n",
              "    }\n",
              "\n",
              "    .colab-df-convert:hover {\n",
              "      background-color: #E2EBFA;\n",
              "      box-shadow: 0px 1px 2px rgba(60, 64, 67, 0.3), 0px 1px 3px 1px rgba(60, 64, 67, 0.15);\n",
              "      fill: #174EA6;\n",
              "    }\n",
              "\n",
              "    [theme=dark] .colab-df-convert {\n",
              "      background-color: #3B4455;\n",
              "      fill: #D2E3FC;\n",
              "    }\n",
              "\n",
              "    [theme=dark] .colab-df-convert:hover {\n",
              "      background-color: #434B5C;\n",
              "      box-shadow: 0px 1px 3px 1px rgba(0, 0, 0, 0.15);\n",
              "      filter: drop-shadow(0px 1px 2px rgba(0, 0, 0, 0.3));\n",
              "      fill: #FFFFFF;\n",
              "    }\n",
              "  </style>\n",
              "\n",
              "      <script>\n",
              "        const buttonEl =\n",
              "          document.querySelector('#df-4490f1d7-445e-4df9-9c0d-caa9692910b8 button.colab-df-convert');\n",
              "        buttonEl.style.display =\n",
              "          google.colab.kernel.accessAllowed ? 'block' : 'none';\n",
              "\n",
              "        async function convertToInteractive(key) {\n",
              "          const element = document.querySelector('#df-4490f1d7-445e-4df9-9c0d-caa9692910b8');\n",
              "          const dataTable =\n",
              "            await google.colab.kernel.invokeFunction('convertToInteractive',\n",
              "                                                     [key], {});\n",
              "          if (!dataTable) return;\n",
              "\n",
              "          const docLinkHtml = 'Like what you see? Visit the ' +\n",
              "            '<a target=\"_blank\" href=https://colab.research.google.com/notebooks/data_table.ipynb>data table notebook</a>'\n",
              "            + ' to learn more about interactive tables.';\n",
              "          element.innerHTML = '';\n",
              "          dataTable['output_type'] = 'display_data';\n",
              "          await google.colab.output.renderOutput(dataTable, element);\n",
              "          const docLink = document.createElement('div');\n",
              "          docLink.innerHTML = docLinkHtml;\n",
              "          element.appendChild(docLink);\n",
              "        }\n",
              "      </script>\n",
              "    </div>\n",
              "  </div>\n",
              "  "
            ]
          },
          "metadata": {},
          "execution_count": 39
        }
      ]
    },
    {
      "cell_type": "code",
      "source": [
        "# setting new index and converting the Timestamp columne to timestamp type\n",
        "btc['Timestamp'] = pd.to_datetime(btc.Timestamp)\n",
        "btc.set_index('Timestamp', inplace=True)\n",
        "btc.head()\n"
      ],
      "metadata": {
        "colab": {
          "base_uri": "https://localhost:8080/",
          "height": 237
        },
        "id": "1Um1c1A2C2qz",
        "outputId": "4f2ea752-a153-4fb7-840f-e21ce31a767d"
      },
      "execution_count": null,
      "outputs": [
        {
          "output_type": "execute_result",
          "data": {
            "text/plain": [
              "                     Open  High   Low  Close  Volume_(BTC)  Volume_(Currency)  \\\n",
              "Timestamp                                                                       \n",
              "2011-12-31 07:00:00  4.39  4.39  4.39   4.39      0.455581                2.0   \n",
              "2011-12-31 08:00:00   NaN   NaN   NaN    NaN           NaN                NaN   \n",
              "2011-12-31 09:00:00   NaN   NaN   NaN    NaN           NaN                NaN   \n",
              "2011-12-31 10:00:00   NaN   NaN   NaN    NaN           NaN                NaN   \n",
              "2011-12-31 11:00:00   NaN   NaN   NaN    NaN           NaN                NaN   \n",
              "\n",
              "                     Weighted_Price  \n",
              "Timestamp                            \n",
              "2011-12-31 07:00:00            4.39  \n",
              "2011-12-31 08:00:00             NaN  \n",
              "2011-12-31 09:00:00             NaN  \n",
              "2011-12-31 10:00:00             NaN  \n",
              "2011-12-31 11:00:00             NaN  "
            ],
            "text/html": [
              "\n",
              "  <div id=\"df-01fdb378-4529-4fd6-943f-bff99fe0c2a0\">\n",
              "    <div class=\"colab-df-container\">\n",
              "      <div>\n",
              "<style scoped>\n",
              "    .dataframe tbody tr th:only-of-type {\n",
              "        vertical-align: middle;\n",
              "    }\n",
              "\n",
              "    .dataframe tbody tr th {\n",
              "        vertical-align: top;\n",
              "    }\n",
              "\n",
              "    .dataframe thead th {\n",
              "        text-align: right;\n",
              "    }\n",
              "</style>\n",
              "<table border=\"1\" class=\"dataframe\">\n",
              "  <thead>\n",
              "    <tr style=\"text-align: right;\">\n",
              "      <th></th>\n",
              "      <th>Open</th>\n",
              "      <th>High</th>\n",
              "      <th>Low</th>\n",
              "      <th>Close</th>\n",
              "      <th>Volume_(BTC)</th>\n",
              "      <th>Volume_(Currency)</th>\n",
              "      <th>Weighted_Price</th>\n",
              "    </tr>\n",
              "    <tr>\n",
              "      <th>Timestamp</th>\n",
              "      <th></th>\n",
              "      <th></th>\n",
              "      <th></th>\n",
              "      <th></th>\n",
              "      <th></th>\n",
              "      <th></th>\n",
              "      <th></th>\n",
              "    </tr>\n",
              "  </thead>\n",
              "  <tbody>\n",
              "    <tr>\n",
              "      <th>2011-12-31 07:00:00</th>\n",
              "      <td>4.39</td>\n",
              "      <td>4.39</td>\n",
              "      <td>4.39</td>\n",
              "      <td>4.39</td>\n",
              "      <td>0.455581</td>\n",
              "      <td>2.0</td>\n",
              "      <td>4.39</td>\n",
              "    </tr>\n",
              "    <tr>\n",
              "      <th>2011-12-31 08:00:00</th>\n",
              "      <td>NaN</td>\n",
              "      <td>NaN</td>\n",
              "      <td>NaN</td>\n",
              "      <td>NaN</td>\n",
              "      <td>NaN</td>\n",
              "      <td>NaN</td>\n",
              "      <td>NaN</td>\n",
              "    </tr>\n",
              "    <tr>\n",
              "      <th>2011-12-31 09:00:00</th>\n",
              "      <td>NaN</td>\n",
              "      <td>NaN</td>\n",
              "      <td>NaN</td>\n",
              "      <td>NaN</td>\n",
              "      <td>NaN</td>\n",
              "      <td>NaN</td>\n",
              "      <td>NaN</td>\n",
              "    </tr>\n",
              "    <tr>\n",
              "      <th>2011-12-31 10:00:00</th>\n",
              "      <td>NaN</td>\n",
              "      <td>NaN</td>\n",
              "      <td>NaN</td>\n",
              "      <td>NaN</td>\n",
              "      <td>NaN</td>\n",
              "      <td>NaN</td>\n",
              "      <td>NaN</td>\n",
              "    </tr>\n",
              "    <tr>\n",
              "      <th>2011-12-31 11:00:00</th>\n",
              "      <td>NaN</td>\n",
              "      <td>NaN</td>\n",
              "      <td>NaN</td>\n",
              "      <td>NaN</td>\n",
              "      <td>NaN</td>\n",
              "      <td>NaN</td>\n",
              "      <td>NaN</td>\n",
              "    </tr>\n",
              "  </tbody>\n",
              "</table>\n",
              "</div>\n",
              "      <button class=\"colab-df-convert\" onclick=\"convertToInteractive('df-01fdb378-4529-4fd6-943f-bff99fe0c2a0')\"\n",
              "              title=\"Convert this dataframe to an interactive table.\"\n",
              "              style=\"display:none;\">\n",
              "        \n",
              "  <svg xmlns=\"http://www.w3.org/2000/svg\" height=\"24px\"viewBox=\"0 0 24 24\"\n",
              "       width=\"24px\">\n",
              "    <path d=\"M0 0h24v24H0V0z\" fill=\"none\"/>\n",
              "    <path d=\"M18.56 5.44l.94 2.06.94-2.06 2.06-.94-2.06-.94-.94-2.06-.94 2.06-2.06.94zm-11 1L8.5 8.5l.94-2.06 2.06-.94-2.06-.94L8.5 2.5l-.94 2.06-2.06.94zm10 10l.94 2.06.94-2.06 2.06-.94-2.06-.94-.94-2.06-.94 2.06-2.06.94z\"/><path d=\"M17.41 7.96l-1.37-1.37c-.4-.4-.92-.59-1.43-.59-.52 0-1.04.2-1.43.59L10.3 9.45l-7.72 7.72c-.78.78-.78 2.05 0 2.83L4 21.41c.39.39.9.59 1.41.59.51 0 1.02-.2 1.41-.59l7.78-7.78 2.81-2.81c.8-.78.8-2.07 0-2.86zM5.41 20L4 18.59l7.72-7.72 1.47 1.35L5.41 20z\"/>\n",
              "  </svg>\n",
              "      </button>\n",
              "      \n",
              "  <style>\n",
              "    .colab-df-container {\n",
              "      display:flex;\n",
              "      flex-wrap:wrap;\n",
              "      gap: 12px;\n",
              "    }\n",
              "\n",
              "    .colab-df-convert {\n",
              "      background-color: #E8F0FE;\n",
              "      border: none;\n",
              "      border-radius: 50%;\n",
              "      cursor: pointer;\n",
              "      display: none;\n",
              "      fill: #1967D2;\n",
              "      height: 32px;\n",
              "      padding: 0 0 0 0;\n",
              "      width: 32px;\n",
              "    }\n",
              "\n",
              "    .colab-df-convert:hover {\n",
              "      background-color: #E2EBFA;\n",
              "      box-shadow: 0px 1px 2px rgba(60, 64, 67, 0.3), 0px 1px 3px 1px rgba(60, 64, 67, 0.15);\n",
              "      fill: #174EA6;\n",
              "    }\n",
              "\n",
              "    [theme=dark] .colab-df-convert {\n",
              "      background-color: #3B4455;\n",
              "      fill: #D2E3FC;\n",
              "    }\n",
              "\n",
              "    [theme=dark] .colab-df-convert:hover {\n",
              "      background-color: #434B5C;\n",
              "      box-shadow: 0px 1px 3px 1px rgba(0, 0, 0, 0.15);\n",
              "      filter: drop-shadow(0px 1px 2px rgba(0, 0, 0, 0.3));\n",
              "      fill: #FFFFFF;\n",
              "    }\n",
              "  </style>\n",
              "\n",
              "      <script>\n",
              "        const buttonEl =\n",
              "          document.querySelector('#df-01fdb378-4529-4fd6-943f-bff99fe0c2a0 button.colab-df-convert');\n",
              "        buttonEl.style.display =\n",
              "          google.colab.kernel.accessAllowed ? 'block' : 'none';\n",
              "\n",
              "        async function convertToInteractive(key) {\n",
              "          const element = document.querySelector('#df-01fdb378-4529-4fd6-943f-bff99fe0c2a0');\n",
              "          const dataTable =\n",
              "            await google.colab.kernel.invokeFunction('convertToInteractive',\n",
              "                                                     [key], {});\n",
              "          if (!dataTable) return;\n",
              "\n",
              "          const docLinkHtml = 'Like what you see? Visit the ' +\n",
              "            '<a target=\"_blank\" href=https://colab.research.google.com/notebooks/data_table.ipynb>data table notebook</a>'\n",
              "            + ' to learn more about interactive tables.';\n",
              "          element.innerHTML = '';\n",
              "          dataTable['output_type'] = 'display_data';\n",
              "          await google.colab.output.renderOutput(dataTable, element);\n",
              "          const docLink = document.createElement('div');\n",
              "          docLink.innerHTML = docLinkHtml;\n",
              "          element.appendChild(docLink);\n",
              "        }\n",
              "      </script>\n",
              "    </div>\n",
              "  </div>\n",
              "  "
            ]
          },
          "metadata": {},
          "execution_count": 40
        }
      ]
    },
    {
      "cell_type": "markdown",
      "source": [
        "#### Describing Data"
      ],
      "metadata": {
        "id": "uyrZdWydSMrE"
      }
    },
    {
      "cell_type": "code",
      "source": [
        "# printing the columns names\n",
        "btc.columns"
      ],
      "metadata": {
        "colab": {
          "base_uri": "https://localhost:8080/"
        },
        "id": "nDj_vRjODP5o",
        "outputId": "93fb243f-28d3-4e9a-99fb-614f63fa4126"
      },
      "execution_count": null,
      "outputs": [
        {
          "output_type": "execute_result",
          "data": {
            "text/plain": [
              "Index(['Open', 'High', 'Low', 'Close', 'Volume_(BTC)', 'Volume_(Currency)',\n",
              "       'Weighted_Price'],\n",
              "      dtype='object')"
            ]
          },
          "metadata": {},
          "execution_count": 41
        }
      ]
    },
    {
      "cell_type": "code",
      "source": [
        "btc.info() # all the columns are of float type"
      ],
      "metadata": {
        "colab": {
          "base_uri": "https://localhost:8080/"
        },
        "id": "7wGJqQBiSd0F",
        "outputId": "eb237260-0156-4b59-b44c-d0601b612161"
      },
      "execution_count": null,
      "outputs": [
        {
          "output_type": "stream",
          "name": "stdout",
          "text": [
            "<class 'pandas.core.frame.DataFrame'>\n",
            "DatetimeIndex: 81066 entries, 2011-12-31 07:00:00 to 2021-03-31 00:00:00\n",
            "Data columns (total 7 columns):\n",
            " #   Column             Non-Null Count  Dtype  \n",
            "---  ------             --------------  -----  \n",
            " 0   Open               77534 non-null  float64\n",
            " 1   High               77534 non-null  float64\n",
            " 2   Low                77534 non-null  float64\n",
            " 3   Close              77534 non-null  float64\n",
            " 4   Volume_(BTC)       77534 non-null  float64\n",
            " 5   Volume_(Currency)  77534 non-null  float64\n",
            " 6   Weighted_Price     77534 non-null  float64\n",
            "dtypes: float64(7)\n",
            "memory usage: 4.9 MB\n"
          ]
        }
      ]
    },
    {
      "cell_type": "code",
      "source": [
        "btc.describe()"
      ],
      "metadata": {
        "colab": {
          "base_uri": "https://localhost:8080/",
          "height": 300
        },
        "id": "NDUbG3JdShdj",
        "outputId": "4488e3d3-bc4f-406b-eb3f-58a6ae4a855c"
      },
      "execution_count": null,
      "outputs": [
        {
          "output_type": "execute_result",
          "data": {
            "text/plain": [
              "               Open          High           Low         Close  Volume_(BTC)  \\\n",
              "count  77534.000000  77534.000000  77534.000000  77534.000000  77534.000000   \n",
              "mean    4794.656916   4798.062743   4791.092521   4794.649344      9.648114   \n",
              "std     8279.755294   8286.392692   8272.930542   8279.848747     14.659853   \n",
              "min        4.140000      4.140000      4.140000      4.140000      0.000970   \n",
              "25%      286.896576    287.013163    286.739865    286.893433      2.834293   \n",
              "50%      788.594337    788.948788    788.172810    788.709750      5.550942   \n",
              "75%     7425.896086   7431.059873   7421.667255   7425.684227     10.924674   \n",
              "max    61365.363833  61406.334167  61325.110500  61370.448167   1028.269656   \n",
              "\n",
              "       Volume_(Currency)  Weighted_Price  \n",
              "count       7.753400e+04    77534.000000  \n",
              "mean        3.297110e+04     4794.586897  \n",
              "std         8.168825e+04     8279.529492  \n",
              "min         1.001040e-02        4.140000  \n",
              "25%         1.441051e+03      286.867022  \n",
              "50%         6.471024e+03      788.595951  \n",
              "75%         2.994530e+04     7425.971393  \n",
              "max         4.125142e+06    61363.600604  "
            ],
            "text/html": [
              "\n",
              "  <div id=\"df-45f93466-88b4-4ec0-8503-d0060b618979\">\n",
              "    <div class=\"colab-df-container\">\n",
              "      <div>\n",
              "<style scoped>\n",
              "    .dataframe tbody tr th:only-of-type {\n",
              "        vertical-align: middle;\n",
              "    }\n",
              "\n",
              "    .dataframe tbody tr th {\n",
              "        vertical-align: top;\n",
              "    }\n",
              "\n",
              "    .dataframe thead th {\n",
              "        text-align: right;\n",
              "    }\n",
              "</style>\n",
              "<table border=\"1\" class=\"dataframe\">\n",
              "  <thead>\n",
              "    <tr style=\"text-align: right;\">\n",
              "      <th></th>\n",
              "      <th>Open</th>\n",
              "      <th>High</th>\n",
              "      <th>Low</th>\n",
              "      <th>Close</th>\n",
              "      <th>Volume_(BTC)</th>\n",
              "      <th>Volume_(Currency)</th>\n",
              "      <th>Weighted_Price</th>\n",
              "    </tr>\n",
              "  </thead>\n",
              "  <tbody>\n",
              "    <tr>\n",
              "      <th>count</th>\n",
              "      <td>77534.000000</td>\n",
              "      <td>77534.000000</td>\n",
              "      <td>77534.000000</td>\n",
              "      <td>77534.000000</td>\n",
              "      <td>77534.000000</td>\n",
              "      <td>7.753400e+04</td>\n",
              "      <td>77534.000000</td>\n",
              "    </tr>\n",
              "    <tr>\n",
              "      <th>mean</th>\n",
              "      <td>4794.656916</td>\n",
              "      <td>4798.062743</td>\n",
              "      <td>4791.092521</td>\n",
              "      <td>4794.649344</td>\n",
              "      <td>9.648114</td>\n",
              "      <td>3.297110e+04</td>\n",
              "      <td>4794.586897</td>\n",
              "    </tr>\n",
              "    <tr>\n",
              "      <th>std</th>\n",
              "      <td>8279.755294</td>\n",
              "      <td>8286.392692</td>\n",
              "      <td>8272.930542</td>\n",
              "      <td>8279.848747</td>\n",
              "      <td>14.659853</td>\n",
              "      <td>8.168825e+04</td>\n",
              "      <td>8279.529492</td>\n",
              "    </tr>\n",
              "    <tr>\n",
              "      <th>min</th>\n",
              "      <td>4.140000</td>\n",
              "      <td>4.140000</td>\n",
              "      <td>4.140000</td>\n",
              "      <td>4.140000</td>\n",
              "      <td>0.000970</td>\n",
              "      <td>1.001040e-02</td>\n",
              "      <td>4.140000</td>\n",
              "    </tr>\n",
              "    <tr>\n",
              "      <th>25%</th>\n",
              "      <td>286.896576</td>\n",
              "      <td>287.013163</td>\n",
              "      <td>286.739865</td>\n",
              "      <td>286.893433</td>\n",
              "      <td>2.834293</td>\n",
              "      <td>1.441051e+03</td>\n",
              "      <td>286.867022</td>\n",
              "    </tr>\n",
              "    <tr>\n",
              "      <th>50%</th>\n",
              "      <td>788.594337</td>\n",
              "      <td>788.948788</td>\n",
              "      <td>788.172810</td>\n",
              "      <td>788.709750</td>\n",
              "      <td>5.550942</td>\n",
              "      <td>6.471024e+03</td>\n",
              "      <td>788.595951</td>\n",
              "    </tr>\n",
              "    <tr>\n",
              "      <th>75%</th>\n",
              "      <td>7425.896086</td>\n",
              "      <td>7431.059873</td>\n",
              "      <td>7421.667255</td>\n",
              "      <td>7425.684227</td>\n",
              "      <td>10.924674</td>\n",
              "      <td>2.994530e+04</td>\n",
              "      <td>7425.971393</td>\n",
              "    </tr>\n",
              "    <tr>\n",
              "      <th>max</th>\n",
              "      <td>61365.363833</td>\n",
              "      <td>61406.334167</td>\n",
              "      <td>61325.110500</td>\n",
              "      <td>61370.448167</td>\n",
              "      <td>1028.269656</td>\n",
              "      <td>4.125142e+06</td>\n",
              "      <td>61363.600604</td>\n",
              "    </tr>\n",
              "  </tbody>\n",
              "</table>\n",
              "</div>\n",
              "      <button class=\"colab-df-convert\" onclick=\"convertToInteractive('df-45f93466-88b4-4ec0-8503-d0060b618979')\"\n",
              "              title=\"Convert this dataframe to an interactive table.\"\n",
              "              style=\"display:none;\">\n",
              "        \n",
              "  <svg xmlns=\"http://www.w3.org/2000/svg\" height=\"24px\"viewBox=\"0 0 24 24\"\n",
              "       width=\"24px\">\n",
              "    <path d=\"M0 0h24v24H0V0z\" fill=\"none\"/>\n",
              "    <path d=\"M18.56 5.44l.94 2.06.94-2.06 2.06-.94-2.06-.94-.94-2.06-.94 2.06-2.06.94zm-11 1L8.5 8.5l.94-2.06 2.06-.94-2.06-.94L8.5 2.5l-.94 2.06-2.06.94zm10 10l.94 2.06.94-2.06 2.06-.94-2.06-.94-.94-2.06-.94 2.06-2.06.94z\"/><path d=\"M17.41 7.96l-1.37-1.37c-.4-.4-.92-.59-1.43-.59-.52 0-1.04.2-1.43.59L10.3 9.45l-7.72 7.72c-.78.78-.78 2.05 0 2.83L4 21.41c.39.39.9.59 1.41.59.51 0 1.02-.2 1.41-.59l7.78-7.78 2.81-2.81c.8-.78.8-2.07 0-2.86zM5.41 20L4 18.59l7.72-7.72 1.47 1.35L5.41 20z\"/>\n",
              "  </svg>\n",
              "      </button>\n",
              "      \n",
              "  <style>\n",
              "    .colab-df-container {\n",
              "      display:flex;\n",
              "      flex-wrap:wrap;\n",
              "      gap: 12px;\n",
              "    }\n",
              "\n",
              "    .colab-df-convert {\n",
              "      background-color: #E8F0FE;\n",
              "      border: none;\n",
              "      border-radius: 50%;\n",
              "      cursor: pointer;\n",
              "      display: none;\n",
              "      fill: #1967D2;\n",
              "      height: 32px;\n",
              "      padding: 0 0 0 0;\n",
              "      width: 32px;\n",
              "    }\n",
              "\n",
              "    .colab-df-convert:hover {\n",
              "      background-color: #E2EBFA;\n",
              "      box-shadow: 0px 1px 2px rgba(60, 64, 67, 0.3), 0px 1px 3px 1px rgba(60, 64, 67, 0.15);\n",
              "      fill: #174EA6;\n",
              "    }\n",
              "\n",
              "    [theme=dark] .colab-df-convert {\n",
              "      background-color: #3B4455;\n",
              "      fill: #D2E3FC;\n",
              "    }\n",
              "\n",
              "    [theme=dark] .colab-df-convert:hover {\n",
              "      background-color: #434B5C;\n",
              "      box-shadow: 0px 1px 3px 1px rgba(0, 0, 0, 0.15);\n",
              "      filter: drop-shadow(0px 1px 2px rgba(0, 0, 0, 0.3));\n",
              "      fill: #FFFFFF;\n",
              "    }\n",
              "  </style>\n",
              "\n",
              "      <script>\n",
              "        const buttonEl =\n",
              "          document.querySelector('#df-45f93466-88b4-4ec0-8503-d0060b618979 button.colab-df-convert');\n",
              "        buttonEl.style.display =\n",
              "          google.colab.kernel.accessAllowed ? 'block' : 'none';\n",
              "\n",
              "        async function convertToInteractive(key) {\n",
              "          const element = document.querySelector('#df-45f93466-88b4-4ec0-8503-d0060b618979');\n",
              "          const dataTable =\n",
              "            await google.colab.kernel.invokeFunction('convertToInteractive',\n",
              "                                                     [key], {});\n",
              "          if (!dataTable) return;\n",
              "\n",
              "          const docLinkHtml = 'Like what you see? Visit the ' +\n",
              "            '<a target=\"_blank\" href=https://colab.research.google.com/notebooks/data_table.ipynb>data table notebook</a>'\n",
              "            + ' to learn more about interactive tables.';\n",
              "          element.innerHTML = '';\n",
              "          dataTable['output_type'] = 'display_data';\n",
              "          await google.colab.output.renderOutput(dataTable, element);\n",
              "          const docLink = document.createElement('div');\n",
              "          docLink.innerHTML = docLinkHtml;\n",
              "          element.appendChild(docLink);\n",
              "        }\n",
              "      </script>\n",
              "    </div>\n",
              "  </div>\n",
              "  "
            ]
          },
          "metadata": {},
          "execution_count": 43
        }
      ]
    },
    {
      "cell_type": "code",
      "source": [
        "# checking for Missing Values:\n",
        "btc[btc.isnull().any(axis=1)].head()"
      ],
      "metadata": {
        "colab": {
          "base_uri": "https://localhost:8080/",
          "height": 237
        },
        "id": "WovYvP9ySq3l",
        "outputId": "1c7e2dfb-2fe3-48d4-c67a-f24c8206218a"
      },
      "execution_count": null,
      "outputs": [
        {
          "output_type": "execute_result",
          "data": {
            "text/plain": [
              "                     Open  High  Low  Close  Volume_(BTC)  Volume_(Currency)  \\\n",
              "Timestamp                                                                      \n",
              "2011-12-31 08:00:00   NaN   NaN  NaN    NaN           NaN                NaN   \n",
              "2011-12-31 09:00:00   NaN   NaN  NaN    NaN           NaN                NaN   \n",
              "2011-12-31 10:00:00   NaN   NaN  NaN    NaN           NaN                NaN   \n",
              "2011-12-31 11:00:00   NaN   NaN  NaN    NaN           NaN                NaN   \n",
              "2011-12-31 12:00:00   NaN   NaN  NaN    NaN           NaN                NaN   \n",
              "\n",
              "                     Weighted_Price  \n",
              "Timestamp                            \n",
              "2011-12-31 08:00:00             NaN  \n",
              "2011-12-31 09:00:00             NaN  \n",
              "2011-12-31 10:00:00             NaN  \n",
              "2011-12-31 11:00:00             NaN  \n",
              "2011-12-31 12:00:00             NaN  "
            ],
            "text/html": [
              "\n",
              "  <div id=\"df-b94cbe5d-323a-4c5a-b49f-7420d315aa8f\">\n",
              "    <div class=\"colab-df-container\">\n",
              "      <div>\n",
              "<style scoped>\n",
              "    .dataframe tbody tr th:only-of-type {\n",
              "        vertical-align: middle;\n",
              "    }\n",
              "\n",
              "    .dataframe tbody tr th {\n",
              "        vertical-align: top;\n",
              "    }\n",
              "\n",
              "    .dataframe thead th {\n",
              "        text-align: right;\n",
              "    }\n",
              "</style>\n",
              "<table border=\"1\" class=\"dataframe\">\n",
              "  <thead>\n",
              "    <tr style=\"text-align: right;\">\n",
              "      <th></th>\n",
              "      <th>Open</th>\n",
              "      <th>High</th>\n",
              "      <th>Low</th>\n",
              "      <th>Close</th>\n",
              "      <th>Volume_(BTC)</th>\n",
              "      <th>Volume_(Currency)</th>\n",
              "      <th>Weighted_Price</th>\n",
              "    </tr>\n",
              "    <tr>\n",
              "      <th>Timestamp</th>\n",
              "      <th></th>\n",
              "      <th></th>\n",
              "      <th></th>\n",
              "      <th></th>\n",
              "      <th></th>\n",
              "      <th></th>\n",
              "      <th></th>\n",
              "    </tr>\n",
              "  </thead>\n",
              "  <tbody>\n",
              "    <tr>\n",
              "      <th>2011-12-31 08:00:00</th>\n",
              "      <td>NaN</td>\n",
              "      <td>NaN</td>\n",
              "      <td>NaN</td>\n",
              "      <td>NaN</td>\n",
              "      <td>NaN</td>\n",
              "      <td>NaN</td>\n",
              "      <td>NaN</td>\n",
              "    </tr>\n",
              "    <tr>\n",
              "      <th>2011-12-31 09:00:00</th>\n",
              "      <td>NaN</td>\n",
              "      <td>NaN</td>\n",
              "      <td>NaN</td>\n",
              "      <td>NaN</td>\n",
              "      <td>NaN</td>\n",
              "      <td>NaN</td>\n",
              "      <td>NaN</td>\n",
              "    </tr>\n",
              "    <tr>\n",
              "      <th>2011-12-31 10:00:00</th>\n",
              "      <td>NaN</td>\n",
              "      <td>NaN</td>\n",
              "      <td>NaN</td>\n",
              "      <td>NaN</td>\n",
              "      <td>NaN</td>\n",
              "      <td>NaN</td>\n",
              "      <td>NaN</td>\n",
              "    </tr>\n",
              "    <tr>\n",
              "      <th>2011-12-31 11:00:00</th>\n",
              "      <td>NaN</td>\n",
              "      <td>NaN</td>\n",
              "      <td>NaN</td>\n",
              "      <td>NaN</td>\n",
              "      <td>NaN</td>\n",
              "      <td>NaN</td>\n",
              "      <td>NaN</td>\n",
              "    </tr>\n",
              "    <tr>\n",
              "      <th>2011-12-31 12:00:00</th>\n",
              "      <td>NaN</td>\n",
              "      <td>NaN</td>\n",
              "      <td>NaN</td>\n",
              "      <td>NaN</td>\n",
              "      <td>NaN</td>\n",
              "      <td>NaN</td>\n",
              "      <td>NaN</td>\n",
              "    </tr>\n",
              "  </tbody>\n",
              "</table>\n",
              "</div>\n",
              "      <button class=\"colab-df-convert\" onclick=\"convertToInteractive('df-b94cbe5d-323a-4c5a-b49f-7420d315aa8f')\"\n",
              "              title=\"Convert this dataframe to an interactive table.\"\n",
              "              style=\"display:none;\">\n",
              "        \n",
              "  <svg xmlns=\"http://www.w3.org/2000/svg\" height=\"24px\"viewBox=\"0 0 24 24\"\n",
              "       width=\"24px\">\n",
              "    <path d=\"M0 0h24v24H0V0z\" fill=\"none\"/>\n",
              "    <path d=\"M18.56 5.44l.94 2.06.94-2.06 2.06-.94-2.06-.94-.94-2.06-.94 2.06-2.06.94zm-11 1L8.5 8.5l.94-2.06 2.06-.94-2.06-.94L8.5 2.5l-.94 2.06-2.06.94zm10 10l.94 2.06.94-2.06 2.06-.94-2.06-.94-.94-2.06-.94 2.06-2.06.94z\"/><path d=\"M17.41 7.96l-1.37-1.37c-.4-.4-.92-.59-1.43-.59-.52 0-1.04.2-1.43.59L10.3 9.45l-7.72 7.72c-.78.78-.78 2.05 0 2.83L4 21.41c.39.39.9.59 1.41.59.51 0 1.02-.2 1.41-.59l7.78-7.78 2.81-2.81c.8-.78.8-2.07 0-2.86zM5.41 20L4 18.59l7.72-7.72 1.47 1.35L5.41 20z\"/>\n",
              "  </svg>\n",
              "      </button>\n",
              "      \n",
              "  <style>\n",
              "    .colab-df-container {\n",
              "      display:flex;\n",
              "      flex-wrap:wrap;\n",
              "      gap: 12px;\n",
              "    }\n",
              "\n",
              "    .colab-df-convert {\n",
              "      background-color: #E8F0FE;\n",
              "      border: none;\n",
              "      border-radius: 50%;\n",
              "      cursor: pointer;\n",
              "      display: none;\n",
              "      fill: #1967D2;\n",
              "      height: 32px;\n",
              "      padding: 0 0 0 0;\n",
              "      width: 32px;\n",
              "    }\n",
              "\n",
              "    .colab-df-convert:hover {\n",
              "      background-color: #E2EBFA;\n",
              "      box-shadow: 0px 1px 2px rgba(60, 64, 67, 0.3), 0px 1px 3px 1px rgba(60, 64, 67, 0.15);\n",
              "      fill: #174EA6;\n",
              "    }\n",
              "\n",
              "    [theme=dark] .colab-df-convert {\n",
              "      background-color: #3B4455;\n",
              "      fill: #D2E3FC;\n",
              "    }\n",
              "\n",
              "    [theme=dark] .colab-df-convert:hover {\n",
              "      background-color: #434B5C;\n",
              "      box-shadow: 0px 1px 3px 1px rgba(0, 0, 0, 0.15);\n",
              "      filter: drop-shadow(0px 1px 2px rgba(0, 0, 0, 0.3));\n",
              "      fill: #FFFFFF;\n",
              "    }\n",
              "  </style>\n",
              "\n",
              "      <script>\n",
              "        const buttonEl =\n",
              "          document.querySelector('#df-b94cbe5d-323a-4c5a-b49f-7420d315aa8f button.colab-df-convert');\n",
              "        buttonEl.style.display =\n",
              "          google.colab.kernel.accessAllowed ? 'block' : 'none';\n",
              "\n",
              "        async function convertToInteractive(key) {\n",
              "          const element = document.querySelector('#df-b94cbe5d-323a-4c5a-b49f-7420d315aa8f');\n",
              "          const dataTable =\n",
              "            await google.colab.kernel.invokeFunction('convertToInteractive',\n",
              "                                                     [key], {});\n",
              "          if (!dataTable) return;\n",
              "\n",
              "          const docLinkHtml = 'Like what you see? Visit the ' +\n",
              "            '<a target=\"_blank\" href=https://colab.research.google.com/notebooks/data_table.ipynb>data table notebook</a>'\n",
              "            + ' to learn more about interactive tables.';\n",
              "          element.innerHTML = '';\n",
              "          dataTable['output_type'] = 'display_data';\n",
              "          await google.colab.output.renderOutput(dataTable, element);\n",
              "          const docLink = document.createElement('div');\n",
              "          docLink.innerHTML = docLinkHtml;\n",
              "          element.appendChild(docLink);\n",
              "        }\n",
              "      </script>\n",
              "    </div>\n",
              "  </div>\n",
              "  "
            ]
          },
          "metadata": {},
          "execution_count": 44
        }
      ]
    },
    {
      "cell_type": "code",
      "source": [
        "# checking the total count of null records\n",
        "btc[btc.isnull().any(axis=1)].isnull().count()"
      ],
      "metadata": {
        "colab": {
          "base_uri": "https://localhost:8080/"
        },
        "id": "uY7uzubTTMRN",
        "outputId": "b3e3f4ee-156f-4a06-ad2e-ece1f7283481"
      },
      "execution_count": null,
      "outputs": [
        {
          "output_type": "execute_result",
          "data": {
            "text/plain": [
              "Open                 3532\n",
              "High                 3532\n",
              "Low                  3532\n",
              "Close                3532\n",
              "Volume_(BTC)         3532\n",
              "Volume_(Currency)    3532\n",
              "Weighted_Price       3532\n",
              "dtype: int64"
            ]
          },
          "metadata": {},
          "execution_count": 45
        }
      ]
    },
    {
      "cell_type": "code",
      "source": [
        "# checking the total count of null records where all the columns are null\n",
        "btc[btc.isnull().all(axis=1)].isnull().count()"
      ],
      "metadata": {
        "colab": {
          "base_uri": "https://localhost:8080/"
        },
        "id": "uKeN8420TDbu",
        "outputId": "833a8607-1a95-44d9-841c-4a669be40776"
      },
      "execution_count": null,
      "outputs": [
        {
          "output_type": "execute_result",
          "data": {
            "text/plain": [
              "Open                 3532\n",
              "High                 3532\n",
              "Low                  3532\n",
              "Close                3532\n",
              "Volume_(BTC)         3532\n",
              "Volume_(Currency)    3532\n",
              "Weighted_Price       3532\n",
              "dtype: int64"
            ]
          },
          "metadata": {},
          "execution_count": 46
        }
      ]
    },
    {
      "cell_type": "code",
      "source": [
        "btc[btc.isnull().any(axis=1)].isnull().describe()"
      ],
      "metadata": {
        "colab": {
          "base_uri": "https://localhost:8080/",
          "height": 174
        },
        "id": "SnhZo9fJTqAg",
        "outputId": "32c8cbb0-cba6-46ed-9446-576bcb91d731"
      },
      "execution_count": null,
      "outputs": [
        {
          "output_type": "execute_result",
          "data": {
            "text/plain": [
              "        Open  High   Low Close Volume_(BTC) Volume_(Currency) Weighted_Price\n",
              "count   3532  3532  3532  3532         3532              3532           3532\n",
              "unique     1     1     1     1            1                 1              1\n",
              "top     True  True  True  True         True              True           True\n",
              "freq    3532  3532  3532  3532         3532              3532           3532"
            ],
            "text/html": [
              "\n",
              "  <div id=\"df-ca629cbe-8746-4a57-a247-66081be845cd\">\n",
              "    <div class=\"colab-df-container\">\n",
              "      <div>\n",
              "<style scoped>\n",
              "    .dataframe tbody tr th:only-of-type {\n",
              "        vertical-align: middle;\n",
              "    }\n",
              "\n",
              "    .dataframe tbody tr th {\n",
              "        vertical-align: top;\n",
              "    }\n",
              "\n",
              "    .dataframe thead th {\n",
              "        text-align: right;\n",
              "    }\n",
              "</style>\n",
              "<table border=\"1\" class=\"dataframe\">\n",
              "  <thead>\n",
              "    <tr style=\"text-align: right;\">\n",
              "      <th></th>\n",
              "      <th>Open</th>\n",
              "      <th>High</th>\n",
              "      <th>Low</th>\n",
              "      <th>Close</th>\n",
              "      <th>Volume_(BTC)</th>\n",
              "      <th>Volume_(Currency)</th>\n",
              "      <th>Weighted_Price</th>\n",
              "    </tr>\n",
              "  </thead>\n",
              "  <tbody>\n",
              "    <tr>\n",
              "      <th>count</th>\n",
              "      <td>3532</td>\n",
              "      <td>3532</td>\n",
              "      <td>3532</td>\n",
              "      <td>3532</td>\n",
              "      <td>3532</td>\n",
              "      <td>3532</td>\n",
              "      <td>3532</td>\n",
              "    </tr>\n",
              "    <tr>\n",
              "      <th>unique</th>\n",
              "      <td>1</td>\n",
              "      <td>1</td>\n",
              "      <td>1</td>\n",
              "      <td>1</td>\n",
              "      <td>1</td>\n",
              "      <td>1</td>\n",
              "      <td>1</td>\n",
              "    </tr>\n",
              "    <tr>\n",
              "      <th>top</th>\n",
              "      <td>True</td>\n",
              "      <td>True</td>\n",
              "      <td>True</td>\n",
              "      <td>True</td>\n",
              "      <td>True</td>\n",
              "      <td>True</td>\n",
              "      <td>True</td>\n",
              "    </tr>\n",
              "    <tr>\n",
              "      <th>freq</th>\n",
              "      <td>3532</td>\n",
              "      <td>3532</td>\n",
              "      <td>3532</td>\n",
              "      <td>3532</td>\n",
              "      <td>3532</td>\n",
              "      <td>3532</td>\n",
              "      <td>3532</td>\n",
              "    </tr>\n",
              "  </tbody>\n",
              "</table>\n",
              "</div>\n",
              "      <button class=\"colab-df-convert\" onclick=\"convertToInteractive('df-ca629cbe-8746-4a57-a247-66081be845cd')\"\n",
              "              title=\"Convert this dataframe to an interactive table.\"\n",
              "              style=\"display:none;\">\n",
              "        \n",
              "  <svg xmlns=\"http://www.w3.org/2000/svg\" height=\"24px\"viewBox=\"0 0 24 24\"\n",
              "       width=\"24px\">\n",
              "    <path d=\"M0 0h24v24H0V0z\" fill=\"none\"/>\n",
              "    <path d=\"M18.56 5.44l.94 2.06.94-2.06 2.06-.94-2.06-.94-.94-2.06-.94 2.06-2.06.94zm-11 1L8.5 8.5l.94-2.06 2.06-.94-2.06-.94L8.5 2.5l-.94 2.06-2.06.94zm10 10l.94 2.06.94-2.06 2.06-.94-2.06-.94-.94-2.06-.94 2.06-2.06.94z\"/><path d=\"M17.41 7.96l-1.37-1.37c-.4-.4-.92-.59-1.43-.59-.52 0-1.04.2-1.43.59L10.3 9.45l-7.72 7.72c-.78.78-.78 2.05 0 2.83L4 21.41c.39.39.9.59 1.41.59.51 0 1.02-.2 1.41-.59l7.78-7.78 2.81-2.81c.8-.78.8-2.07 0-2.86zM5.41 20L4 18.59l7.72-7.72 1.47 1.35L5.41 20z\"/>\n",
              "  </svg>\n",
              "      </button>\n",
              "      \n",
              "  <style>\n",
              "    .colab-df-container {\n",
              "      display:flex;\n",
              "      flex-wrap:wrap;\n",
              "      gap: 12px;\n",
              "    }\n",
              "\n",
              "    .colab-df-convert {\n",
              "      background-color: #E8F0FE;\n",
              "      border: none;\n",
              "      border-radius: 50%;\n",
              "      cursor: pointer;\n",
              "      display: none;\n",
              "      fill: #1967D2;\n",
              "      height: 32px;\n",
              "      padding: 0 0 0 0;\n",
              "      width: 32px;\n",
              "    }\n",
              "\n",
              "    .colab-df-convert:hover {\n",
              "      background-color: #E2EBFA;\n",
              "      box-shadow: 0px 1px 2px rgba(60, 64, 67, 0.3), 0px 1px 3px 1px rgba(60, 64, 67, 0.15);\n",
              "      fill: #174EA6;\n",
              "    }\n",
              "\n",
              "    [theme=dark] .colab-df-convert {\n",
              "      background-color: #3B4455;\n",
              "      fill: #D2E3FC;\n",
              "    }\n",
              "\n",
              "    [theme=dark] .colab-df-convert:hover {\n",
              "      background-color: #434B5C;\n",
              "      box-shadow: 0px 1px 3px 1px rgba(0, 0, 0, 0.15);\n",
              "      filter: drop-shadow(0px 1px 2px rgba(0, 0, 0, 0.3));\n",
              "      fill: #FFFFFF;\n",
              "    }\n",
              "  </style>\n",
              "\n",
              "      <script>\n",
              "        const buttonEl =\n",
              "          document.querySelector('#df-ca629cbe-8746-4a57-a247-66081be845cd button.colab-df-convert');\n",
              "        buttonEl.style.display =\n",
              "          google.colab.kernel.accessAllowed ? 'block' : 'none';\n",
              "\n",
              "        async function convertToInteractive(key) {\n",
              "          const element = document.querySelector('#df-ca629cbe-8746-4a57-a247-66081be845cd');\n",
              "          const dataTable =\n",
              "            await google.colab.kernel.invokeFunction('convertToInteractive',\n",
              "                                                     [key], {});\n",
              "          if (!dataTable) return;\n",
              "\n",
              "          const docLinkHtml = 'Like what you see? Visit the ' +\n",
              "            '<a target=\"_blank\" href=https://colab.research.google.com/notebooks/data_table.ipynb>data table notebook</a>'\n",
              "            + ' to learn more about interactive tables.';\n",
              "          element.innerHTML = '';\n",
              "          dataTable['output_type'] = 'display_data';\n",
              "          await google.colab.output.renderOutput(dataTable, element);\n",
              "          const docLink = document.createElement('div');\n",
              "          docLink.innerHTML = docLinkHtml;\n",
              "          element.appendChild(docLink);\n",
              "        }\n",
              "      </script>\n",
              "    </div>\n",
              "  </div>\n",
              "  "
            ]
          },
          "metadata": {},
          "execution_count": 47
        }
      ]
    },
    {
      "cell_type": "markdown",
      "source": [
        "#### Observation: All the null rows are having all the columns as null\n",
        "##### In all the above cells the count() method is missing on the count as in pandas count only considers non null values\n",
        "##### To overcome we can use the sum()\n"
      ],
      "metadata": {
        "id": "gSOr7lrzURqT"
      }
    },
    {
      "cell_type": "code",
      "source": [
        "btc[btc.isnull().any(axis=1)].isnull().sum()"
      ],
      "metadata": {
        "colab": {
          "base_uri": "https://localhost:8080/"
        },
        "id": "Al5Jg7KuUoSb",
        "outputId": "f9a9845d-69ec-4ebf-c14d-9fd4215cd9fb"
      },
      "execution_count": null,
      "outputs": [
        {
          "output_type": "execute_result",
          "data": {
            "text/plain": [
              "Open                 3532\n",
              "High                 3532\n",
              "Low                  3532\n",
              "Close                3532\n",
              "Volume_(BTC)         3532\n",
              "Volume_(Currency)    3532\n",
              "Weighted_Price       3532\n",
              "dtype: int64"
            ]
          },
          "metadata": {},
          "execution_count": 48
        }
      ]
    },
    {
      "cell_type": "code",
      "source": [
        "# the data for years before 2015 has most of the nan values. So we will filter out those data\n",
        "btc = btc[btc.index.year > 2015] # as index is datetime type column thus easy to extract each date component out of it\n",
        "btc.head()\n"
      ],
      "metadata": {
        "colab": {
          "base_uri": "https://localhost:8080/",
          "height": 237
        },
        "id": "1f3Jj_PaS-hO",
        "outputId": "fe268cbb-bc34-4a6b-efb8-24da8d8fcf24"
      },
      "execution_count": null,
      "outputs": [
        {
          "output_type": "execute_result",
          "data": {
            "text/plain": [
              "                           Open        High         Low       Close  \\\n",
              "Timestamp                                                             \n",
              "2016-01-01 00:00:00  431.571842  431.683947  431.350526  431.466842   \n",
              "2016-01-01 01:00:00  430.470968  430.612258  430.317742  430.464194   \n",
              "2016-01-01 02:00:00  431.021923  431.075385  430.962308  431.013462   \n",
              "2016-01-01 03:00:00  431.493784  431.681892  431.373243  431.600811   \n",
              "2016-01-01 04:00:00  434.310408  434.438163  434.135306  434.281633   \n",
              "\n",
              "                     Volume_(BTC)  Volume_(Currency)  Weighted_Price  \n",
              "Timestamp                                                             \n",
              "2016-01-01 00:00:00      1.087394         469.169648      431.486899  \n",
              "2016-01-01 01:00:00      1.006846         433.216050      430.461480  \n",
              "2016-01-01 02:00:00      0.471009         202.855008      430.992236  \n",
              "2016-01-01 03:00:00      2.026601         876.422114      431.577192  \n",
              "2016-01-01 04:00:00     17.771499        7719.402352      434.306570  "
            ],
            "text/html": [
              "\n",
              "  <div id=\"df-ac1298f5-ff23-4955-988d-b65f2fa0b3a2\">\n",
              "    <div class=\"colab-df-container\">\n",
              "      <div>\n",
              "<style scoped>\n",
              "    .dataframe tbody tr th:only-of-type {\n",
              "        vertical-align: middle;\n",
              "    }\n",
              "\n",
              "    .dataframe tbody tr th {\n",
              "        vertical-align: top;\n",
              "    }\n",
              "\n",
              "    .dataframe thead th {\n",
              "        text-align: right;\n",
              "    }\n",
              "</style>\n",
              "<table border=\"1\" class=\"dataframe\">\n",
              "  <thead>\n",
              "    <tr style=\"text-align: right;\">\n",
              "      <th></th>\n",
              "      <th>Open</th>\n",
              "      <th>High</th>\n",
              "      <th>Low</th>\n",
              "      <th>Close</th>\n",
              "      <th>Volume_(BTC)</th>\n",
              "      <th>Volume_(Currency)</th>\n",
              "      <th>Weighted_Price</th>\n",
              "    </tr>\n",
              "    <tr>\n",
              "      <th>Timestamp</th>\n",
              "      <th></th>\n",
              "      <th></th>\n",
              "      <th></th>\n",
              "      <th></th>\n",
              "      <th></th>\n",
              "      <th></th>\n",
              "      <th></th>\n",
              "    </tr>\n",
              "  </thead>\n",
              "  <tbody>\n",
              "    <tr>\n",
              "      <th>2016-01-01 00:00:00</th>\n",
              "      <td>431.571842</td>\n",
              "      <td>431.683947</td>\n",
              "      <td>431.350526</td>\n",
              "      <td>431.466842</td>\n",
              "      <td>1.087394</td>\n",
              "      <td>469.169648</td>\n",
              "      <td>431.486899</td>\n",
              "    </tr>\n",
              "    <tr>\n",
              "      <th>2016-01-01 01:00:00</th>\n",
              "      <td>430.470968</td>\n",
              "      <td>430.612258</td>\n",
              "      <td>430.317742</td>\n",
              "      <td>430.464194</td>\n",
              "      <td>1.006846</td>\n",
              "      <td>433.216050</td>\n",
              "      <td>430.461480</td>\n",
              "    </tr>\n",
              "    <tr>\n",
              "      <th>2016-01-01 02:00:00</th>\n",
              "      <td>431.021923</td>\n",
              "      <td>431.075385</td>\n",
              "      <td>430.962308</td>\n",
              "      <td>431.013462</td>\n",
              "      <td>0.471009</td>\n",
              "      <td>202.855008</td>\n",
              "      <td>430.992236</td>\n",
              "    </tr>\n",
              "    <tr>\n",
              "      <th>2016-01-01 03:00:00</th>\n",
              "      <td>431.493784</td>\n",
              "      <td>431.681892</td>\n",
              "      <td>431.373243</td>\n",
              "      <td>431.600811</td>\n",
              "      <td>2.026601</td>\n",
              "      <td>876.422114</td>\n",
              "      <td>431.577192</td>\n",
              "    </tr>\n",
              "    <tr>\n",
              "      <th>2016-01-01 04:00:00</th>\n",
              "      <td>434.310408</td>\n",
              "      <td>434.438163</td>\n",
              "      <td>434.135306</td>\n",
              "      <td>434.281633</td>\n",
              "      <td>17.771499</td>\n",
              "      <td>7719.402352</td>\n",
              "      <td>434.306570</td>\n",
              "    </tr>\n",
              "  </tbody>\n",
              "</table>\n",
              "</div>\n",
              "      <button class=\"colab-df-convert\" onclick=\"convertToInteractive('df-ac1298f5-ff23-4955-988d-b65f2fa0b3a2')\"\n",
              "              title=\"Convert this dataframe to an interactive table.\"\n",
              "              style=\"display:none;\">\n",
              "        \n",
              "  <svg xmlns=\"http://www.w3.org/2000/svg\" height=\"24px\"viewBox=\"0 0 24 24\"\n",
              "       width=\"24px\">\n",
              "    <path d=\"M0 0h24v24H0V0z\" fill=\"none\"/>\n",
              "    <path d=\"M18.56 5.44l.94 2.06.94-2.06 2.06-.94-2.06-.94-.94-2.06-.94 2.06-2.06.94zm-11 1L8.5 8.5l.94-2.06 2.06-.94-2.06-.94L8.5 2.5l-.94 2.06-2.06.94zm10 10l.94 2.06.94-2.06 2.06-.94-2.06-.94-.94-2.06-.94 2.06-2.06.94z\"/><path d=\"M17.41 7.96l-1.37-1.37c-.4-.4-.92-.59-1.43-.59-.52 0-1.04.2-1.43.59L10.3 9.45l-7.72 7.72c-.78.78-.78 2.05 0 2.83L4 21.41c.39.39.9.59 1.41.59.51 0 1.02-.2 1.41-.59l7.78-7.78 2.81-2.81c.8-.78.8-2.07 0-2.86zM5.41 20L4 18.59l7.72-7.72 1.47 1.35L5.41 20z\"/>\n",
              "  </svg>\n",
              "      </button>\n",
              "      \n",
              "  <style>\n",
              "    .colab-df-container {\n",
              "      display:flex;\n",
              "      flex-wrap:wrap;\n",
              "      gap: 12px;\n",
              "    }\n",
              "\n",
              "    .colab-df-convert {\n",
              "      background-color: #E8F0FE;\n",
              "      border: none;\n",
              "      border-radius: 50%;\n",
              "      cursor: pointer;\n",
              "      display: none;\n",
              "      fill: #1967D2;\n",
              "      height: 32px;\n",
              "      padding: 0 0 0 0;\n",
              "      width: 32px;\n",
              "    }\n",
              "\n",
              "    .colab-df-convert:hover {\n",
              "      background-color: #E2EBFA;\n",
              "      box-shadow: 0px 1px 2px rgba(60, 64, 67, 0.3), 0px 1px 3px 1px rgba(60, 64, 67, 0.15);\n",
              "      fill: #174EA6;\n",
              "    }\n",
              "\n",
              "    [theme=dark] .colab-df-convert {\n",
              "      background-color: #3B4455;\n",
              "      fill: #D2E3FC;\n",
              "    }\n",
              "\n",
              "    [theme=dark] .colab-df-convert:hover {\n",
              "      background-color: #434B5C;\n",
              "      box-shadow: 0px 1px 3px 1px rgba(0, 0, 0, 0.15);\n",
              "      filter: drop-shadow(0px 1px 2px rgba(0, 0, 0, 0.3));\n",
              "      fill: #FFFFFF;\n",
              "    }\n",
              "  </style>\n",
              "\n",
              "      <script>\n",
              "        const buttonEl =\n",
              "          document.querySelector('#df-ac1298f5-ff23-4955-988d-b65f2fa0b3a2 button.colab-df-convert');\n",
              "        buttonEl.style.display =\n",
              "          google.colab.kernel.accessAllowed ? 'block' : 'none';\n",
              "\n",
              "        async function convertToInteractive(key) {\n",
              "          const element = document.querySelector('#df-ac1298f5-ff23-4955-988d-b65f2fa0b3a2');\n",
              "          const dataTable =\n",
              "            await google.colab.kernel.invokeFunction('convertToInteractive',\n",
              "                                                     [key], {});\n",
              "          if (!dataTable) return;\n",
              "\n",
              "          const docLinkHtml = 'Like what you see? Visit the ' +\n",
              "            '<a target=\"_blank\" href=https://colab.research.google.com/notebooks/data_table.ipynb>data table notebook</a>'\n",
              "            + ' to learn more about interactive tables.';\n",
              "          element.innerHTML = '';\n",
              "          dataTable['output_type'] = 'display_data';\n",
              "          await google.colab.output.renderOutput(dataTable, element);\n",
              "          const docLink = document.createElement('div');\n",
              "          docLink.innerHTML = docLinkHtml;\n",
              "          element.appendChild(docLink);\n",
              "        }\n",
              "      </script>\n",
              "    </div>\n",
              "  </div>\n",
              "  "
            ]
          },
          "metadata": {},
          "execution_count": 49
        }
      ]
    },
    {
      "cell_type": "code",
      "source": [
        "# Do we still have null values?\n",
        "btc[btc.isnull().any(axis=1)].isnull().count()\n",
        "\n",
        "# yes, we have null values but just 4, so we can easily drop them"
      ],
      "metadata": {
        "colab": {
          "base_uri": "https://localhost:8080/"
        },
        "id": "jCixqB4JVM3w",
        "outputId": "79d15793-fe4a-46ca-9148-48dc6fde31c1"
      },
      "execution_count": null,
      "outputs": [
        {
          "output_type": "execute_result",
          "data": {
            "text/plain": [
              "Open                 4\n",
              "High                 4\n",
              "Low                  4\n",
              "Close                4\n",
              "Volume_(BTC)         4\n",
              "Volume_(Currency)    4\n",
              "Weighted_Price       4\n",
              "dtype: int64"
            ]
          },
          "metadata": {},
          "execution_count": 50
        }
      ]
    },
    {
      "cell_type": "code",
      "source": [
        "# dropping the null records\n",
        "btc = btc.dropna()\n",
        "btc.head()\n"
      ],
      "metadata": {
        "colab": {
          "base_uri": "https://localhost:8080/",
          "height": 237
        },
        "id": "pYfdKVn3V7AA",
        "outputId": "e8876d62-04b8-4eac-d288-9a604779f5a5"
      },
      "execution_count": null,
      "outputs": [
        {
          "output_type": "execute_result",
          "data": {
            "text/plain": [
              "                           Open        High         Low       Close  \\\n",
              "Timestamp                                                             \n",
              "2016-01-01 00:00:00  431.571842  431.683947  431.350526  431.466842   \n",
              "2016-01-01 01:00:00  430.470968  430.612258  430.317742  430.464194   \n",
              "2016-01-01 02:00:00  431.021923  431.075385  430.962308  431.013462   \n",
              "2016-01-01 03:00:00  431.493784  431.681892  431.373243  431.600811   \n",
              "2016-01-01 04:00:00  434.310408  434.438163  434.135306  434.281633   \n",
              "\n",
              "                     Volume_(BTC)  Volume_(Currency)  Weighted_Price  \n",
              "Timestamp                                                             \n",
              "2016-01-01 00:00:00      1.087394         469.169648      431.486899  \n",
              "2016-01-01 01:00:00      1.006846         433.216050      430.461480  \n",
              "2016-01-01 02:00:00      0.471009         202.855008      430.992236  \n",
              "2016-01-01 03:00:00      2.026601         876.422114      431.577192  \n",
              "2016-01-01 04:00:00     17.771499        7719.402352      434.306570  "
            ],
            "text/html": [
              "\n",
              "  <div id=\"df-c6d370c6-33ff-4b34-b727-d3b4c22b7814\">\n",
              "    <div class=\"colab-df-container\">\n",
              "      <div>\n",
              "<style scoped>\n",
              "    .dataframe tbody tr th:only-of-type {\n",
              "        vertical-align: middle;\n",
              "    }\n",
              "\n",
              "    .dataframe tbody tr th {\n",
              "        vertical-align: top;\n",
              "    }\n",
              "\n",
              "    .dataframe thead th {\n",
              "        text-align: right;\n",
              "    }\n",
              "</style>\n",
              "<table border=\"1\" class=\"dataframe\">\n",
              "  <thead>\n",
              "    <tr style=\"text-align: right;\">\n",
              "      <th></th>\n",
              "      <th>Open</th>\n",
              "      <th>High</th>\n",
              "      <th>Low</th>\n",
              "      <th>Close</th>\n",
              "      <th>Volume_(BTC)</th>\n",
              "      <th>Volume_(Currency)</th>\n",
              "      <th>Weighted_Price</th>\n",
              "    </tr>\n",
              "    <tr>\n",
              "      <th>Timestamp</th>\n",
              "      <th></th>\n",
              "      <th></th>\n",
              "      <th></th>\n",
              "      <th></th>\n",
              "      <th></th>\n",
              "      <th></th>\n",
              "      <th></th>\n",
              "    </tr>\n",
              "  </thead>\n",
              "  <tbody>\n",
              "    <tr>\n",
              "      <th>2016-01-01 00:00:00</th>\n",
              "      <td>431.571842</td>\n",
              "      <td>431.683947</td>\n",
              "      <td>431.350526</td>\n",
              "      <td>431.466842</td>\n",
              "      <td>1.087394</td>\n",
              "      <td>469.169648</td>\n",
              "      <td>431.486899</td>\n",
              "    </tr>\n",
              "    <tr>\n",
              "      <th>2016-01-01 01:00:00</th>\n",
              "      <td>430.470968</td>\n",
              "      <td>430.612258</td>\n",
              "      <td>430.317742</td>\n",
              "      <td>430.464194</td>\n",
              "      <td>1.006846</td>\n",
              "      <td>433.216050</td>\n",
              "      <td>430.461480</td>\n",
              "    </tr>\n",
              "    <tr>\n",
              "      <th>2016-01-01 02:00:00</th>\n",
              "      <td>431.021923</td>\n",
              "      <td>431.075385</td>\n",
              "      <td>430.962308</td>\n",
              "      <td>431.013462</td>\n",
              "      <td>0.471009</td>\n",
              "      <td>202.855008</td>\n",
              "      <td>430.992236</td>\n",
              "    </tr>\n",
              "    <tr>\n",
              "      <th>2016-01-01 03:00:00</th>\n",
              "      <td>431.493784</td>\n",
              "      <td>431.681892</td>\n",
              "      <td>431.373243</td>\n",
              "      <td>431.600811</td>\n",
              "      <td>2.026601</td>\n",
              "      <td>876.422114</td>\n",
              "      <td>431.577192</td>\n",
              "    </tr>\n",
              "    <tr>\n",
              "      <th>2016-01-01 04:00:00</th>\n",
              "      <td>434.310408</td>\n",
              "      <td>434.438163</td>\n",
              "      <td>434.135306</td>\n",
              "      <td>434.281633</td>\n",
              "      <td>17.771499</td>\n",
              "      <td>7719.402352</td>\n",
              "      <td>434.306570</td>\n",
              "    </tr>\n",
              "  </tbody>\n",
              "</table>\n",
              "</div>\n",
              "      <button class=\"colab-df-convert\" onclick=\"convertToInteractive('df-c6d370c6-33ff-4b34-b727-d3b4c22b7814')\"\n",
              "              title=\"Convert this dataframe to an interactive table.\"\n",
              "              style=\"display:none;\">\n",
              "        \n",
              "  <svg xmlns=\"http://www.w3.org/2000/svg\" height=\"24px\"viewBox=\"0 0 24 24\"\n",
              "       width=\"24px\">\n",
              "    <path d=\"M0 0h24v24H0V0z\" fill=\"none\"/>\n",
              "    <path d=\"M18.56 5.44l.94 2.06.94-2.06 2.06-.94-2.06-.94-.94-2.06-.94 2.06-2.06.94zm-11 1L8.5 8.5l.94-2.06 2.06-.94-2.06-.94L8.5 2.5l-.94 2.06-2.06.94zm10 10l.94 2.06.94-2.06 2.06-.94-2.06-.94-.94-2.06-.94 2.06-2.06.94z\"/><path d=\"M17.41 7.96l-1.37-1.37c-.4-.4-.92-.59-1.43-.59-.52 0-1.04.2-1.43.59L10.3 9.45l-7.72 7.72c-.78.78-.78 2.05 0 2.83L4 21.41c.39.39.9.59 1.41.59.51 0 1.02-.2 1.41-.59l7.78-7.78 2.81-2.81c.8-.78.8-2.07 0-2.86zM5.41 20L4 18.59l7.72-7.72 1.47 1.35L5.41 20z\"/>\n",
              "  </svg>\n",
              "      </button>\n",
              "      \n",
              "  <style>\n",
              "    .colab-df-container {\n",
              "      display:flex;\n",
              "      flex-wrap:wrap;\n",
              "      gap: 12px;\n",
              "    }\n",
              "\n",
              "    .colab-df-convert {\n",
              "      background-color: #E8F0FE;\n",
              "      border: none;\n",
              "      border-radius: 50%;\n",
              "      cursor: pointer;\n",
              "      display: none;\n",
              "      fill: #1967D2;\n",
              "      height: 32px;\n",
              "      padding: 0 0 0 0;\n",
              "      width: 32px;\n",
              "    }\n",
              "\n",
              "    .colab-df-convert:hover {\n",
              "      background-color: #E2EBFA;\n",
              "      box-shadow: 0px 1px 2px rgba(60, 64, 67, 0.3), 0px 1px 3px 1px rgba(60, 64, 67, 0.15);\n",
              "      fill: #174EA6;\n",
              "    }\n",
              "\n",
              "    [theme=dark] .colab-df-convert {\n",
              "      background-color: #3B4455;\n",
              "      fill: #D2E3FC;\n",
              "    }\n",
              "\n",
              "    [theme=dark] .colab-df-convert:hover {\n",
              "      background-color: #434B5C;\n",
              "      box-shadow: 0px 1px 3px 1px rgba(0, 0, 0, 0.15);\n",
              "      filter: drop-shadow(0px 1px 2px rgba(0, 0, 0, 0.3));\n",
              "      fill: #FFFFFF;\n",
              "    }\n",
              "  </style>\n",
              "\n",
              "      <script>\n",
              "        const buttonEl =\n",
              "          document.querySelector('#df-c6d370c6-33ff-4b34-b727-d3b4c22b7814 button.colab-df-convert');\n",
              "        buttonEl.style.display =\n",
              "          google.colab.kernel.accessAllowed ? 'block' : 'none';\n",
              "\n",
              "        async function convertToInteractive(key) {\n",
              "          const element = document.querySelector('#df-c6d370c6-33ff-4b34-b727-d3b4c22b7814');\n",
              "          const dataTable =\n",
              "            await google.colab.kernel.invokeFunction('convertToInteractive',\n",
              "                                                     [key], {});\n",
              "          if (!dataTable) return;\n",
              "\n",
              "          const docLinkHtml = 'Like what you see? Visit the ' +\n",
              "            '<a target=\"_blank\" href=https://colab.research.google.com/notebooks/data_table.ipynb>data table notebook</a>'\n",
              "            + ' to learn more about interactive tables.';\n",
              "          element.innerHTML = '';\n",
              "          dataTable['output_type'] = 'display_data';\n",
              "          await google.colab.output.renderOutput(dataTable, element);\n",
              "          const docLink = document.createElement('div');\n",
              "          docLink.innerHTML = docLinkHtml;\n",
              "          element.appendChild(docLink);\n",
              "        }\n",
              "      </script>\n",
              "    </div>\n",
              "  </div>\n",
              "  "
            ]
          },
          "metadata": {},
          "execution_count": 51
        }
      ]
    },
    {
      "cell_type": "code",
      "source": [
        "# confirming is we still have null values\n",
        "btc[btc.isnull().any(axis=1)].isnull().sum()\n"
      ],
      "metadata": {
        "colab": {
          "base_uri": "https://localhost:8080/"
        },
        "id": "rc2JwG-aVky_",
        "outputId": "801eccdd-0b24-4166-9f17-d3c9abdef3de"
      },
      "execution_count": null,
      "outputs": [
        {
          "output_type": "execute_result",
          "data": {
            "text/plain": [
              "Open                 0.0\n",
              "High                 0.0\n",
              "Low                  0.0\n",
              "Close                0.0\n",
              "Volume_(BTC)         0.0\n",
              "Volume_(Currency)    0.0\n",
              "Weighted_Price       0.0\n",
              "dtype: float64"
            ]
          },
          "metadata": {},
          "execution_count": 52
        }
      ]
    },
    {
      "cell_type": "code",
      "source": [
        "btc.describe()"
      ],
      "metadata": {
        "colab": {
          "base_uri": "https://localhost:8080/",
          "height": 300
        },
        "id": "k5tDjOnQWRQW",
        "outputId": "bfd288e3-1b07-45dc-9281-dd345ca8c21d"
      },
      "execution_count": null,
      "outputs": [
        {
          "output_type": "execute_result",
          "data": {
            "text/plain": [
              "               Open          High           Low         Close  Volume_(BTC)  \\\n",
              "count  45981.000000  45981.000000  45981.000000  45981.000000  45981.000000   \n",
              "mean    7896.779379   7902.375884   7890.926469   7896.768154      6.717475   \n",
              "std     9587.179188   9595.099166   9579.064379   9587.318156      7.858661   \n",
              "min      358.262414    358.673793    357.663276    358.174310      0.017548   \n",
              "25%     1272.792778   1273.177778   1272.604722   1272.849167      2.323864   \n",
              "50%     6525.464898   6528.668085   6522.516863   6525.332041      4.391451   \n",
              "75%     9494.180333   9499.169000   9489.318833   9494.198333      8.216645   \n",
              "max    61365.363833  61406.334167  61325.110500  61370.448167    228.220477   \n",
              "\n",
              "       Volume_(Currency)  Weighted_Price  \n",
              "count       4.598100e+04    45981.000000  \n",
              "mean        5.316373e+04     7896.671885  \n",
              "std         1.010684e+05     9586.880428  \n",
              "min         5.522772e+01      358.134143  \n",
              "25%         6.372295e+03     1272.834702  \n",
              "50%         2.158347e+04     6525.162787  \n",
              "75%         5.812929e+04     9494.596766  \n",
              "max         4.125142e+06    61363.600604  "
            ],
            "text/html": [
              "\n",
              "  <div id=\"df-8a3bcd4d-1f41-457e-bb26-5715692b604d\">\n",
              "    <div class=\"colab-df-container\">\n",
              "      <div>\n",
              "<style scoped>\n",
              "    .dataframe tbody tr th:only-of-type {\n",
              "        vertical-align: middle;\n",
              "    }\n",
              "\n",
              "    .dataframe tbody tr th {\n",
              "        vertical-align: top;\n",
              "    }\n",
              "\n",
              "    .dataframe thead th {\n",
              "        text-align: right;\n",
              "    }\n",
              "</style>\n",
              "<table border=\"1\" class=\"dataframe\">\n",
              "  <thead>\n",
              "    <tr style=\"text-align: right;\">\n",
              "      <th></th>\n",
              "      <th>Open</th>\n",
              "      <th>High</th>\n",
              "      <th>Low</th>\n",
              "      <th>Close</th>\n",
              "      <th>Volume_(BTC)</th>\n",
              "      <th>Volume_(Currency)</th>\n",
              "      <th>Weighted_Price</th>\n",
              "    </tr>\n",
              "  </thead>\n",
              "  <tbody>\n",
              "    <tr>\n",
              "      <th>count</th>\n",
              "      <td>45981.000000</td>\n",
              "      <td>45981.000000</td>\n",
              "      <td>45981.000000</td>\n",
              "      <td>45981.000000</td>\n",
              "      <td>45981.000000</td>\n",
              "      <td>4.598100e+04</td>\n",
              "      <td>45981.000000</td>\n",
              "    </tr>\n",
              "    <tr>\n",
              "      <th>mean</th>\n",
              "      <td>7896.779379</td>\n",
              "      <td>7902.375884</td>\n",
              "      <td>7890.926469</td>\n",
              "      <td>7896.768154</td>\n",
              "      <td>6.717475</td>\n",
              "      <td>5.316373e+04</td>\n",
              "      <td>7896.671885</td>\n",
              "    </tr>\n",
              "    <tr>\n",
              "      <th>std</th>\n",
              "      <td>9587.179188</td>\n",
              "      <td>9595.099166</td>\n",
              "      <td>9579.064379</td>\n",
              "      <td>9587.318156</td>\n",
              "      <td>7.858661</td>\n",
              "      <td>1.010684e+05</td>\n",
              "      <td>9586.880428</td>\n",
              "    </tr>\n",
              "    <tr>\n",
              "      <th>min</th>\n",
              "      <td>358.262414</td>\n",
              "      <td>358.673793</td>\n",
              "      <td>357.663276</td>\n",
              "      <td>358.174310</td>\n",
              "      <td>0.017548</td>\n",
              "      <td>5.522772e+01</td>\n",
              "      <td>358.134143</td>\n",
              "    </tr>\n",
              "    <tr>\n",
              "      <th>25%</th>\n",
              "      <td>1272.792778</td>\n",
              "      <td>1273.177778</td>\n",
              "      <td>1272.604722</td>\n",
              "      <td>1272.849167</td>\n",
              "      <td>2.323864</td>\n",
              "      <td>6.372295e+03</td>\n",
              "      <td>1272.834702</td>\n",
              "    </tr>\n",
              "    <tr>\n",
              "      <th>50%</th>\n",
              "      <td>6525.464898</td>\n",
              "      <td>6528.668085</td>\n",
              "      <td>6522.516863</td>\n",
              "      <td>6525.332041</td>\n",
              "      <td>4.391451</td>\n",
              "      <td>2.158347e+04</td>\n",
              "      <td>6525.162787</td>\n",
              "    </tr>\n",
              "    <tr>\n",
              "      <th>75%</th>\n",
              "      <td>9494.180333</td>\n",
              "      <td>9499.169000</td>\n",
              "      <td>9489.318833</td>\n",
              "      <td>9494.198333</td>\n",
              "      <td>8.216645</td>\n",
              "      <td>5.812929e+04</td>\n",
              "      <td>9494.596766</td>\n",
              "    </tr>\n",
              "    <tr>\n",
              "      <th>max</th>\n",
              "      <td>61365.363833</td>\n",
              "      <td>61406.334167</td>\n",
              "      <td>61325.110500</td>\n",
              "      <td>61370.448167</td>\n",
              "      <td>228.220477</td>\n",
              "      <td>4.125142e+06</td>\n",
              "      <td>61363.600604</td>\n",
              "    </tr>\n",
              "  </tbody>\n",
              "</table>\n",
              "</div>\n",
              "      <button class=\"colab-df-convert\" onclick=\"convertToInteractive('df-8a3bcd4d-1f41-457e-bb26-5715692b604d')\"\n",
              "              title=\"Convert this dataframe to an interactive table.\"\n",
              "              style=\"display:none;\">\n",
              "        \n",
              "  <svg xmlns=\"http://www.w3.org/2000/svg\" height=\"24px\"viewBox=\"0 0 24 24\"\n",
              "       width=\"24px\">\n",
              "    <path d=\"M0 0h24v24H0V0z\" fill=\"none\"/>\n",
              "    <path d=\"M18.56 5.44l.94 2.06.94-2.06 2.06-.94-2.06-.94-.94-2.06-.94 2.06-2.06.94zm-11 1L8.5 8.5l.94-2.06 2.06-.94-2.06-.94L8.5 2.5l-.94 2.06-2.06.94zm10 10l.94 2.06.94-2.06 2.06-.94-2.06-.94-.94-2.06-.94 2.06-2.06.94z\"/><path d=\"M17.41 7.96l-1.37-1.37c-.4-.4-.92-.59-1.43-.59-.52 0-1.04.2-1.43.59L10.3 9.45l-7.72 7.72c-.78.78-.78 2.05 0 2.83L4 21.41c.39.39.9.59 1.41.59.51 0 1.02-.2 1.41-.59l7.78-7.78 2.81-2.81c.8-.78.8-2.07 0-2.86zM5.41 20L4 18.59l7.72-7.72 1.47 1.35L5.41 20z\"/>\n",
              "  </svg>\n",
              "      </button>\n",
              "      \n",
              "  <style>\n",
              "    .colab-df-container {\n",
              "      display:flex;\n",
              "      flex-wrap:wrap;\n",
              "      gap: 12px;\n",
              "    }\n",
              "\n",
              "    .colab-df-convert {\n",
              "      background-color: #E8F0FE;\n",
              "      border: none;\n",
              "      border-radius: 50%;\n",
              "      cursor: pointer;\n",
              "      display: none;\n",
              "      fill: #1967D2;\n",
              "      height: 32px;\n",
              "      padding: 0 0 0 0;\n",
              "      width: 32px;\n",
              "    }\n",
              "\n",
              "    .colab-df-convert:hover {\n",
              "      background-color: #E2EBFA;\n",
              "      box-shadow: 0px 1px 2px rgba(60, 64, 67, 0.3), 0px 1px 3px 1px rgba(60, 64, 67, 0.15);\n",
              "      fill: #174EA6;\n",
              "    }\n",
              "\n",
              "    [theme=dark] .colab-df-convert {\n",
              "      background-color: #3B4455;\n",
              "      fill: #D2E3FC;\n",
              "    }\n",
              "\n",
              "    [theme=dark] .colab-df-convert:hover {\n",
              "      background-color: #434B5C;\n",
              "      box-shadow: 0px 1px 3px 1px rgba(0, 0, 0, 0.15);\n",
              "      filter: drop-shadow(0px 1px 2px rgba(0, 0, 0, 0.3));\n",
              "      fill: #FFFFFF;\n",
              "    }\n",
              "  </style>\n",
              "\n",
              "      <script>\n",
              "        const buttonEl =\n",
              "          document.querySelector('#df-8a3bcd4d-1f41-457e-bb26-5715692b604d button.colab-df-convert');\n",
              "        buttonEl.style.display =\n",
              "          google.colab.kernel.accessAllowed ? 'block' : 'none';\n",
              "\n",
              "        async function convertToInteractive(key) {\n",
              "          const element = document.querySelector('#df-8a3bcd4d-1f41-457e-bb26-5715692b604d');\n",
              "          const dataTable =\n",
              "            await google.colab.kernel.invokeFunction('convertToInteractive',\n",
              "                                                     [key], {});\n",
              "          if (!dataTable) return;\n",
              "\n",
              "          const docLinkHtml = 'Like what you see? Visit the ' +\n",
              "            '<a target=\"_blank\" href=https://colab.research.google.com/notebooks/data_table.ipynb>data table notebook</a>'\n",
              "            + ' to learn more about interactive tables.';\n",
              "          element.innerHTML = '';\n",
              "          dataTable['output_type'] = 'display_data';\n",
              "          await google.colab.output.renderOutput(dataTable, element);\n",
              "          const docLink = document.createElement('div');\n",
              "          docLink.innerHTML = docLinkHtml;\n",
              "          element.appendChild(docLink);\n",
              "        }\n",
              "      </script>\n",
              "    </div>\n",
              "  </div>\n",
              "  "
            ]
          },
          "metadata": {},
          "execution_count": 53
        }
      ]
    },
    {
      "cell_type": "code",
      "source": [
        "# playing with the describe dataframe\n",
        "btc_describe = btc.describe()\n",
        "# btc_describe['Open']\n",
        "# btc_describe.index # Index(['count', 'mean', 'std', 'min', '25%', '50%', '75%', 'max'], dtype='object')\n",
        "btc_describe.loc['mean','Open']"
      ],
      "metadata": {
        "colab": {
          "base_uri": "https://localhost:8080/"
        },
        "id": "_SFw64xxWh_v",
        "outputId": "72873e41-218e-41fd-f43f-58d7933adc62"
      },
      "execution_count": null,
      "outputs": [
        {
          "output_type": "execute_result",
          "data": {
            "text/plain": [
              "7896.779378762622"
            ]
          },
          "metadata": {},
          "execution_count": 54
        }
      ]
    },
    {
      "cell_type": "code",
      "source": [
        "# so we have dropped below number of rows\n",
        "77534.000000 - 45981.000000"
      ],
      "metadata": {
        "colab": {
          "base_uri": "https://localhost:8080/"
        },
        "id": "0RwGTUr1WTWH",
        "outputId": "4ab6b852-9170-4220-c333-b303250bb711"
      },
      "execution_count": null,
      "outputs": [
        {
          "output_type": "execute_result",
          "data": {
            "text/plain": [
              "31553.0"
            ]
          },
          "metadata": {},
          "execution_count": 55
        }
      ]
    },
    {
      "cell_type": "markdown",
      "source": [
        "#### Statistical Test\n",
        "\n",
        "\n",
        "*   Augmented Dickey Fuller test (ADF Test) is a common statistical test used to test whether a given Time series is stationary or not.\n",
        "*   Unit root is a characteristic of a time series that makes it non-stationary.\n",
        "*   number of unit roots contained in the series corresponds to the number of differencing operations required to make the series stationary.\n",
        "*   Null Hypothesis: TS is non-stationary\n",
        "*   Alternate Hypothesis: TS is stationary\n",
        "\n",
        "\n",
        "\n",
        "\n",
        "\n"
      ],
      "metadata": {
        "id": "2fsx1I6bcU8B"
      }
    },
    {
      "cell_type": "code",
      "source": [
        "# importing libraries related to stats and plotting\n",
        "import statsmodels.api as sm\n",
        "import matplotlib.pyplot as plt\n",
        "import numpy as np\n"
      ],
      "metadata": {
        "id": "5qlsBG6AWfVf"
      },
      "execution_count": null,
      "outputs": []
    },
    {
      "cell_type": "code",
      "source": [
        "# log transformation to convert the data, trying to make the little bit more stationary\n",
        "# resampling to weekly data, \"W\", this is  the trick to convert daily to weekly data\n",
        "# log1p handles the problem that comes when we have 0 as denominator\n",
        "btc[\"Weighted_Price_log\"] = np.log1p(btc.Weighted_Price)\n",
        "btc.head()"
      ],
      "metadata": {
        "colab": {
          "base_uri": "https://localhost:8080/",
          "height": 347
        },
        "id": "kxoef9dbpBv3",
        "outputId": "8b0402fa-4dfd-4ea0-8d4d-159aab3b01ed"
      },
      "execution_count": null,
      "outputs": [
        {
          "output_type": "stream",
          "name": "stderr",
          "text": [
            "/usr/local/lib/python3.7/dist-packages/ipykernel_launcher.py:4: SettingWithCopyWarning: \n",
            "A value is trying to be set on a copy of a slice from a DataFrame.\n",
            "Try using .loc[row_indexer,col_indexer] = value instead\n",
            "\n",
            "See the caveats in the documentation: https://pandas.pydata.org/pandas-docs/stable/user_guide/indexing.html#returning-a-view-versus-a-copy\n",
            "  after removing the cwd from sys.path.\n"
          ]
        },
        {
          "output_type": "execute_result",
          "data": {
            "text/plain": [
              "                           Open        High         Low       Close  \\\n",
              "Timestamp                                                             \n",
              "2016-01-01 00:00:00  431.571842  431.683947  431.350526  431.466842   \n",
              "2016-01-01 01:00:00  430.470968  430.612258  430.317742  430.464194   \n",
              "2016-01-01 02:00:00  431.021923  431.075385  430.962308  431.013462   \n",
              "2016-01-01 03:00:00  431.493784  431.681892  431.373243  431.600811   \n",
              "2016-01-01 04:00:00  434.310408  434.438163  434.135306  434.281633   \n",
              "\n",
              "                     Volume_(BTC)  Volume_(Currency)  Weighted_Price  \\\n",
              "Timestamp                                                              \n",
              "2016-01-01 00:00:00      1.087394         469.169648      431.486899   \n",
              "2016-01-01 01:00:00      1.006846         433.216050      430.461480   \n",
              "2016-01-01 02:00:00      0.471009         202.855008      430.992236   \n",
              "2016-01-01 03:00:00      2.026601         876.422114      431.577192   \n",
              "2016-01-01 04:00:00     17.771499        7719.402352      434.306570   \n",
              "\n",
              "                     Weighted_Price_log  \n",
              "Timestamp                                \n",
              "2016-01-01 00:00:00            6.069552  \n",
              "2016-01-01 01:00:00            6.067178  \n",
              "2016-01-01 02:00:00            6.068408  \n",
              "2016-01-01 03:00:00            6.069761  \n",
              "2016-01-01 04:00:00            6.076051  "
            ],
            "text/html": [
              "\n",
              "  <div id=\"df-05e89410-3985-496c-a6be-eee2db36556e\">\n",
              "    <div class=\"colab-df-container\">\n",
              "      <div>\n",
              "<style scoped>\n",
              "    .dataframe tbody tr th:only-of-type {\n",
              "        vertical-align: middle;\n",
              "    }\n",
              "\n",
              "    .dataframe tbody tr th {\n",
              "        vertical-align: top;\n",
              "    }\n",
              "\n",
              "    .dataframe thead th {\n",
              "        text-align: right;\n",
              "    }\n",
              "</style>\n",
              "<table border=\"1\" class=\"dataframe\">\n",
              "  <thead>\n",
              "    <tr style=\"text-align: right;\">\n",
              "      <th></th>\n",
              "      <th>Open</th>\n",
              "      <th>High</th>\n",
              "      <th>Low</th>\n",
              "      <th>Close</th>\n",
              "      <th>Volume_(BTC)</th>\n",
              "      <th>Volume_(Currency)</th>\n",
              "      <th>Weighted_Price</th>\n",
              "      <th>Weighted_Price_log</th>\n",
              "    </tr>\n",
              "    <tr>\n",
              "      <th>Timestamp</th>\n",
              "      <th></th>\n",
              "      <th></th>\n",
              "      <th></th>\n",
              "      <th></th>\n",
              "      <th></th>\n",
              "      <th></th>\n",
              "      <th></th>\n",
              "      <th></th>\n",
              "    </tr>\n",
              "  </thead>\n",
              "  <tbody>\n",
              "    <tr>\n",
              "      <th>2016-01-01 00:00:00</th>\n",
              "      <td>431.571842</td>\n",
              "      <td>431.683947</td>\n",
              "      <td>431.350526</td>\n",
              "      <td>431.466842</td>\n",
              "      <td>1.087394</td>\n",
              "      <td>469.169648</td>\n",
              "      <td>431.486899</td>\n",
              "      <td>6.069552</td>\n",
              "    </tr>\n",
              "    <tr>\n",
              "      <th>2016-01-01 01:00:00</th>\n",
              "      <td>430.470968</td>\n",
              "      <td>430.612258</td>\n",
              "      <td>430.317742</td>\n",
              "      <td>430.464194</td>\n",
              "      <td>1.006846</td>\n",
              "      <td>433.216050</td>\n",
              "      <td>430.461480</td>\n",
              "      <td>6.067178</td>\n",
              "    </tr>\n",
              "    <tr>\n",
              "      <th>2016-01-01 02:00:00</th>\n",
              "      <td>431.021923</td>\n",
              "      <td>431.075385</td>\n",
              "      <td>430.962308</td>\n",
              "      <td>431.013462</td>\n",
              "      <td>0.471009</td>\n",
              "      <td>202.855008</td>\n",
              "      <td>430.992236</td>\n",
              "      <td>6.068408</td>\n",
              "    </tr>\n",
              "    <tr>\n",
              "      <th>2016-01-01 03:00:00</th>\n",
              "      <td>431.493784</td>\n",
              "      <td>431.681892</td>\n",
              "      <td>431.373243</td>\n",
              "      <td>431.600811</td>\n",
              "      <td>2.026601</td>\n",
              "      <td>876.422114</td>\n",
              "      <td>431.577192</td>\n",
              "      <td>6.069761</td>\n",
              "    </tr>\n",
              "    <tr>\n",
              "      <th>2016-01-01 04:00:00</th>\n",
              "      <td>434.310408</td>\n",
              "      <td>434.438163</td>\n",
              "      <td>434.135306</td>\n",
              "      <td>434.281633</td>\n",
              "      <td>17.771499</td>\n",
              "      <td>7719.402352</td>\n",
              "      <td>434.306570</td>\n",
              "      <td>6.076051</td>\n",
              "    </tr>\n",
              "  </tbody>\n",
              "</table>\n",
              "</div>\n",
              "      <button class=\"colab-df-convert\" onclick=\"convertToInteractive('df-05e89410-3985-496c-a6be-eee2db36556e')\"\n",
              "              title=\"Convert this dataframe to an interactive table.\"\n",
              "              style=\"display:none;\">\n",
              "        \n",
              "  <svg xmlns=\"http://www.w3.org/2000/svg\" height=\"24px\"viewBox=\"0 0 24 24\"\n",
              "       width=\"24px\">\n",
              "    <path d=\"M0 0h24v24H0V0z\" fill=\"none\"/>\n",
              "    <path d=\"M18.56 5.44l.94 2.06.94-2.06 2.06-.94-2.06-.94-.94-2.06-.94 2.06-2.06.94zm-11 1L8.5 8.5l.94-2.06 2.06-.94-2.06-.94L8.5 2.5l-.94 2.06-2.06.94zm10 10l.94 2.06.94-2.06 2.06-.94-2.06-.94-.94-2.06-.94 2.06-2.06.94z\"/><path d=\"M17.41 7.96l-1.37-1.37c-.4-.4-.92-.59-1.43-.59-.52 0-1.04.2-1.43.59L10.3 9.45l-7.72 7.72c-.78.78-.78 2.05 0 2.83L4 21.41c.39.39.9.59 1.41.59.51 0 1.02-.2 1.41-.59l7.78-7.78 2.81-2.81c.8-.78.8-2.07 0-2.86zM5.41 20L4 18.59l7.72-7.72 1.47 1.35L5.41 20z\"/>\n",
              "  </svg>\n",
              "      </button>\n",
              "      \n",
              "  <style>\n",
              "    .colab-df-container {\n",
              "      display:flex;\n",
              "      flex-wrap:wrap;\n",
              "      gap: 12px;\n",
              "    }\n",
              "\n",
              "    .colab-df-convert {\n",
              "      background-color: #E8F0FE;\n",
              "      border: none;\n",
              "      border-radius: 50%;\n",
              "      cursor: pointer;\n",
              "      display: none;\n",
              "      fill: #1967D2;\n",
              "      height: 32px;\n",
              "      padding: 0 0 0 0;\n",
              "      width: 32px;\n",
              "    }\n",
              "\n",
              "    .colab-df-convert:hover {\n",
              "      background-color: #E2EBFA;\n",
              "      box-shadow: 0px 1px 2px rgba(60, 64, 67, 0.3), 0px 1px 3px 1px rgba(60, 64, 67, 0.15);\n",
              "      fill: #174EA6;\n",
              "    }\n",
              "\n",
              "    [theme=dark] .colab-df-convert {\n",
              "      background-color: #3B4455;\n",
              "      fill: #D2E3FC;\n",
              "    }\n",
              "\n",
              "    [theme=dark] .colab-df-convert:hover {\n",
              "      background-color: #434B5C;\n",
              "      box-shadow: 0px 1px 3px 1px rgba(0, 0, 0, 0.15);\n",
              "      filter: drop-shadow(0px 1px 2px rgba(0, 0, 0, 0.3));\n",
              "      fill: #FFFFFF;\n",
              "    }\n",
              "  </style>\n",
              "\n",
              "      <script>\n",
              "        const buttonEl =\n",
              "          document.querySelector('#df-05e89410-3985-496c-a6be-eee2db36556e button.colab-df-convert');\n",
              "        buttonEl.style.display =\n",
              "          google.colab.kernel.accessAllowed ? 'block' : 'none';\n",
              "\n",
              "        async function convertToInteractive(key) {\n",
              "          const element = document.querySelector('#df-05e89410-3985-496c-a6be-eee2db36556e');\n",
              "          const dataTable =\n",
              "            await google.colab.kernel.invokeFunction('convertToInteractive',\n",
              "                                                     [key], {});\n",
              "          if (!dataTable) return;\n",
              "\n",
              "          const docLinkHtml = 'Like what you see? Visit the ' +\n",
              "            '<a target=\"_blank\" href=https://colab.research.google.com/notebooks/data_table.ipynb>data table notebook</a>'\n",
              "            + ' to learn more about interactive tables.';\n",
              "          element.innerHTML = '';\n",
              "          dataTable['output_type'] = 'display_data';\n",
              "          await google.colab.output.renderOutput(dataTable, element);\n",
              "          const docLink = document.createElement('div');\n",
              "          docLink.innerHTML = docLinkHtml;\n",
              "          element.appendChild(docLink);\n",
              "        }\n",
              "      </script>\n",
              "    </div>\n",
              "  </div>\n",
              "  "
            ]
          },
          "metadata": {},
          "execution_count": 57
        }
      ]
    },
    {
      "cell_type": "code",
      "source": [
        "# plotting the seasonal decomposition on non-log transformed column\n",
        "plt.figure(figsize=[20,10])\n",
        "sm.tsa.seasonal_decompose(btc.resample(\"W\").median().Weighted_Price).plot()\n",
        "plt.show()"
      ],
      "metadata": {
        "colab": {
          "base_uri": "https://localhost:8080/",
          "height": 316
        },
        "id": "ygH1Tvb6pbrW",
        "outputId": "7fa545fa-4671-4d32-e5f8-42c982b7131a"
      },
      "execution_count": null,
      "outputs": [
        {
          "output_type": "display_data",
          "data": {
            "text/plain": [
              "<Figure size 1440x720 with 0 Axes>"
            ]
          },
          "metadata": {}
        },
        {
          "output_type": "display_data",
          "data": {
            "text/plain": [
              "<Figure size 432x288 with 4 Axes>"
            ],
            "image/png": "[encoded data removed]"
          },
          "metadata": {
            "needs_background": "light"
          }
        }
      ]
    },
    {
      "cell_type": "code",
      "source": [
        "# seasonal decomposition on weekly mean\n",
        "plt.figure(figsize=[20,10])\n",
        "sm.tsa.seasonal_decompose(btc.resample(\"W\").mean().Weighted_Price).plot()\n",
        "plt.show()"
      ],
      "metadata": {
        "colab": {
          "base_uri": "https://localhost:8080/",
          "height": 316
        },
        "id": "_rywnoCTrEXH",
        "outputId": "66e65b34-2d27-452a-af4f-838a2c370ad1"
      },
      "execution_count": null,
      "outputs": [
        {
          "output_type": "display_data",
          "data": {
            "text/plain": [
              "<Figure size 1440x720 with 0 Axes>"
            ]
          },
          "metadata": {}
        },
        {
          "output_type": "display_data",
          "data": {
            "text/plain": [
              "<Figure size 432x288 with 4 Axes>"
            ],
            "image/png": "[encoded data removed]"
          },
          "metadata": {
            "needs_background": "light"
          }
        }
      ]
    },
    {
      "cell_type": "code",
      "source": [
        "# ADF test to find out whether the data is stationary or not\n",
        "adf_hypothesis = sm.tsa.stattools.adfuller(btc.resample(\"W\").mean().Weighted_Price)\n",
        "\n",
        "print(f'ADF Statistics: {adf_hypothesis[0]:.2f}')\n",
        "print(f'p-value: {adf_hypothesis[1]:.2f}')\n",
        "print('Critical Values:')\n",
        "for key, value in adf_hypothesis[4].items():\n",
        "\tprint(f'\\t {key}: {value:.2f}')\n",
        " \n",
        " # since the p-value is much much greater than 0.05, we failed to reject the null hypothesis (the time series is non-stationary which was our null hypothesis)"
      ],
      "metadata": {
        "colab": {
          "base_uri": "https://localhost:8080/"
        },
        "id": "0cJ0kclQshez",
        "outputId": "36176442-25ae-426c-d540-47c79598578a"
      },
      "execution_count": null,
      "outputs": [
        {
          "output_type": "stream",
          "name": "stdout",
          "text": [
            "ADF Statistics: 1.69\n",
            "p-value: 1.00\n",
            "Critical Values:\n",
            "\t 1%: -3.46\n",
            "\t 5%: -2.87\n",
            "\t 10%: -2.57\n"
          ]
        }
      ]
    },
    {
      "cell_type": "code",
      "source": [
        "# checking the hypothesis (adf) over the log transformed column\n",
        "# plotting seasonal decomposition of time series into its trend, seasonality and residual components\n",
        "plt.figure(figsize=[20,10])\n",
        "sm.tsa.seasonal_decompose(btc.resample(\"W\").median().Weighted_Price_log).plot()\n",
        "plt.show()\n",
        "\n"
      ],
      "metadata": {
        "colab": {
          "base_uri": "https://localhost:8080/",
          "height": 315
        },
        "id": "EvkAMwxdpdD-",
        "outputId": "f5670ca3-2354-4fe9-ea02-5b1e3791dea3"
      },
      "execution_count": null,
      "outputs": [
        {
          "output_type": "display_data",
          "data": {
            "text/plain": [
              "<Figure size 1440x720 with 0 Axes>"
            ]
          },
          "metadata": {}
        },
        {
          "output_type": "display_data",
          "data": {
            "text/plain": [
              "<Figure size 432x288 with 4 Axes>"
            ],
            "image/png": "[encoded data removed]"
          },
          "metadata": {
            "needs_background": "light"
          }
        }
      ]
    },
    {
      "cell_type": "code",
      "source": [
        "\n",
        "# Hypothesis testing to check the stationarity on this log transformed data\n",
        "adf_hypothesis_log = sm.tsa.stattools.adfuller(btc.resample(\"W\").mean().Weighted_Price_log)\n",
        "\n",
        "print(f'ADF Statistics: {adf_hypothesis_log[0]:.2f}')\n",
        "print(f'p-value: {adf_hypothesis_log[1]:.2f}')\n",
        "print('Critical Values:')\n",
        "for key, value in adf_hypothesis[4].items():\n",
        "\tprint(f'\\t {key}: {value:.2f}')\n",
        " # since the p-value is much much greater than 0.05 even after log transformation, we failed to reject the null hypothesis (the time series is non-stationary)"
      ],
      "metadata": {
        "colab": {
          "base_uri": "https://localhost:8080/"
        },
        "id": "fySFjshStQEe",
        "outputId": "b9169911-9508-4774-d22a-c0b20d51038e"
      },
      "execution_count": null,
      "outputs": [
        {
          "output_type": "stream",
          "name": "stdout",
          "text": [
            "ADF Statistics: -0.47\n",
            "p-value: 0.90\n",
            "Critical Values:\n",
            "\t 1%: -3.46\n",
            "\t 5%: -2.87\n",
            "\t 10%: -2.57\n"
          ]
        }
      ]
    },
    {
      "cell_type": "markdown",
      "source": [
        "#### Train - Validation - Test Data Split\n",
        "1.   Using SKLearn train_test_split to randomly distribute the train test data\n",
        "2.   KFold validation (general)\n",
        "3.   Time Series Cross Validation (the test data is always from future)\n",
        "\n"
      ],
      "metadata": {
        "id": "eBFXLPti3t3o"
      }
    },
    {
      "cell_type": "code",
      "source": [
        "# importing libraries\n",
        "import datetime\n",
        "from sklearn.model_selection import train_test_split, KFold, TimeSeriesSplit"
      ],
      "metadata": {
        "id": "X4nDobPmtULc"
      },
      "execution_count": null,
      "outputs": []
    },
    {
      "cell_type": "markdown",
      "source": [
        "#### 1. Train Test Random split\n",
        "\n",
        "\n",
        "* So there is a big problem with random split. Here we can see that training data is all around the test data, so it is a mix up of train and test data\n",
        "\n",
        "* As in real life, for TSA we will always consider future data for prediction, this train-test split can never give us good results\n",
        "\n"
      ],
      "metadata": {
        "id": "PvQUd5OE4M1f"
      }
    },
    {
      "cell_type": "code",
      "source": [
        "\n",
        "fig, axs = plt.subplots(figsize=[5, 5])\n",
        "\n",
        "# implementing model_selection.train_test_split to randomly split data\n",
        "train, test = train_test_split(btc[[\"Weighted_Price\"]])\n",
        "\n",
        "axs.plot(train, 'k.', lw=10, label=\"Training Data\")\n",
        "axs.plot(test,'r.', lw=1, label=\"Test Data\")\n",
        "axs.set_xlim([datetime.date(2015, 1, 1), datetime.date(2021, 4, 1)])\n",
        "axs.set_ylim([-900, 61000])\n",
        "axs.set_title(f\"Random split of a timeseries\")\n",
        "axs.legend()\n",
        "plt.plot()"
      ],
      "metadata": {
        "colab": {
          "base_uri": "https://localhost:8080/",
          "height": 354
        },
        "id": "uZ7p6NuW4JF3",
        "outputId": "d169edaa-e9c3-4d3d-c7a7-954a0087c646"
      },
      "execution_count": null,
      "outputs": [
        {
          "output_type": "execute_result",
          "data": {
            "text/plain": [
              "[]"
            ]
          },
          "metadata": {},
          "execution_count": 64
        },
        {
          "output_type": "display_data",
          "data": {
            "text/plain": [
              "<Figure size 360x360 with 1 Axes>"
            ],
            "image/png": "[encoded data removed]"
          },
          "metadata": {
            "needs_background": "light"
          }
        }
      ]
    },
    {
      "cell_type": "markdown",
      "source": [
        "#### 2. KFold Validation\n",
        "*  Dataset is divided into 9:1 ratio, where 1th path is for validation. But this one part is not fixed and takes each chunk from 9+1=10 chunks in each round. There will be a total of 10 rounds in the above example"
      ],
      "metadata": {
        "id": "04eIlFUd5NEg"
      }
    },
    {
      "cell_type": "code",
      "source": [
        "cv = KFold()\n",
        "cv # by default 5 splits are done\n",
        "# KFold() kind of overcome the previous problem, but still our training data will be in between other training data"
      ],
      "metadata": {
        "colab": {
          "base_uri": "https://localhost:8080/"
        },
        "id": "o3BGOiLF4e6f",
        "outputId": "0ca48943-cae6-4b0a-cfc3-9dcd874fcbef"
      },
      "execution_count": null,
      "outputs": [
        {
          "output_type": "execute_result",
          "data": {
            "text/plain": [
              "KFold(n_splits=5, random_state=None, shuffle=False)"
            ]
          },
          "metadata": {},
          "execution_count": 65
        }
      ]
    },
    {
      "cell_type": "code",
      "source": [
        "fig, axs = plt.subplots(ncols=5, figsize=[25, 5])\n",
        "\n",
        "# implementing sklearn.model_selection.KFold\n",
        "kfold_model = cv.split(btc.Weighted_Price)\n",
        "\n",
        "# plotting the results for each splits\n",
        "for i, (train_index, val_index) in enumerate(kfold_model):\n",
        "    axs[i].plot(btc.Weighted_Price[train_index], 'k', lw=1, label=\"Training Data\")\n",
        "    axs[i].plot(btc.Weighted_Price[val_index],'r', lw=1, label=\"Test Data\")\n",
        "    axs[i].set_xlim([datetime.date(2015, 1, 1), datetime.date(2021, 4, 1)])\n",
        "    axs[i].set_ylim([-900, 61000])\n",
        "    axs[i].set_title(f\"Fold {i} for timeseries\")\n",
        "    if not i:\n",
        "        axs[0].legend()\n",
        "        plt.plot()\n"
      ],
      "metadata": {
        "colab": {
          "base_uri": "https://localhost:8080/",
          "height": 324
        },
        "id": "Eb7dwM-F5p03",
        "outputId": "6d37e3e2-6eff-464e-a4f1-8f6792fd28f9"
      },
      "execution_count": null,
      "outputs": [
        {
          "output_type": "display_data",
          "data": {
            "text/plain": [
              "<Figure size 1800x360 with 5 Axes>"
            ],
            "image/png": "[encoded data removed]"
          },
          "metadata": {
            "needs_background": "light"
          }
        }
      ]
    },
    {
      "cell_type": "markdown",
      "source": [
        "#### 3. Time-Series Cross-Validation\n",
        "\n",
        "This is better, but still not ideal. Each fold is contained by other data. Due to the time dependency, we know the order of the data and the machine learning system will exploit this information. Therefore, a real time-series solution must be used. This one only uses future data for validation:\n",
        "\n",
        "![Time Series Split](https://scikit-learn.org/stable/_images/sphx_glr_plot_cv_indices_013.png) [[Source]](https://scikit-learn.org/stable/modules/cross_validation.html#time-series-split)\n",
        "\n",
        "\n",
        "Read more in the complimentary ebook [Understanding Machine Learning Validation](https://dramsch.net/books/).\n"
      ],
      "metadata": {
        "id": "_E0My9qTOABr"
      }
    },
    {
      "cell_type": "code",
      "source": [
        "tscv = TimeSeriesSplit()\n",
        "tscv\n",
        "# This is good as it always validates on the future data\n",
        "# by default the n_splits = 5 set here for cross validation\n",
        "# Here we split the dataset into 5 parts, and within each part the old data is considered as training data and the recent/newest data as the validation data"
      ],
      "metadata": {
        "colab": {
          "base_uri": "https://localhost:8080/"
        },
        "id": "g_wo7y5u6IVh",
        "outputId": "07f9e860-28b5-418e-9269-5ea7f49db6ff"
      },
      "execution_count": null,
      "outputs": [
        {
          "output_type": "execute_result",
          "data": {
            "text/plain": [
              "TimeSeriesSplit(gap=0, max_train_size=None, n_splits=5, test_size=None)"
            ]
          },
          "metadata": {},
          "execution_count": 67
        }
      ]
    },
    {
      "cell_type": "code",
      "source": [
        "fig, axs = plt.subplots(ncols=5, figsize=[25, 5])\n",
        "\n",
        "# splitting the data using time series split\n",
        "tscv_split = tscv.split(btc.Weighted_Price)\n",
        "\n",
        "for i, (train_index, val_index) in enumerate(tscv_split):\n",
        "    axs[i].plot(btc.Weighted_Price[train_index], 'k', lw=1, label=\"Training Data\")\n",
        "    axs[i].plot(btc.Weighted_Price[val_index],'r', lw=1, label=\"Test Data\")\n",
        "    axs[i].set_xlim([datetime.date(2015, 1, 1), datetime.date(2021, 4, 1)])\n",
        "    axs[i].set_ylim([-900, 61000])\n",
        "    axs[i].set_title(f\"Fold {i} for timeseries\")\n",
        "    if not i:\n",
        "        axs[0].legend()\n",
        "        plt.plot()\n"
      ],
      "metadata": {
        "colab": {
          "base_uri": "https://localhost:8080/",
          "height": 324
        },
        "id": "Q_cDfb7EVsqn",
        "outputId": "e504d4c7-6b27-4f1c-fb76-e55061ba53c7"
      },
      "execution_count": null,
      "outputs": [
        {
          "output_type": "display_data",
          "data": {
            "text/plain": [
              "<Figure size 1800x360 with 5 Axes>"
            ],
            "image/png": "[encoded data removed]"
          },
          "metadata": {
            "needs_background": "light"
          }
        }
      ]
    },
    {
      "cell_type": "code",
      "source": [
        "fig, axs = plt.subplots(ncols=5, figsize=[25, 5])\n",
        "\n",
        "# using the log transformed data is best as in the last plot (5th one), we can see the training data is nowhere near the exponential growth that we see after 2020\n",
        "# So to tackle this problem, we can use the log transformed column, \n",
        "tscv_split = tscv.split(btc.Weighted_Price_log)\n",
        "\n",
        "for i, (train_index, val_index) in enumerate(tscv_split):\n",
        "    axs[i].plot(btc.Weighted_Price_log[train_index], 'k', lw=1, label=\"Training Data\")\n",
        "    axs[i].plot(btc.Weighted_Price_log[val_index],'r', lw=1, label=\"Test Data\")\n",
        "    axs[i].set_xlim([datetime.date(2015, 1, 1), datetime.date(2021, 4, 1)])\n",
        "    #axs[i].set_ylim([-900, 61000])\n",
        "    axs[i].set_title(f\"Fold {i} for timeseries\")\n",
        "    if not i:\n",
        "        axs[0].legend()\n",
        "        plt.plot()\n"
      ],
      "metadata": {
        "colab": {
          "base_uri": "https://localhost:8080/",
          "height": 327
        },
        "id": "e3e8rjgNWRY2",
        "outputId": "27462931-a8a5-4e19-d5dd-54d1ac7671ac"
      },
      "execution_count": null,
      "outputs": [
        {
          "output_type": "display_data",
          "data": {
            "text/plain": [
              "<Figure size 1800x360 with 5 Axes>"
            ],
            "image/png": "[encoded data removed]"
          },
          "metadata": {
            "needs_background": "light"
          }
        }
      ]
    },
    {
      "cell_type": "markdown",
      "source": [
        "#### Preparing Dataset and ML Models\n",
        "1. SARIMA - classical ML for Time Series\n",
        "2. FB prophet\n",
        "3. XGBoost surpervised learning\n",
        "4. LSTM - Deep Learning"
      ],
      "metadata": {
        "id": "p5YdB2DYid3G"
      }
    },
    {
      "cell_type": "markdown",
      "source": [
        "#### SRIMA\n"
      ],
      "metadata": {
        "id": "123lZGjej5ud"
      }
    },
    {
      "cell_type": "code",
      "source": [
        "# Importing required libraries\n",
        "from sklearn.preprocessing import MinMaxScaler"
      ],
      "metadata": {
        "id": "I0vUGp3bWZA-"
      },
      "execution_count": null,
      "outputs": []
    },
    {
      "cell_type": "code",
      "source": [
        "# again displaying the data\n",
        "btc.head()"
      ],
      "metadata": {
        "colab": {
          "base_uri": "https://localhost:8080/",
          "height": 237
        },
        "id": "UfH0q_rHYdWX",
        "outputId": "d6c76640-bca8-44f5-a3cf-9e38bcc8ae81"
      },
      "execution_count": null,
      "outputs": [
        {
          "output_type": "execute_result",
          "data": {
            "text/plain": [
              "                           Open        High         Low       Close  \\\n",
              "Timestamp                                                             \n",
              "2016-01-01 00:00:00  431.571842  431.683947  431.350526  431.466842   \n",
              "2016-01-01 01:00:00  430.470968  430.612258  430.317742  430.464194   \n",
              "2016-01-01 02:00:00  431.021923  431.075385  430.962308  431.013462   \n",
              "2016-01-01 03:00:00  431.493784  431.681892  431.373243  431.600811   \n",
              "2016-01-01 04:00:00  434.310408  434.438163  434.135306  434.281633   \n",
              "\n",
              "                     Volume_(BTC)  Volume_(Currency)  Weighted_Price  \\\n",
              "Timestamp                                                              \n",
              "2016-01-01 00:00:00      1.087394         469.169648      431.486899   \n",
              "2016-01-01 01:00:00      1.006846         433.216050      430.461480   \n",
              "2016-01-01 02:00:00      0.471009         202.855008      430.992236   \n",
              "2016-01-01 03:00:00      2.026601         876.422114      431.577192   \n",
              "2016-01-01 04:00:00     17.771499        7719.402352      434.306570   \n",
              "\n",
              "                     Weighted_Price_log  \n",
              "Timestamp                                \n",
              "2016-01-01 00:00:00            6.069552  \n",
              "2016-01-01 01:00:00            6.067178  \n",
              "2016-01-01 02:00:00            6.068408  \n",
              "2016-01-01 03:00:00            6.069761  \n",
              "2016-01-01 04:00:00            6.076051  "
            ],
            "text/html": [
              "\n",
              "  <div id=\"df-e0853521-8248-4d16-9833-524f53ba3565\">\n",
              "    <div class=\"colab-df-container\">\n",
              "      <div>\n",
              "<style scoped>\n",
              "    .dataframe tbody tr th:only-of-type {\n",
              "        vertical-align: middle;\n",
              "    }\n",
              "\n",
              "    .dataframe tbody tr th {\n",
              "        vertical-align: top;\n",
              "    }\n",
              "\n",
              "    .dataframe thead th {\n",
              "        text-align: right;\n",
              "    }\n",
              "</style>\n",
              "<table border=\"1\" class=\"dataframe\">\n",
              "  <thead>\n",
              "    <tr style=\"text-align: right;\">\n",
              "      <th></th>\n",
              "      <th>Open</th>\n",
              "      <th>High</th>\n",
              "      <th>Low</th>\n",
              "      <th>Close</th>\n",
              "      <th>Volume_(BTC)</th>\n",
              "      <th>Volume_(Currency)</th>\n",
              "      <th>Weighted_Price</th>\n",
              "      <th>Weighted_Price_log</th>\n",
              "    </tr>\n",
              "    <tr>\n",
              "      <th>Timestamp</th>\n",
              "      <th></th>\n",
              "      <th></th>\n",
              "      <th></th>\n",
              "      <th></th>\n",
              "      <th></th>\n",
              "      <th></th>\n",
              "      <th></th>\n",
              "      <th></th>\n",
              "    </tr>\n",
              "  </thead>\n",
              "  <tbody>\n",
              "    <tr>\n",
              "      <th>2016-01-01 00:00:00</th>\n",
              "      <td>431.571842</td>\n",
              "      <td>431.683947</td>\n",
              "      <td>431.350526</td>\n",
              "      <td>431.466842</td>\n",
              "      <td>1.087394</td>\n",
              "      <td>469.169648</td>\n",
              "      <td>431.486899</td>\n",
              "      <td>6.069552</td>\n",
              "    </tr>\n",
              "    <tr>\n",
              "      <th>2016-01-01 01:00:00</th>\n",
              "      <td>430.470968</td>\n",
              "      <td>430.612258</td>\n",
              "      <td>430.317742</td>\n",
              "      <td>430.464194</td>\n",
              "      <td>1.006846</td>\n",
              "      <td>433.216050</td>\n",
              "      <td>430.461480</td>\n",
              "      <td>6.067178</td>\n",
              "    </tr>\n",
              "    <tr>\n",
              "      <th>2016-01-01 02:00:00</th>\n",
              "      <td>431.021923</td>\n",
              "      <td>431.075385</td>\n",
              "      <td>430.962308</td>\n",
              "      <td>431.013462</td>\n",
              "      <td>0.471009</td>\n",
              "      <td>202.855008</td>\n",
              "      <td>430.992236</td>\n",
              "      <td>6.068408</td>\n",
              "    </tr>\n",
              "    <tr>\n",
              "      <th>2016-01-01 03:00:00</th>\n",
              "      <td>431.493784</td>\n",
              "      <td>431.681892</td>\n",
              "      <td>431.373243</td>\n",
              "      <td>431.600811</td>\n",
              "      <td>2.026601</td>\n",
              "      <td>876.422114</td>\n",
              "      <td>431.577192</td>\n",
              "      <td>6.069761</td>\n",
              "    </tr>\n",
              "    <tr>\n",
              "      <th>2016-01-01 04:00:00</th>\n",
              "      <td>434.310408</td>\n",
              "      <td>434.438163</td>\n",
              "      <td>434.135306</td>\n",
              "      <td>434.281633</td>\n",
              "      <td>17.771499</td>\n",
              "      <td>7719.402352</td>\n",
              "      <td>434.306570</td>\n",
              "      <td>6.076051</td>\n",
              "    </tr>\n",
              "  </tbody>\n",
              "</table>\n",
              "</div>\n",
              "      <button class=\"colab-df-convert\" onclick=\"convertToInteractive('df-e0853521-8248-4d16-9833-524f53ba3565')\"\n",
              "              title=\"Convert this dataframe to an interactive table.\"\n",
              "              style=\"display:none;\">\n",
              "        \n",
              "  <svg xmlns=\"http://www.w3.org/2000/svg\" height=\"24px\"viewBox=\"0 0 24 24\"\n",
              "       width=\"24px\">\n",
              "    <path d=\"M0 0h24v24H0V0z\" fill=\"none\"/>\n",
              "    <path d=\"M18.56 5.44l.94 2.06.94-2.06 2.06-.94-2.06-.94-.94-2.06-.94 2.06-2.06.94zm-11 1L8.5 8.5l.94-2.06 2.06-.94-2.06-.94L8.5 2.5l-.94 2.06-2.06.94zm10 10l.94 2.06.94-2.06 2.06-.94-2.06-.94-.94-2.06-.94 2.06-2.06.94z\"/><path d=\"M17.41 7.96l-1.37-1.37c-.4-.4-.92-.59-1.43-.59-.52 0-1.04.2-1.43.59L10.3 9.45l-7.72 7.72c-.78.78-.78 2.05 0 2.83L4 21.41c.39.39.9.59 1.41.59.51 0 1.02-.2 1.41-.59l7.78-7.78 2.81-2.81c.8-.78.8-2.07 0-2.86zM5.41 20L4 18.59l7.72-7.72 1.47 1.35L5.41 20z\"/>\n",
              "  </svg>\n",
              "      </button>\n",
              "      \n",
              "  <style>\n",
              "    .colab-df-container {\n",
              "      display:flex;\n",
              "      flex-wrap:wrap;\n",
              "      gap: 12px;\n",
              "    }\n",
              "\n",
              "    .colab-df-convert {\n",
              "      background-color: #E8F0FE;\n",
              "      border: none;\n",
              "      border-radius: 50%;\n",
              "      cursor: pointer;\n",
              "      display: none;\n",
              "      fill: #1967D2;\n",
              "      height: 32px;\n",
              "      padding: 0 0 0 0;\n",
              "      width: 32px;\n",
              "    }\n",
              "\n",
              "    .colab-df-convert:hover {\n",
              "      background-color: #E2EBFA;\n",
              "      box-shadow: 0px 1px 2px rgba(60, 64, 67, 0.3), 0px 1px 3px 1px rgba(60, 64, 67, 0.15);\n",
              "      fill: #174EA6;\n",
              "    }\n",
              "\n",
              "    [theme=dark] .colab-df-convert {\n",
              "      background-color: #3B4455;\n",
              "      fill: #D2E3FC;\n",
              "    }\n",
              "\n",
              "    [theme=dark] .colab-df-convert:hover {\n",
              "      background-color: #434B5C;\n",
              "      box-shadow: 0px 1px 3px 1px rgba(0, 0, 0, 0.15);\n",
              "      filter: drop-shadow(0px 1px 2px rgba(0, 0, 0, 0.3));\n",
              "      fill: #FFFFFF;\n",
              "    }\n",
              "  </style>\n",
              "\n",
              "      <script>\n",
              "        const buttonEl =\n",
              "          document.querySelector('#df-e0853521-8248-4d16-9833-524f53ba3565 button.colab-df-convert');\n",
              "        buttonEl.style.display =\n",
              "          google.colab.kernel.accessAllowed ? 'block' : 'none';\n",
              "\n",
              "        async function convertToInteractive(key) {\n",
              "          const element = document.querySelector('#df-e0853521-8248-4d16-9833-524f53ba3565');\n",
              "          const dataTable =\n",
              "            await google.colab.kernel.invokeFunction('convertToInteractive',\n",
              "                                                     [key], {});\n",
              "          if (!dataTable) return;\n",
              "\n",
              "          const docLinkHtml = 'Like what you see? Visit the ' +\n",
              "            '<a target=\"_blank\" href=https://colab.research.google.com/notebooks/data_table.ipynb>data table notebook</a>'\n",
              "            + ' to learn more about interactive tables.';\n",
              "          element.innerHTML = '';\n",
              "          dataTable['output_type'] = 'display_data';\n",
              "          await google.colab.output.renderOutput(dataTable, element);\n",
              "          const docLink = document.createElement('div');\n",
              "          docLink.innerHTML = docLinkHtml;\n",
              "          element.appendChild(docLink);\n",
              "        }\n",
              "      </script>\n",
              "    </div>\n",
              "  </div>\n",
              "  "
            ]
          },
          "metadata": {},
          "execution_count": 71
        }
      ]
    },
    {
      "cell_type": "code",
      "source": [
        "# SARIMA\n",
        "# - S: Seasonal\n",
        "# - AR: Auto Regressive model\n",
        "# - I: Integrated\n",
        "# - MA: Moving Average\n",
        "split = int(btc.shape[0]*0.8)\n",
        "print(split)\n",
        "\n",
        "# classical statistical model for time series. Baseline model, to compare\n",
        "# as daily data it will take time for processing\n",
        "sarima = sm.tsa.statespace.SARIMAX(btc.Weighted_Price[:split],\n",
        "                                   order=(1, 1, 2),\n",
        "                                   seasonal_order=(1, 1, 2, 12),\n",
        "                                   enforce_stationarity=False, # as our data is non-stationary thus enforce_stationarity as False\n",
        "                                   enforce_invertibility=False)\n",
        "\n",
        "results = sarima.fit()\n",
        "print(\"Time Series AIC: \" + str(results.aic))\n"
      ],
      "metadata": {
        "colab": {
          "base_uri": "https://localhost:8080/"
        },
        "id": "-tmUs2clZIxW",
        "outputId": "c5970c29-ea3d-4728-9b4b-485bdcd5f69d"
      },
      "execution_count": null,
      "outputs": [
        {
          "output_type": "stream",
          "name": "stdout",
          "text": [
            "36784\n"
          ]
        },
        {
          "output_type": "stream",
          "name": "stderr",
          "text": [
            "/usr/local/lib/python3.7/dist-packages/statsmodels/tsa/base/tsa_model.py:165: ValueWarning: No frequency information was provided, so inferred frequency H will be used.\n",
            "  % freq, ValueWarning)\n",
            "/usr/local/lib/python3.7/dist-packages/statsmodels/base/model.py:512: ConvergenceWarning: Maximum Likelihood optimization failed to converge. Check mle_retvals\n",
            "  \"Check mle_retvals\", ConvergenceWarning)\n"
          ]
        },
        {
          "output_type": "stream",
          "name": "stdout",
          "text": [
            "Time Series AIC: 400641.8626775995\n"
          ]
        }
      ]
    },
    {
      "cell_type": "markdown",
      "source": [
        "#### Preparring Dataset for Supervised Learning\n"
      ],
      "metadata": {
        "id": "2x0IvvQVaAOf"
      }
    },
    {
      "cell_type": "code",
      "source": [
        "# Preparing dataset for TSA\n",
        "#   n be the size of interval we consider\n",
        "#   0-(n-1): as training data\n",
        "#   n: as test data\n",
        "# so it is like using n samples to predict one sample\n",
        "def create_dataset(df, n, feature=0):\n",
        "    x = []\n",
        "    y = []\n",
        "\n",
        "    for i in range(n, df.shape[0]):\n",
        "        x.append(df[i-n:i, feature])\n",
        "        y.append(df[i, feature])\n",
        "        \n",
        "    x = np.expand_dims(np.array(x), -1) # this will insert one axis; here, from (m,n) --> (m,n,1)\n",
        "    y = np.expand_dims(np.array(y), -1) # here if the dimension was (m) --> (m,1)\n",
        "    return x, y "
      ],
      "metadata": {
        "id": "BA8QYHYCdP3Z"
      },
      "execution_count": null,
      "outputs": []
    },
    {
      "cell_type": "code",
      "source": [
        "# Splitting the data 80% of data for traning and 20% for testing\n",
        "split = int(btc.shape[0]*0.8)\n",
        "print(split)\n",
        "df_train = btc[:split]\n",
        "df_test = btc[split:]\n",
        "print(df_train.shape)"
      ],
      "metadata": {
        "colab": {
          "base_uri": "https://localhost:8080/"
        },
        "id": "Z4-D7oHjanWQ",
        "outputId": "fbba7a77-0a76-4f78-8678-c34551892ce2"
      },
      "execution_count": null,
      "outputs": [
        {
          "output_type": "stream",
          "name": "stdout",
          "text": [
            "36784\n",
            "(36784, 8)\n"
          ]
        }
      ]
    },
    {
      "cell_type": "code",
      "source": [
        "df_test.shape"
      ],
      "metadata": {
        "colab": {
          "base_uri": "https://localhost:8080/"
        },
        "id": "BTTOLbKvaoAp",
        "outputId": "8e249c0b-23c7-481c-eaa0-a59db37260f9"
      },
      "execution_count": null,
      "outputs": [
        {
          "output_type": "execute_result",
          "data": {
            "text/plain": [
              "(9197, 8)"
            ]
          },
          "metadata": {},
          "execution_count": 75
        }
      ]
    },
    {
      "cell_type": "code",
      "source": [
        "# feature scaling \n",
        "scaler = MinMaxScaler(feature_range=(0,1))\n",
        "dataset_train = scaler.fit_transform(df_train)\n",
        "dataset_train\n"
      ],
      "metadata": {
        "colab": {
          "base_uri": "https://localhost:8080/"
        },
        "id": "fqV_tDBnargN",
        "outputId": "afae5f29-fba2-406c-ca7e-73bf8a1acea2"
      },
      "execution_count": null,
      "outputs": [
        {
          "output_type": "execute_result",
          "data": {
            "text/plain": [
              "array([[3.81530809e-03, 3.79800935e-03, 3.83970181e-03, ...,\n",
              "        3.20933416e-04, 3.81898104e-03, 4.64886447e-02],\n",
              "       [3.75801430e-03, 3.74225976e-03, 3.78588539e-03, ...,\n",
              "        2.93058223e-04, 3.76559444e-03, 4.58948808e-02],\n",
              "       [3.78668816e-03, 3.76635174e-03, 3.81947248e-03, ...,\n",
              "        1.14456949e-04, 3.79322728e-03, 4.62023882e-02],\n",
              "       ...,\n",
              "       [2.89704073e-01, 2.90799428e-01, 2.88878243e-01, ...,\n",
              "        4.81880483e-01, 2.89827257e-01, 7.01222297e-01],\n",
              "       [2.95280004e-01, 2.96143732e-01, 2.94639652e-01, ...,\n",
              "        2.56460351e-01, 2.95369174e-01, 7.05675457e-01],\n",
              "       [2.98075672e-01, 2.98562502e-01, 2.97677301e-01, ...,\n",
              "        1.31549689e-01, 2.98101832e-01, 7.07842417e-01]])"
            ]
          },
          "metadata": {},
          "execution_count": 76
        }
      ]
    },
    {
      "cell_type": "code",
      "source": [
        "# scaling the test dataset\n",
        "dataset_test = scaler.transform(df_test)\n",
        "dataset_test\n",
        "# dataset test values are still going beyound 1: [3.03985716, 3.03899962, 3.04302417, ..., 0.1235554 , 3.04081593, 1.27507847]\n",
        "# this can be possible arguably because, min_max scaler used the min and max from training data\n",
        "# and testing data can have data beyond max_training_data"
      ],
      "metadata": {
        "colab": {
          "base_uri": "https://localhost:8080/"
        },
        "id": "9JMBTsBvdIgY",
        "outputId": "b86d1b90-14bb-4982-d93f-ef46771983b5"
      },
      "execution_count": null,
      "outputs": [
        {
          "output_type": "execute_result",
          "data": {
            "text/plain": [
              "array([[0.2962345 , 0.29674814, 0.29582127, ..., 0.1286294 , 0.29628824,\n",
              "        0.70640636],\n",
              "       [0.30012272, 0.30068789, 0.29972455, ..., 0.13277224, 0.30015077,\n",
              "        0.70945497],\n",
              "       [0.29796739, 0.29832291, 0.2977635 , ..., 0.08501448, 0.29795274,\n",
              "        0.70772467],\n",
              "       ...,\n",
              "       [3.04094975, 3.04044835, 3.04380348, ..., 0.0516422 , 3.04207092,\n",
              "        1.27518105],\n",
              "       [3.03465174, 3.03394748, 3.03776641, ..., 0.06136637, 3.0357346 ,\n",
              "        1.2746627 ],\n",
              "       [3.03985716, 3.03899962, 3.04302417, ..., 0.1235554 , 3.04081593,\n",
              "        1.27507847]])"
            ]
          },
          "metadata": {},
          "execution_count": 77
        }
      ]
    },
    {
      "cell_type": "code",
      "source": [
        "# creating dataset for supervised learning\n",
        "X_train, y_train = create_dataset(dataset_train,50,7)\n",
        "X_test, y_test = create_dataset(dataset_test,50,7)\n"
      ],
      "metadata": {
        "id": "76gP3DqqdKqw"
      },
      "execution_count": null,
      "outputs": []
    },
    {
      "cell_type": "markdown",
      "source": [
        "#### Evaluation Metrics"
      ],
      "metadata": {
        "id": "APcKW2gYiBqS"
      }
    },
    {
      "cell_type": "code",
      "source": [
        "# importing libraries\n",
        "from sklearn.metrics import r2_score, mean_absolute_error"
      ],
      "metadata": {
        "id": "59oNBOwwh-qJ"
      },
      "execution_count": null,
      "outputs": []
    },
    {
      "cell_type": "code",
      "source": [
        "# It will calculate the R2_score and MAE\n",
        "def evaluate_model(model, model_name=\"Model\", test_data=X_test, target_data=y_test):\n",
        "    y_pred_test = model.predict(test_data)\n",
        "\n",
        "    try:\n",
        "        y_pred_test = y_pred_test.yhat \n",
        "    except:\n",
        "        pass\n",
        "\n",
        "    test_rs = r2_score(target_data,y_pred_test)\n",
        "    print('R Squared : ', round(test_rs,5))\n",
        "\n",
        "    test_MAE = mean_absolute_error(target_data, y_pred_test)\n",
        "    print('Mean Absolute Error: ', round(test_MAE, 5))\n",
        "\n",
        "    plt.figure(figsize=(20,10))\n",
        "    plt.plot(y_pred_test, color='green', marker='o', linestyle='dashed',label='Predicted Price')\n",
        "    plt.plot(target_data, color='red', label='Actual Price')\n",
        "    plt.title('Comparison of actual and predicted stock prices for ' + model_name)\n",
        "    plt.xlabel('Day')\n",
        "    plt.ylabel('Prices')\n",
        "    plt.legend()\n",
        "    plt.grid()\n",
        "    plt.show()\n",
        "    \n",
        "    return test_rs, test_MAE"
      ],
      "metadata": {
        "id": "lFO1iB1wiQxL"
      },
      "execution_count": null,
      "outputs": []
    },
    {
      "cell_type": "markdown",
      "source": [
        "#### Facebook Prophet\n"
      ],
      "metadata": {
        "id": "69VXWm6DeQe2"
      }
    },
    {
      "cell_type": "code",
      "source": [
        "!pip install prophet"
      ],
      "metadata": {
        "colab": {
          "base_uri": "https://localhost:8080/"
        },
        "id": "PoCfVctJe5jZ",
        "outputId": "05a64291-c238-43c7-ddbc-ae24c7216f68"
      },
      "execution_count": null,
      "outputs": [
        {
          "output_type": "stream",
          "name": "stdout",
          "text": [
            "Collecting prophet\n",
            "  Downloading prophet-1.0.1.tar.gz (65 kB)\n",
            "\u001b[K     |████████████████████████████████| 65 kB 4.9 MB/s \n",
            "\u001b[?25hRequirement already satisfied: Cython>=0.22 in /usr/local/lib/python3.7/dist-packages (from prophet) (0.29.28)\n",
            "Collecting cmdstanpy==0.9.68\n",
            "  Downloading cmdstanpy-0.9.68-py3-none-any.whl (49 kB)\n",
            "\u001b[K     |████████████████████████████████| 49 kB 6.9 MB/s \n",
            "\u001b[?25hRequirement already satisfied: pystan~=2.19.1.1 in /usr/local/lib/python3.7/dist-packages (from prophet) (2.19.1.1)\n",
            "Requirement already satisfied: numpy>=1.15.4 in /usr/local/lib/python3.7/dist-packages (from prophet) (1.21.5)\n",
            "Requirement already satisfied: pandas>=1.0.4 in /usr/local/lib/python3.7/dist-packages (from prophet) (1.3.5)\n",
            "Requirement already satisfied: matplotlib>=2.0.0 in /usr/local/lib/python3.7/dist-packages (from prophet) (3.2.2)\n",
            "Requirement already satisfied: LunarCalendar>=0.0.9 in /usr/local/lib/python3.7/dist-packages (from prophet) (0.0.9)\n",
            "Requirement already satisfied: convertdate>=2.1.2 in /usr/local/lib/python3.7/dist-packages (from prophet) (2.4.0)\n",
            "Requirement already satisfied: holidays>=0.10.2 in /usr/local/lib/python3.7/dist-packages (from prophet) (0.10.5.2)\n",
            "Requirement already satisfied: setuptools-git>=1.2 in /usr/local/lib/python3.7/dist-packages (from prophet) (1.2)\n",
            "Requirement already satisfied: python-dateutil>=2.8.0 in /usr/local/lib/python3.7/dist-packages (from prophet) (2.8.2)\n",
            "Requirement already satisfied: tqdm>=4.36.1 in /usr/local/lib/python3.7/dist-packages (from prophet) (4.64.0)\n",
            "Collecting ujson\n",
            "  Downloading ujson-5.2.0-cp37-cp37m-manylinux_2_17_x86_64.manylinux2014_x86_64.whl (45 kB)\n",
            "\u001b[K     |████████████████████████████████| 45 kB 3.7 MB/s \n",
            "\u001b[?25hRequirement already satisfied: pymeeus<=1,>=0.3.13 in /usr/local/lib/python3.7/dist-packages (from convertdate>=2.1.2->prophet) (0.5.11)\n",
            "Requirement already satisfied: six in /usr/local/lib/python3.7/dist-packages (from holidays>=0.10.2->prophet) (1.15.0)\n",
            "Requirement already satisfied: korean-lunar-calendar in /usr/local/lib/python3.7/dist-packages (from holidays>=0.10.2->prophet) (0.2.1)\n",
            "Requirement already satisfied: hijri-converter in /usr/local/lib/python3.7/dist-packages (from holidays>=0.10.2->prophet) (2.2.3)\n",
            "Requirement already satisfied: pytz in /usr/local/lib/python3.7/dist-packages (from LunarCalendar>=0.0.9->prophet) (2018.9)\n",
            "Requirement already satisfied: ephem>=3.7.5.3 in /usr/local/lib/python3.7/dist-packages (from LunarCalendar>=0.0.9->prophet) (4.1.3)\n",
            "Requirement already satisfied: cycler>=0.10 in /usr/local/lib/python3.7/dist-packages (from matplotlib>=2.0.0->prophet) (0.11.0)\n",
            "Requirement already satisfied: kiwisolver>=1.0.1 in /usr/local/lib/python3.7/dist-packages (from matplotlib>=2.0.0->prophet) (1.4.2)\n",
            "Requirement already satisfied: pyparsing!=2.0.4,!=2.1.2,!=2.1.6,>=2.0.1 in /usr/local/lib/python3.7/dist-packages (from matplotlib>=2.0.0->prophet) (3.0.8)\n",
            "Requirement already satisfied: typing-extensions in /usr/local/lib/python3.7/dist-packages (from kiwisolver>=1.0.1->matplotlib>=2.0.0->prophet) (4.1.1)\n",
            "Building wheels for collected packages: prophet\n",
            "  Building wheel for prophet (setup.py) ... \u001b[?25l\u001b[?25hdone\n",
            "  Created wheel for prophet: filename=prophet-1.0.1-py3-none-any.whl size=6640297 sha256=0acdd51c04ee6276f978cca21ef5aa455a183d3ccd2b62080d1f51c1802ffa01\n",
            "  Stored in directory: /root/.cache/pip/wheels/4e/a0/1a/02c9ec9e3e9de6bdbb3d769d11992a6926889d71567d6b9b67\n",
            "Successfully built prophet\n",
            "Installing collected packages: ujson, cmdstanpy, prophet\n",
            "  Attempting uninstall: cmdstanpy\n",
            "    Found existing installation: cmdstanpy 0.9.5\n",
            "    Uninstalling cmdstanpy-0.9.5:\n",
            "      Successfully uninstalled cmdstanpy-0.9.5\n",
            "\u001b[31mERROR: pip's dependency resolver does not currently take into account all the packages that are installed. This behaviour is the source of the following dependency conflicts.\n",
            "fbprophet 0.7.1 requires cmdstanpy==0.9.5, but you have cmdstanpy 0.9.68 which is incompatible.\u001b[0m\n",
            "Successfully installed cmdstanpy-0.9.68 prophet-1.0.1 ujson-5.2.0\n"
          ]
        }
      ]
    },
    {
      "cell_type": "code",
      "source": [
        "# Phophet needs the dataset to be in a specific way\n",
        "# it needs the datetime column under column \"ds\"\n",
        "# and the predicting values under \"y\"\n",
        "df_train.reset_index(inplace=True)\n",
        "df_prophet = pd.DataFrame(columns=[\"ds\", \"y\"])\n",
        "\n",
        "df_prophet[\"ds\"] = df_train.Timestamp\n",
        "df_prophet[\"y\"] = df_train.Weighted_Price\n",
        "df_prophet"
      ],
      "metadata": {
        "colab": {
          "base_uri": "https://localhost:8080/",
          "height": 423
        },
        "id": "beQ4OP7-eEeI",
        "outputId": "5abc5291-a891-4dca-80f2-0bd0387906cf"
      },
      "execution_count": null,
      "outputs": [
        {
          "output_type": "execute_result",
          "data": {
            "text/plain": [
              "                       ds            y\n",
              "0     2016-01-01 00:00:00   431.486899\n",
              "1     2016-01-01 01:00:00   430.461480\n",
              "2     2016-01-01 02:00:00   430.992236\n",
              "3     2016-01-01 03:00:00   431.577192\n",
              "4     2016-01-01 04:00:00   434.306570\n",
              "...                   ...          ...\n",
              "36779 2020-03-12 11:00:00  6109.125254\n",
              "36780 2020-03-12 12:00:00  6049.553068\n",
              "36781 2020-03-12 13:00:00  5924.966705\n",
              "36782 2020-03-12 14:00:00  6031.412610\n",
              "36783 2020-03-12 15:00:00  6083.899908\n",
              "\n",
              "[36784 rows x 2 columns]"
            ],
            "text/html": [
              "\n",
              "  <div id=\"df-5c42f492-3951-4ddd-ac4e-f3da79a4da66\">\n",
              "    <div class=\"colab-df-container\">\n",
              "      <div>\n",
              "<style scoped>\n",
              "    .dataframe tbody tr th:only-of-type {\n",
              "        vertical-align: middle;\n",
              "    }\n",
              "\n",
              "    .dataframe tbody tr th {\n",
              "        vertical-align: top;\n",
              "    }\n",
              "\n",
              "    .dataframe thead th {\n",
              "        text-align: right;\n",
              "    }\n",
              "</style>\n",
              "<table border=\"1\" class=\"dataframe\">\n",
              "  <thead>\n",
              "    <tr style=\"text-align: right;\">\n",
              "      <th></th>\n",
              "      <th>ds</th>\n",
              "      <th>y</th>\n",
              "    </tr>\n",
              "  </thead>\n",
              "  <tbody>\n",
              "    <tr>\n",
              "      <th>0</th>\n",
              "      <td>2016-01-01 00:00:00</td>\n",
              "      <td>431.486899</td>\n",
              "    </tr>\n",
              "    <tr>\n",
              "      <th>1</th>\n",
              "      <td>2016-01-01 01:00:00</td>\n",
              "      <td>430.461480</td>\n",
              "    </tr>\n",
              "    <tr>\n",
              "      <th>2</th>\n",
              "      <td>2016-01-01 02:00:00</td>\n",
              "      <td>430.992236</td>\n",
              "    </tr>\n",
              "    <tr>\n",
              "      <th>3</th>\n",
              "      <td>2016-01-01 03:00:00</td>\n",
              "      <td>431.577192</td>\n",
              "    </tr>\n",
              "    <tr>\n",
              "      <th>4</th>\n",
              "      <td>2016-01-01 04:00:00</td>\n",
              "      <td>434.306570</td>\n",
              "    </tr>\n",
              "    <tr>\n",
              "      <th>...</th>\n",
              "      <td>...</td>\n",
              "      <td>...</td>\n",
              "    </tr>\n",
              "    <tr>\n",
              "      <th>36779</th>\n",
              "      <td>2020-03-12 11:00:00</td>\n",
              "      <td>6109.125254</td>\n",
              "    </tr>\n",
              "    <tr>\n",
              "      <th>36780</th>\n",
              "      <td>2020-03-12 12:00:00</td>\n",
              "      <td>6049.553068</td>\n",
              "    </tr>\n",
              "    <tr>\n",
              "      <th>36781</th>\n",
              "      <td>2020-03-12 13:00:00</td>\n",
              "      <td>5924.966705</td>\n",
              "    </tr>\n",
              "    <tr>\n",
              "      <th>36782</th>\n",
              "      <td>2020-03-12 14:00:00</td>\n",
              "      <td>6031.412610</td>\n",
              "    </tr>\n",
              "    <tr>\n",
              "      <th>36783</th>\n",
              "      <td>2020-03-12 15:00:00</td>\n",
              "      <td>6083.899908</td>\n",
              "    </tr>\n",
              "  </tbody>\n",
              "</table>\n",
              "<p>36784 rows × 2 columns</p>\n",
              "</div>\n",
              "      <button class=\"colab-df-convert\" onclick=\"convertToInteractive('df-5c42f492-3951-4ddd-ac4e-f3da79a4da66')\"\n",
              "              title=\"Convert this dataframe to an interactive table.\"\n",
              "              style=\"display:none;\">\n",
              "        \n",
              "  <svg xmlns=\"http://www.w3.org/2000/svg\" height=\"24px\"viewBox=\"0 0 24 24\"\n",
              "       width=\"24px\">\n",
              "    <path d=\"M0 0h24v24H0V0z\" fill=\"none\"/>\n",
              "    <path d=\"M18.56 5.44l.94 2.06.94-2.06 2.06-.94-2.06-.94-.94-2.06-.94 2.06-2.06.94zm-11 1L8.5 8.5l.94-2.06 2.06-.94-2.06-.94L8.5 2.5l-.94 2.06-2.06.94zm10 10l.94 2.06.94-2.06 2.06-.94-2.06-.94-.94-2.06-.94 2.06-2.06.94z\"/><path d=\"M17.41 7.96l-1.37-1.37c-.4-.4-.92-.59-1.43-.59-.52 0-1.04.2-1.43.59L10.3 9.45l-7.72 7.72c-.78.78-.78 2.05 0 2.83L4 21.41c.39.39.9.59 1.41.59.51 0 1.02-.2 1.41-.59l7.78-7.78 2.81-2.81c.8-.78.8-2.07 0-2.86zM5.41 20L4 18.59l7.72-7.72 1.47 1.35L5.41 20z\"/>\n",
              "  </svg>\n",
              "      </button>\n",
              "      \n",
              "  <style>\n",
              "    .colab-df-container {\n",
              "      display:flex;\n",
              "      flex-wrap:wrap;\n",
              "      gap: 12px;\n",
              "    }\n",
              "\n",
              "    .colab-df-convert {\n",
              "      background-color: #E8F0FE;\n",
              "      border: none;\n",
              "      border-radius: 50%;\n",
              "      cursor: pointer;\n",
              "      display: none;\n",
              "      fill: #1967D2;\n",
              "      height: 32px;\n",
              "      padding: 0 0 0 0;\n",
              "      width: 32px;\n",
              "    }\n",
              "\n",
              "    .colab-df-convert:hover {\n",
              "      background-color: #E2EBFA;\n",
              "      box-shadow: 0px 1px 2px rgba(60, 64, 67, 0.3), 0px 1px 3px 1px rgba(60, 64, 67, 0.15);\n",
              "      fill: #174EA6;\n",
              "    }\n",
              "\n",
              "    [theme=dark] .colab-df-convert {\n",
              "      background-color: #3B4455;\n",
              "      fill: #D2E3FC;\n",
              "    }\n",
              "\n",
              "    [theme=dark] .colab-df-convert:hover {\n",
              "      background-color: #434B5C;\n",
              "      box-shadow: 0px 1px 3px 1px rgba(0, 0, 0, 0.15);\n",
              "      filter: drop-shadow(0px 1px 2px rgba(0, 0, 0, 0.3));\n",
              "      fill: #FFFFFF;\n",
              "    }\n",
              "  </style>\n",
              "\n",
              "      <script>\n",
              "        const buttonEl =\n",
              "          document.querySelector('#df-5c42f492-3951-4ddd-ac4e-f3da79a4da66 button.colab-df-convert');\n",
              "        buttonEl.style.display =\n",
              "          google.colab.kernel.accessAllowed ? 'block' : 'none';\n",
              "\n",
              "        async function convertToInteractive(key) {\n",
              "          const element = document.querySelector('#df-5c42f492-3951-4ddd-ac4e-f3da79a4da66');\n",
              "          const dataTable =\n",
              "            await google.colab.kernel.invokeFunction('convertToInteractive',\n",
              "                                                     [key], {});\n",
              "          if (!dataTable) return;\n",
              "\n",
              "          const docLinkHtml = 'Like what you see? Visit the ' +\n",
              "            '<a target=\"_blank\" href=https://colab.research.google.com/notebooks/data_table.ipynb>data table notebook</a>'\n",
              "            + ' to learn more about interactive tables.';\n",
              "          element.innerHTML = '';\n",
              "          dataTable['output_type'] = 'display_data';\n",
              "          await google.colab.output.renderOutput(dataTable, element);\n",
              "          const docLink = document.createElement('div');\n",
              "          docLink.innerHTML = docLinkHtml;\n",
              "          element.appendChild(docLink);\n",
              "        }\n",
              "      </script>\n",
              "    </div>\n",
              "  </div>\n",
              "  "
            ]
          },
          "metadata": {},
          "execution_count": 82
        }
      ]
    },
    {
      "cell_type": "code",
      "source": [
        "# following the same structure for test dataset in order to use it in testing data\n",
        "df_test.reset_index(inplace=True)\n",
        "df_prophet_test = pd.DataFrame(columns=[\"ds\", \"y\"])\n",
        "\n",
        "df_prophet_test[\"ds\"] = df_test.Timestamp\n",
        "df_prophet_test[\"y\"] = df_test.Weighted_Price\n",
        "df_prophet_test"
      ],
      "metadata": {
        "colab": {
          "base_uri": "https://localhost:8080/",
          "height": 423
        },
        "id": "TXqTWga1etRD",
        "outputId": "04edbae2-cc36-465c-bf3b-fcf1fdf8e6c2"
      },
      "execution_count": null,
      "outputs": [
        {
          "output_type": "execute_result",
          "data": {
            "text/plain": [
              "                      ds             y\n",
              "0    2020-03-12 16:00:00   6049.065567\n",
              "1    2020-03-12 17:00:00   6123.254776\n",
              "2    2020-03-12 18:00:00   6081.036189\n",
              "3    2020-03-12 19:00:00   6047.960700\n",
              "4    2020-03-12 20:00:00   5871.514519\n",
              "...                  ...           ...\n",
              "9192 2021-03-30 20:00:00  58682.385127\n",
              "9193 2021-03-30 21:00:00  58705.094588\n",
              "9194 2021-03-30 22:00:00  58788.454429\n",
              "9195 2021-03-30 23:00:00  58666.750127\n",
              "9196 2021-03-31 00:00:00  58764.349363\n",
              "\n",
              "[9197 rows x 2 columns]"
            ],
            "text/html": [
              "\n",
              "  <div id=\"df-4f27b991-3b10-4a23-b9c9-14e6567a7eab\">\n",
              "    <div class=\"colab-df-container\">\n",
              "      <div>\n",
              "<style scoped>\n",
              "    .dataframe tbody tr th:only-of-type {\n",
              "        vertical-align: middle;\n",
              "    }\n",
              "\n",
              "    .dataframe tbody tr th {\n",
              "        vertical-align: top;\n",
              "    }\n",
              "\n",
              "    .dataframe thead th {\n",
              "        text-align: right;\n",
              "    }\n",
              "</style>\n",
              "<table border=\"1\" class=\"dataframe\">\n",
              "  <thead>\n",
              "    <tr style=\"text-align: right;\">\n",
              "      <th></th>\n",
              "      <th>ds</th>\n",
              "      <th>y</th>\n",
              "    </tr>\n",
              "  </thead>\n",
              "  <tbody>\n",
              "    <tr>\n",
              "      <th>0</th>\n",
              "      <td>2020-03-12 16:00:00</td>\n",
              "      <td>6049.065567</td>\n",
              "    </tr>\n",
              "    <tr>\n",
              "      <th>1</th>\n",
              "      <td>2020-03-12 17:00:00</td>\n",
              "      <td>6123.254776</td>\n",
              "    </tr>\n",
              "    <tr>\n",
              "      <th>2</th>\n",
              "      <td>2020-03-12 18:00:00</td>\n",
              "      <td>6081.036189</td>\n",
              "    </tr>\n",
              "    <tr>\n",
              "      <th>3</th>\n",
              "      <td>2020-03-12 19:00:00</td>\n",
              "      <td>6047.960700</td>\n",
              "    </tr>\n",
              "    <tr>\n",
              "      <th>4</th>\n",
              "      <td>2020-03-12 20:00:00</td>\n",
              "      <td>5871.514519</td>\n",
              "    </tr>\n",
              "    <tr>\n",
              "      <th>...</th>\n",
              "      <td>...</td>\n",
              "      <td>...</td>\n",
              "    </tr>\n",
              "    <tr>\n",
              "      <th>9192</th>\n",
              "      <td>2021-03-30 20:00:00</td>\n",
              "      <td>58682.385127</td>\n",
              "    </tr>\n",
              "    <tr>\n",
              "      <th>9193</th>\n",
              "      <td>2021-03-30 21:00:00</td>\n",
              "      <td>58705.094588</td>\n",
              "    </tr>\n",
              "    <tr>\n",
              "      <th>9194</th>\n",
              "      <td>2021-03-30 22:00:00</td>\n",
              "      <td>58788.454429</td>\n",
              "    </tr>\n",
              "    <tr>\n",
              "      <th>9195</th>\n",
              "      <td>2021-03-30 23:00:00</td>\n",
              "      <td>58666.750127</td>\n",
              "    </tr>\n",
              "    <tr>\n",
              "      <th>9196</th>\n",
              "      <td>2021-03-31 00:00:00</td>\n",
              "      <td>58764.349363</td>\n",
              "    </tr>\n",
              "  </tbody>\n",
              "</table>\n",
              "<p>9197 rows × 2 columns</p>\n",
              "</div>\n",
              "      <button class=\"colab-df-convert\" onclick=\"convertToInteractive('df-4f27b991-3b10-4a23-b9c9-14e6567a7eab')\"\n",
              "              title=\"Convert this dataframe to an interactive table.\"\n",
              "              style=\"display:none;\">\n",
              "        \n",
              "  <svg xmlns=\"http://www.w3.org/2000/svg\" height=\"24px\"viewBox=\"0 0 24 24\"\n",
              "       width=\"24px\">\n",
              "    <path d=\"M0 0h24v24H0V0z\" fill=\"none\"/>\n",
              "    <path d=\"M18.56 5.44l.94 2.06.94-2.06 2.06-.94-2.06-.94-.94-2.06-.94 2.06-2.06.94zm-11 1L8.5 8.5l.94-2.06 2.06-.94-2.06-.94L8.5 2.5l-.94 2.06-2.06.94zm10 10l.94 2.06.94-2.06 2.06-.94-2.06-.94-.94-2.06-.94 2.06-2.06.94z\"/><path d=\"M17.41 7.96l-1.37-1.37c-.4-.4-.92-.59-1.43-.59-.52 0-1.04.2-1.43.59L10.3 9.45l-7.72 7.72c-.78.78-.78 2.05 0 2.83L4 21.41c.39.39.9.59 1.41.59.51 0 1.02-.2 1.41-.59l7.78-7.78 2.81-2.81c.8-.78.8-2.07 0-2.86zM5.41 20L4 18.59l7.72-7.72 1.47 1.35L5.41 20z\"/>\n",
              "  </svg>\n",
              "      </button>\n",
              "      \n",
              "  <style>\n",
              "    .colab-df-container {\n",
              "      display:flex;\n",
              "      flex-wrap:wrap;\n",
              "      gap: 12px;\n",
              "    }\n",
              "\n",
              "    .colab-df-convert {\n",
              "      background-color: #E8F0FE;\n",
              "      border: none;\n",
              "      border-radius: 50%;\n",
              "      cursor: pointer;\n",
              "      display: none;\n",
              "      fill: #1967D2;\n",
              "      height: 32px;\n",
              "      padding: 0 0 0 0;\n",
              "      width: 32px;\n",
              "    }\n",
              "\n",
              "    .colab-df-convert:hover {\n",
              "      background-color: #E2EBFA;\n",
              "      box-shadow: 0px 1px 2px rgba(60, 64, 67, 0.3), 0px 1px 3px 1px rgba(60, 64, 67, 0.15);\n",
              "      fill: #174EA6;\n",
              "    }\n",
              "\n",
              "    [theme=dark] .colab-df-convert {\n",
              "      background-color: #3B4455;\n",
              "      fill: #D2E3FC;\n",
              "    }\n",
              "\n",
              "    [theme=dark] .colab-df-convert:hover {\n",
              "      background-color: #434B5C;\n",
              "      box-shadow: 0px 1px 3px 1px rgba(0, 0, 0, 0.15);\n",
              "      filter: drop-shadow(0px 1px 2px rgba(0, 0, 0, 0.3));\n",
              "      fill: #FFFFFF;\n",
              "    }\n",
              "  </style>\n",
              "\n",
              "      <script>\n",
              "        const buttonEl =\n",
              "          document.querySelector('#df-4f27b991-3b10-4a23-b9c9-14e6567a7eab button.colab-df-convert');\n",
              "        buttonEl.style.display =\n",
              "          google.colab.kernel.accessAllowed ? 'block' : 'none';\n",
              "\n",
              "        async function convertToInteractive(key) {\n",
              "          const element = document.querySelector('#df-4f27b991-3b10-4a23-b9c9-14e6567a7eab');\n",
              "          const dataTable =\n",
              "            await google.colab.kernel.invokeFunction('convertToInteractive',\n",
              "                                                     [key], {});\n",
              "          if (!dataTable) return;\n",
              "\n",
              "          const docLinkHtml = 'Like what you see? Visit the ' +\n",
              "            '<a target=\"_blank\" href=https://colab.research.google.com/notebooks/data_table.ipynb>data table notebook</a>'\n",
              "            + ' to learn more about interactive tables.';\n",
              "          element.innerHTML = '';\n",
              "          dataTable['output_type'] = 'display_data';\n",
              "          await google.colab.output.renderOutput(dataTable, element);\n",
              "          const docLink = document.createElement('div');\n",
              "          docLink.innerHTML = docLinkHtml;\n",
              "          element.appendChild(docLink);\n",
              "        }\n",
              "      </script>\n",
              "    </div>\n",
              "  </div>\n",
              "  "
            ]
          },
          "metadata": {},
          "execution_count": 83
        }
      ]
    },
    {
      "cell_type": "code",
      "source": [
        "from prophet import Prophet\n",
        "\n",
        "# defining the model\n",
        "prophet = Prophet(changepoint_prior_scale=0.15, daily_seasonality=True)\n",
        "prophet.fit(df_prophet) # training\n",
        "\n",
        "# prediction\n",
        "forecast = prophet.predict(df_prophet_test)\n",
        "forecast.tail()\n",
        "\n"
      ],
      "metadata": {
        "colab": {
          "base_uri": "https://localhost:8080/",
          "height": 473
        },
        "id": "gJ_9U3jMe0rQ",
        "outputId": "15671c72-632e-4637-8cee-ddc3f8876b95"
      },
      "execution_count": null,
      "outputs": [
        {
          "output_type": "execute_result",
          "data": {
            "text/plain": [
              "                      ds         trend    yhat_lower    yhat_upper  \\\n",
              "9192 2021-03-30 20:00:00  20119.423410 -35608.684027  72593.522354   \n",
              "9193 2021-03-30 21:00:00  20120.299527 -35490.527679  72841.233796   \n",
              "9194 2021-03-30 22:00:00  20121.175643 -35697.175159  72351.012979   \n",
              "9195 2021-03-30 23:00:00  20122.051760 -35739.908625  72781.299250   \n",
              "9196 2021-03-31 00:00:00  20122.927877 -35570.362472  72540.967651   \n",
              "\n",
              "       trend_lower   trend_upper  additive_terms  additive_terms_lower  \\\n",
              "9192 -33949.614494  75067.284722    -1795.768445          -1795.768445   \n",
              "9193 -33962.787072  75077.768819    -1792.254033          -1792.254033   \n",
              "9194 -33975.959650  75086.158857    -1788.169188          -1788.169188   \n",
              "9195 -33989.132228  75094.169382    -1784.142431          -1784.142431   \n",
              "9196 -34002.304807  75102.179908    -1781.235094          -1781.235094   \n",
              "\n",
              "      additive_terms_upper     daily  ...    weekly  weekly_lower  \\\n",
              "9192          -1795.768445  0.378247  ...  5.170523      5.170523   \n",
              "9193          -1792.254033  1.884866  ...  4.845985      4.845985   \n",
              "9194          -1788.169188  3.925553  ...  4.554789      4.554789   \n",
              "9195          -1784.142431  5.873841  ...  4.294914      4.294914   \n",
              "9196          -1781.235094  6.671352  ...  4.063441      4.063441   \n",
              "\n",
              "      weekly_upper       yearly  yearly_lower  yearly_upper  \\\n",
              "9192      5.170523 -1801.317215  -1801.317215  -1801.317215   \n",
              "9193      4.845985 -1798.984884  -1798.984884  -1798.984884   \n",
              "9194      4.554789 -1796.649530  -1796.649530  -1796.649530   \n",
              "9195      4.294914 -1794.311187  -1794.311187  -1794.311187   \n",
              "9196      4.063441 -1791.969887  -1791.969887  -1791.969887   \n",
              "\n",
              "      multiplicative_terms  multiplicative_terms_lower  \\\n",
              "9192                   0.0                         0.0   \n",
              "9193                   0.0                         0.0   \n",
              "9194                   0.0                         0.0   \n",
              "9195                   0.0                         0.0   \n",
              "9196                   0.0                         0.0   \n",
              "\n",
              "      multiplicative_terms_upper          yhat  \n",
              "9192                         0.0  18323.654966  \n",
              "9193                         0.0  18328.045494  \n",
              "9194                         0.0  18333.006455  \n",
              "9195                         0.0  18337.909329  \n",
              "9196                         0.0  18341.692783  \n",
              "\n",
              "[5 rows x 22 columns]"
            ],
            "text/html": [
              "\n",
              "  <div id=\"df-15b512de-1436-48c1-9214-cc018183384e\">\n",
              "    <div class=\"colab-df-container\">\n",
              "      <div>\n",
              "<style scoped>\n",
              "    .dataframe tbody tr th:only-of-type {\n",
              "        vertical-align: middle;\n",
              "    }\n",
              "\n",
              "    .dataframe tbody tr th {\n",
              "        vertical-align: top;\n",
              "    }\n",
              "\n",
              "    .dataframe thead th {\n",
              "        text-align: right;\n",
              "    }\n",
              "</style>\n",
              "<table border=\"1\" class=\"dataframe\">\n",
              "  <thead>\n",
              "    <tr style=\"text-align: right;\">\n",
              "      <th></th>\n",
              "      <th>ds</th>\n",
              "      <th>trend</th>\n",
              "      <th>yhat_lower</th>\n",
              "      <th>yhat_upper</th>\n",
              "      <th>trend_lower</th>\n",
              "      <th>trend_upper</th>\n",
              "      <th>additive_terms</th>\n",
              "      <th>additive_terms_lower</th>\n",
              "      <th>additive_terms_upper</th>\n",
              "      <th>daily</th>\n",
              "      <th>...</th>\n",
              "      <th>weekly</th>\n",
              "      <th>weekly_lower</th>\n",
              "      <th>weekly_upper</th>\n",
              "      <th>yearly</th>\n",
              "      <th>yearly_lower</th>\n",
              "      <th>yearly_upper</th>\n",
              "      <th>multiplicative_terms</th>\n",
              "      <th>multiplicative_terms_lower</th>\n",
              "      <th>multiplicative_terms_upper</th>\n",
              "      <th>yhat</th>\n",
              "    </tr>\n",
              "  </thead>\n",
              "  <tbody>\n",
              "    <tr>\n",
              "      <th>9192</th>\n",
              "      <td>2021-03-30 20:00:00</td>\n",
              "      <td>20119.423410</td>\n",
              "      <td>-35608.684027</td>\n",
              "      <td>72593.522354</td>\n",
              "      <td>-33949.614494</td>\n",
              "      <td>75067.284722</td>\n",
              "      <td>-1795.768445</td>\n",
              "      <td>-1795.768445</td>\n",
              "      <td>-1795.768445</td>\n",
              "      <td>0.378247</td>\n",
              "      <td>...</td>\n",
              "      <td>5.170523</td>\n",
              "      <td>5.170523</td>\n",
              "      <td>5.170523</td>\n",
              "      <td>-1801.317215</td>\n",
              "      <td>-1801.317215</td>\n",
              "      <td>-1801.317215</td>\n",
              "      <td>0.0</td>\n",
              "      <td>0.0</td>\n",
              "      <td>0.0</td>\n",
              "      <td>18323.654966</td>\n",
              "    </tr>\n",
              "    <tr>\n",
              "      <th>9193</th>\n",
              "      <td>2021-03-30 21:00:00</td>\n",
              "      <td>20120.299527</td>\n",
              "      <td>-35490.527679</td>\n",
              "      <td>72841.233796</td>\n",
              "      <td>-33962.787072</td>\n",
              "      <td>75077.768819</td>\n",
              "      <td>-1792.254033</td>\n",
              "      <td>-1792.254033</td>\n",
              "      <td>-1792.254033</td>\n",
              "      <td>1.884866</td>\n",
              "      <td>...</td>\n",
              "      <td>4.845985</td>\n",
              "      <td>4.845985</td>\n",
              "      <td>4.845985</td>\n",
              "      <td>-1798.984884</td>\n",
              "      <td>-1798.984884</td>\n",
              "      <td>-1798.984884</td>\n",
              "      <td>0.0</td>\n",
              "      <td>0.0</td>\n",
              "      <td>0.0</td>\n",
              "      <td>18328.045494</td>\n",
              "    </tr>\n",
              "    <tr>\n",
              "      <th>9194</th>\n",
              "      <td>2021-03-30 22:00:00</td>\n",
              "      <td>20121.175643</td>\n",
              "      <td>-35697.175159</td>\n",
              "      <td>72351.012979</td>\n",
              "      <td>-33975.959650</td>\n",
              "      <td>75086.158857</td>\n",
              "      <td>-1788.169188</td>\n",
              "      <td>-1788.169188</td>\n",
              "      <td>-1788.169188</td>\n",
              "      <td>3.925553</td>\n",
              "      <td>...</td>\n",
              "      <td>4.554789</td>\n",
              "      <td>4.554789</td>\n",
              "      <td>4.554789</td>\n",
              "      <td>-1796.649530</td>\n",
              "      <td>-1796.649530</td>\n",
              "      <td>-1796.649530</td>\n",
              "      <td>0.0</td>\n",
              "      <td>0.0</td>\n",
              "      <td>0.0</td>\n",
              "      <td>18333.006455</td>\n",
              "    </tr>\n",
              "    <tr>\n",
              "      <th>9195</th>\n",
              "      <td>2021-03-30 23:00:00</td>\n",
              "      <td>20122.051760</td>\n",
              "      <td>-35739.908625</td>\n",
              "      <td>72781.299250</td>\n",
              "      <td>-33989.132228</td>\n",
              "      <td>75094.169382</td>\n",
              "      <td>-1784.142431</td>\n",
              "      <td>-1784.142431</td>\n",
              "      <td>-1784.142431</td>\n",
              "      <td>5.873841</td>\n",
              "      <td>...</td>\n",
              "      <td>4.294914</td>\n",
              "      <td>4.294914</td>\n",
              "      <td>4.294914</td>\n",
              "      <td>-1794.311187</td>\n",
              "      <td>-1794.311187</td>\n",
              "      <td>-1794.311187</td>\n",
              "      <td>0.0</td>\n",
              "      <td>0.0</td>\n",
              "      <td>0.0</td>\n",
              "      <td>18337.909329</td>\n",
              "    </tr>\n",
              "    <tr>\n",
              "      <th>9196</th>\n",
              "      <td>2021-03-31 00:00:00</td>\n",
              "      <td>20122.927877</td>\n",
              "      <td>-35570.362472</td>\n",
              "      <td>72540.967651</td>\n",
              "      <td>-34002.304807</td>\n",
              "      <td>75102.179908</td>\n",
              "      <td>-1781.235094</td>\n",
              "      <td>-1781.235094</td>\n",
              "      <td>-1781.235094</td>\n",
              "      <td>6.671352</td>\n",
              "      <td>...</td>\n",
              "      <td>4.063441</td>\n",
              "      <td>4.063441</td>\n",
              "      <td>4.063441</td>\n",
              "      <td>-1791.969887</td>\n",
              "      <td>-1791.969887</td>\n",
              "      <td>-1791.969887</td>\n",
              "      <td>0.0</td>\n",
              "      <td>0.0</td>\n",
              "      <td>0.0</td>\n",
              "      <td>18341.692783</td>\n",
              "    </tr>\n",
              "  </tbody>\n",
              "</table>\n",
              "<p>5 rows × 22 columns</p>\n",
              "</div>\n",
              "      <button class=\"colab-df-convert\" onclick=\"convertToInteractive('df-15b512de-1436-48c1-9214-cc018183384e')\"\n",
              "              title=\"Convert this dataframe to an interactive table.\"\n",
              "              style=\"display:none;\">\n",
              "        \n",
              "  <svg xmlns=\"http://www.w3.org/2000/svg\" height=\"24px\"viewBox=\"0 0 24 24\"\n",
              "       width=\"24px\">\n",
              "    <path d=\"M0 0h24v24H0V0z\" fill=\"none\"/>\n",
              "    <path d=\"M18.56 5.44l.94 2.06.94-2.06 2.06-.94-2.06-.94-.94-2.06-.94 2.06-2.06.94zm-11 1L8.5 8.5l.94-2.06 2.06-.94-2.06-.94L8.5 2.5l-.94 2.06-2.06.94zm10 10l.94 2.06.94-2.06 2.06-.94-2.06-.94-.94-2.06-.94 2.06-2.06.94z\"/><path d=\"M17.41 7.96l-1.37-1.37c-.4-.4-.92-.59-1.43-.59-.52 0-1.04.2-1.43.59L10.3 9.45l-7.72 7.72c-.78.78-.78 2.05 0 2.83L4 21.41c.39.39.9.59 1.41.59.51 0 1.02-.2 1.41-.59l7.78-7.78 2.81-2.81c.8-.78.8-2.07 0-2.86zM5.41 20L4 18.59l7.72-7.72 1.47 1.35L5.41 20z\"/>\n",
              "  </svg>\n",
              "      </button>\n",
              "      \n",
              "  <style>\n",
              "    .colab-df-container {\n",
              "      display:flex;\n",
              "      flex-wrap:wrap;\n",
              "      gap: 12px;\n",
              "    }\n",
              "\n",
              "    .colab-df-convert {\n",
              "      background-color: #E8F0FE;\n",
              "      border: none;\n",
              "      border-radius: 50%;\n",
              "      cursor: pointer;\n",
              "      display: none;\n",
              "      fill: #1967D2;\n",
              "      height: 32px;\n",
              "      padding: 0 0 0 0;\n",
              "      width: 32px;\n",
              "    }\n",
              "\n",
              "    .colab-df-convert:hover {\n",
              "      background-color: #E2EBFA;\n",
              "      box-shadow: 0px 1px 2px rgba(60, 64, 67, 0.3), 0px 1px 3px 1px rgba(60, 64, 67, 0.15);\n",
              "      fill: #174EA6;\n",
              "    }\n",
              "\n",
              "    [theme=dark] .colab-df-convert {\n",
              "      background-color: #3B4455;\n",
              "      fill: #D2E3FC;\n",
              "    }\n",
              "\n",
              "    [theme=dark] .colab-df-convert:hover {\n",
              "      background-color: #434B5C;\n",
              "      box-shadow: 0px 1px 3px 1px rgba(0, 0, 0, 0.15);\n",
              "      filter: drop-shadow(0px 1px 2px rgba(0, 0, 0, 0.3));\n",
              "      fill: #FFFFFF;\n",
              "    }\n",
              "  </style>\n",
              "\n",
              "      <script>\n",
              "        const buttonEl =\n",
              "          document.querySelector('#df-15b512de-1436-48c1-9214-cc018183384e button.colab-df-convert');\n",
              "        buttonEl.style.display =\n",
              "          google.colab.kernel.accessAllowed ? 'block' : 'none';\n",
              "\n",
              "        async function convertToInteractive(key) {\n",
              "          const element = document.querySelector('#df-15b512de-1436-48c1-9214-cc018183384e');\n",
              "          const dataTable =\n",
              "            await google.colab.kernel.invokeFunction('convertToInteractive',\n",
              "                                                     [key], {});\n",
              "          if (!dataTable) return;\n",
              "\n",
              "          const docLinkHtml = 'Like what you see? Visit the ' +\n",
              "            '<a target=\"_blank\" href=https://colab.research.google.com/notebooks/data_table.ipynb>data table notebook</a>'\n",
              "            + ' to learn more about interactive tables.';\n",
              "          element.innerHTML = '';\n",
              "          dataTable['output_type'] = 'display_data';\n",
              "          await google.colab.output.renderOutput(dataTable, element);\n",
              "          const docLink = document.createElement('div');\n",
              "          docLink.innerHTML = docLinkHtml;\n",
              "          element.appendChild(docLink);\n",
              "        }\n",
              "      </script>\n",
              "    </div>\n",
              "  </div>\n",
              "  "
            ]
          },
          "metadata": {},
          "execution_count": 84
        }
      ]
    },
    {
      "cell_type": "code",
      "source": [
        "fig = prophet.plot(forecast)\n",
        "# plotting phophet forcast"
      ],
      "metadata": {
        "colab": {
          "base_uri": "https://localhost:8080/",
          "height": 441
        },
        "id": "UKNWLN8WhSlc",
        "outputId": "cdea3a47-93ee-4a18-e278-124af1ca3ee3"
      },
      "execution_count": null,
      "outputs": [
        {
          "output_type": "display_data",
          "data": {
            "text/plain": [
              "<Figure size 720x432 with 1 Axes>"
            ],
            "image/png": "[encoded data removed]"
          },
          "metadata": {}
        }
      ]
    },
    {
      "cell_type": "code",
      "source": [
        "# using our evaluation function to predict \n",
        "evaluate_model(prophet, \"Prophet\", df_prophet_test, df_prophet_test.y)"
      ],
      "metadata": {
        "colab": {
          "base_uri": "https://localhost:8080/",
          "height": 676
        },
        "id": "U56nqdvXhrDZ",
        "outputId": "c7b095e0-60c6-4788-fa01-f5c5227b4a38"
      },
      "execution_count": null,
      "outputs": [
        {
          "output_type": "stream",
          "name": "stdout",
          "text": [
            "R Squared :  0.00926\n",
            "Mean Absolute Error:  10951.11048\n"
          ]
        },
        {
          "output_type": "display_data",
          "data": {
            "text/plain": [
              "<Figure size 1440x720 with 1 Axes>"
            ],
            "image/png": "[encoded data removed]"
          },
          "metadata": {
            "needs_background": "light"
          }
        },
        {
          "output_type": "execute_result",
          "data": {
            "text/plain": [
              "(0.009262234215237308, 10951.110480230733)"
            ]
          },
          "metadata": {},
          "execution_count": 86
        }
      ]
    },
    {
      "cell_type": "markdown",
      "source": [
        "#### XGBoost for supervised learning"
      ],
      "metadata": {
        "id": "IFhBOamnixLD"
      }
    },
    {
      "cell_type": "code",
      "source": [
        "import xgboost\n",
        "\n",
        "# defining XGBoost Regressor\n",
        "xgb_model = xgboost.XGBRegressor()\n",
        "xgb_model.fit(np.squeeze(X_train), np.squeeze(y_train)) # np.squeeze is to reduce the number of dimensions from say (m,n,1) to (m,n)\n"
      ],
      "metadata": {
        "colab": {
          "base_uri": "https://localhost:8080/"
        },
        "id": "hjuO1_9riogB",
        "outputId": "bfe3cfe4-916a-46c7-8424-08315183d818"
      },
      "execution_count": null,
      "outputs": [
        {
          "output_type": "stream",
          "name": "stdout",
          "text": [
            "[23:12:56] WARNING: /workspace/src/objective/regression_obj.cu:152: reg:linear is now deprecated in favor of reg:squarederror.\n"
          ]
        },
        {
          "output_type": "execute_result",
          "data": {
            "text/plain": [
              "XGBRegressor()"
            ]
          },
          "metadata": {},
          "execution_count": 87
        }
      ]
    },
    {
      "cell_type": "code",
      "source": [
        "evaluate_model(xgb_model, model_name=\"XGBoost\", test_data=np.squeeze(X_test), target_data=np.squeeze(y_test))\n",
        "# the model performs poorly as we scaled the data between 0 to 1, so it couldn't predict outside that range\n",
        "# because we kept the training feature scaling range (0,1)"
      ],
      "metadata": {
        "colab": {
          "base_uri": "https://localhost:8080/",
          "height": 676
        },
        "id": "EGusx7lnjnoz",
        "outputId": "e7e4468d-e1a2-4ef3-8b94-6a9b5f24ed73"
      },
      "execution_count": null,
      "outputs": [
        {
          "output_type": "stream",
          "name": "stdout",
          "text": [
            "R Squared :  0.60969\n",
            "Mean Absolute Error:  0.0523\n"
          ]
        },
        {
          "output_type": "display_data",
          "data": {
            "text/plain": [
              "<Figure size 1440x720 with 1 Axes>"
            ],
            "image/png": "[encoded data removed]"
          },
          "metadata": {
            "needs_background": "light"
          }
        },
        {
          "output_type": "execute_result",
          "data": {
            "text/plain": [
              "(0.6096859276083624, 0.05229789296474891)"
            ]
          },
          "metadata": {},
          "execution_count": 88
        }
      ]
    },
    {
      "cell_type": "markdown",
      "source": [
        "#### LSTM"
      ],
      "metadata": {
        "id": "el2IiznUkMiz"
      }
    },
    {
      "cell_type": "code",
      "source": [
        "# Importing required libraries\n",
        "import tensorflow as tf\n",
        "from tensorflow.keras.layers import LSTM, Activation, Dense, Dropout, Conv1D, MaxPooling1D, Flatten, BatchNormalization\n",
        "from tensorflow.keras.models import Sequential\n",
        "from tensorflow.keras.losses import MSE\n",
        "from tensorflow.keras.optimizers import Adam\n",
        "from tensorflow.keras.activations import relu\n",
        "\n",
        "from keras.callbacks import EarlyStopping # to overcome overfitting\n",
        "from keras.callbacks import ModelCheckpoint"
      ],
      "metadata": {
        "id": "0E4C4hu8kPqC"
      },
      "execution_count": null,
      "outputs": []
    },
    {
      "cell_type": "code",
      "source": [
        "# creating the deep learning model\n",
        "LSTM_Model = Sequential()\n"
      ],
      "metadata": {
        "id": "UYg-VGyIkzvS"
      },
      "execution_count": null,
      "outputs": []
    },
    {
      "cell_type": "code",
      "source": [
        "# building architecture of NN\n",
        "LSTM_Model.add(LSTM(units=96,\n",
        "                    return_sequences=True,\n",
        "                    input_shape=(X_train.shape[1], 1)))\n",
        "LSTM_Model.add(Dropout(0.2)) # dropout layer to avoid over-fitting\n",
        "LSTM_Model.add(LSTM(units=96, \n",
        "                    return_sequences=True))\n",
        "LSTM_Model.add(Dropout(0.2))\n",
        "LSTM_Model.add(LSTM(units=96, \n",
        "                    return_sequences=True))\n",
        "LSTM_Model.add(Dropout(0.2))\n",
        "LSTM_Model.add(LSTM(units=96))\n",
        "LSTM_Model.add(Dropout(0.2))\n",
        "LSTM_Model.add(Dense(units=1)) # output layer"
      ],
      "metadata": {
        "id": "XbU7iZkBlDBC"
      },
      "execution_count": null,
      "outputs": []
    },
    {
      "cell_type": "code",
      "source": [
        "LSTM_Model.summary()"
      ],
      "metadata": {
        "colab": {
          "base_uri": "https://localhost:8080/"
        },
        "id": "SyDYVXMVlNpq",
        "outputId": "8639cd38-02d0-4ff3-8009-55841762f04e"
      },
      "execution_count": null,
      "outputs": [
        {
          "output_type": "stream",
          "name": "stdout",
          "text": [
            "Model: \"sequential\"\n",
            "_________________________________________________________________\n",
            " Layer (type)                Output Shape              Param #   \n",
            "=================================================================\n",
            " lstm (LSTM)                 (None, 50, 96)            37632     \n",
            "                                                                 \n",
            " dropout (Dropout)           (None, 50, 96)            0         \n",
            "                                                                 \n",
            " lstm_1 (LSTM)               (None, 50, 96)            74112     \n",
            "                                                                 \n",
            " dropout_1 (Dropout)         (None, 50, 96)            0         \n",
            "                                                                 \n",
            " lstm_2 (LSTM)               (None, 50, 96)            74112     \n",
            "                                                                 \n",
            " dropout_2 (Dropout)         (None, 50, 96)            0         \n",
            "                                                                 \n",
            " lstm_3 (LSTM)               (None, 96)                74112     \n",
            "                                                                 \n",
            " dropout_3 (Dropout)         (None, 96)                0         \n",
            "                                                                 \n",
            " dense (Dense)               (None, 1)                 97        \n",
            "                                                                 \n",
            "=================================================================\n",
            "Total params: 260,065\n",
            "Trainable params: 260,065\n",
            "Non-trainable params: 0\n",
            "_________________________________________________________________\n"
          ]
        }
      ]
    },
    {
      "cell_type": "code",
      "source": [
        "# compiling the deep learning model with early stopping\n",
        "LSTM_Model.compile(loss=MSE, optimizer=Adam())\n",
        "es = EarlyStopping(monitor='val_loss', mode='min', verbose=1) # early stopping to avoid overfitting"
      ],
      "metadata": {
        "id": "o_T-daW1lVKz"
      },
      "execution_count": null,
      "outputs": []
    },
    {
      "cell_type": "code",
      "source": [
        "LSTM_Model.fit(X_train,y_train,batch_size=32,epochs=10,verbose=1,validation_split=0.05, callbacks=[es])\n",
        "# we stopped as model is overfitting, as we can clearly see validation error going up and training loss going down"
      ],
      "metadata": {
        "colab": {
          "base_uri": "https://localhost:8080/"
        },
        "id": "N6plviTKle77",
        "outputId": "57a8441d-f45a-4d52-da2e-761fafffa0ff"
      },
      "execution_count": null,
      "outputs": [
        {
          "output_type": "stream",
          "name": "stdout",
          "text": [
            "Epoch 1/10\n",
            "1091/1091 [==============================] - 28s 14ms/step - loss: 0.0029 - val_loss: 1.3266e-04\n",
            "Epoch 2/10\n",
            "1091/1091 [==============================] - 14s 13ms/step - loss: 0.0011 - val_loss: 8.5517e-04\n",
            "Epoch 2: early stopping\n"
          ]
        },
        {
          "output_type": "execute_result",
          "data": {
            "text/plain": [
              "<keras.callbacks.History at 0x7f5044081750>"
            ]
          },
          "metadata": {},
          "execution_count": 94
        }
      ]
    },
    {
      "cell_type": "code",
      "source": [
        "evaluate_model(LSTM_Model, \"LSTM\")\n",
        "# evaluating using our already created function"
      ],
      "metadata": {
        "colab": {
          "base_uri": "https://localhost:8080/",
          "height": 676
        },
        "id": "R7MWbPhKlh-a",
        "outputId": "c5bc32ff-a99b-43f6-a74c-f9181acf3677"
      },
      "execution_count": null,
      "outputs": [
        {
          "output_type": "stream",
          "name": "stdout",
          "text": [
            "R Squared :  0.97812\n",
            "Mean Absolute Error:  0.02318\n"
          ]
        },
        {
          "output_type": "display_data",
          "data": {
            "text/plain": [
              "<Figure size 1440x720 with 1 Axes>"
            ],
            "image/png": "[encoded data removed]"
          },
          "metadata": {
            "needs_background": "light"
          }
        },
        {
          "output_type": "execute_result",
          "data": {
            "text/plain": [
              "(0.9781208426084488, 0.023182056098139014)"
            ]
          },
          "metadata": {},
          "execution_count": 95
        }
      ]
    },
    {
      "cell_type": "markdown",
      "source": [
        "#### Final Thoughts\n",
        "*  the problem such finalcial models is we only consider the price parameter, \n",
        "*  there could be many other parameters like change in management, or any natural happening over a certain geographic location, etc. which cannot be used in the model beforehand"
      ],
      "metadata": {
        "id": "7HC2CyjVlpEM"
      }
    }
  ]
}