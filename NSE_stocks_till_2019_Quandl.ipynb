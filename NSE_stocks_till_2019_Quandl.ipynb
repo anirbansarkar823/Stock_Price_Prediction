{
  "cells": [
    {
      "cell_type": "code",
      "execution_count": null,
      "metadata": {
        "id": "BnU4cvhWvLkG"
      },
      "outputs": [],
      "source": [
        "# The aim is to decide which stock to buy based on analysis \n",
        "# A nice tutorial on price prediction is given by Ritvik here (https://www.youtube.com/watch?v=IPwDxoomxuA&list=PLvcbYUQ5t0UHdm6bNx3Rnj1fdpt9sGNsm)\n",
        "# The parameters considered are\n",
        "    # timeframe (say 1 month)\n",
        "    # Min returns (5%)\n",
        "    # Max volatility (3%)\n",
        "  # we will not buy a stock if any of the above parameter fails\n",
        "\n",
        "# We will measure the returns for a duration say 1 month, considering each day as starting point, and exactly 1 from then as ending point\n",
        "# using the line chart we can measure the avg returns and max volatility (using variance)"
      ]
    },
    {
      "cell_type": "code",
      "execution_count": null,
      "metadata": {
        "id": "Yrg37_6_xmGb"
      },
      "outputs": [],
      "source": [
        "# 1. Import modules- pandas, numpy, datetime, csv, pandas_datareader\n",
        "# 2. Input start and end date between which we want the stock prices\n",
        "# 3. Extract all the stock symbols listed on NSE e.g 20MICRONS, RELIANCE, BOSCHLTD\n",
        "# 4. Run a for loop to download the stock price data for each of the stock symbols. \n",
        "  # In the for loop we would be using web.Datareader() function to download data from quandl (https://www.quandl.com/)"
      ]
    },
    {
      "cell_type": "code",
      "execution_count": null,
      "metadata": {
        "id": "AbYo9xFyyKuB"
      },
      "outputs": [],
      "source": [
        "# Import modules\n",
        "from datetime import datetime, timedelta\n",
        "import pandas as pd\n",
        "pd.core.common.is_list_like = pd.api.types.is_list_like #For solving import pandas_datareader issue\n",
        "import numpy as np\n",
        "import datetime\n",
        "import csv\n",
        "import requests\n",
        "import pandas_datareader.data as web\n",
        "import pandas_datareader as pdr\n",
        "from pandas_datareader import data, wb"
      ]
    },
    {
      "cell_type": "code",
      "execution_count": null,
      "metadata": {
        "id": "QVm-Rkb23wxg"
      },
      "outputs": [],
      "source": [
        "# # NOT REQUIRED\n",
        "# # to download the file from nseindia\n",
        "# # https://www1.nseindia.com/products/content/all_daily_reports.htm\n",
        "# import pandas as pd\n",
        "# import zipfile\n",
        "\n",
        "# from io import StringIO\n",
        "# # from urllib import urlopen\n",
        "# from urllib.request import urlopen\n",
        "\n",
        "# resp = urlopen(\"https://www1.nseindia.com/content/historical/EQUITIES/2021/AUG/cm27AUG2021bhav.csv.zip\")\n",
        "# zf = zipfile.ZipFile(StringIO(resp.read()))\n",
        "# # zf = zipfile.ZipFile('https://www1.nseindia.com/content/historical/EQUITIES/2021/AUG/cm27AUG2021bhav.csv.zip') \n",
        "# df = pd.read_csv(zf.open('cm27AUG2021bhav.csv'))"
      ]
    },
    {
      "cell_type": "code",
      "execution_count": null,
      "metadata": {
        "colab": {
          "base_uri": "https://localhost:8080/",
          "height": 360
        },
        "id": "p-v8MwOG45tv",
        "outputId": "3ca4f727-16cd-4236-83ee-b9f82c5844ec"
      },
      "outputs": [
        {
          "data": {
            "text/html": [
              "<div>\n",
              "<style scoped>\n",
              "    .dataframe tbody tr th:only-of-type {\n",
              "        vertical-align: middle;\n",
              "    }\n",
              "\n",
              "    .dataframe tbody tr th {\n",
              "        vertical-align: top;\n",
              "    }\n",
              "\n",
              "    .dataframe thead th {\n",
              "        text-align: right;\n",
              "    }\n",
              "</style>\n",
              "<table border=\"1\" class=\"dataframe\">\n",
              "  <thead>\n",
              "    <tr style=\"text-align: right;\">\n",
              "      <th></th>\n",
              "      <th>0</th>\n",
              "      <th>1</th>\n",
              "      <th>2</th>\n",
              "      <th>3</th>\n",
              "      <th>4</th>\n",
              "      <th>5</th>\n",
              "      <th>6</th>\n",
              "      <th>7</th>\n",
              "      <th>8</th>\n",
              "      <th>9</th>\n",
              "      <th>10</th>\n",
              "      <th>11</th>\n",
              "      <th>12</th>\n",
              "      <th>13</th>\n",
              "      <th>14</th>\n",
              "    </tr>\n",
              "  </thead>\n",
              "  <tbody>\n",
              "    <tr>\n",
              "      <th>0</th>\n",
              "      <td>SYMBOL</td>\n",
              "      <td>SERIES</td>\n",
              "      <td>DATE1</td>\n",
              "      <td>PREV_CLOSE</td>\n",
              "      <td>OPEN_PRICE</td>\n",
              "      <td>HIGH_PRICE</td>\n",
              "      <td>LOW_PRICE</td>\n",
              "      <td>LAST_PRICE</td>\n",
              "      <td>CLOSE_PRICE</td>\n",
              "      <td>AVG_PRICE</td>\n",
              "      <td>TTL_TRD_QNTY</td>\n",
              "      <td>TURNOVER_LACS</td>\n",
              "      <td>NO_OF_TRADES</td>\n",
              "      <td>DELIV_QTY</td>\n",
              "      <td>DELIV_PER</td>\n",
              "    </tr>\n",
              "    <tr>\n",
              "      <th>1</th>\n",
              "      <td>20MICRONS</td>\n",
              "      <td>EQ</td>\n",
              "      <td>27-Aug-2021</td>\n",
              "      <td>52.75</td>\n",
              "      <td>52.00</td>\n",
              "      <td>54.10</td>\n",
              "      <td>52.00</td>\n",
              "      <td>53.10</td>\n",
              "      <td>53.45</td>\n",
              "      <td>53.36</td>\n",
              "      <td>60075</td>\n",
              "      <td>32.06</td>\n",
              "      <td>803</td>\n",
              "      <td>36196</td>\n",
              "      <td>60.25</td>\n",
              "    </tr>\n",
              "    <tr>\n",
              "      <th>2</th>\n",
              "      <td>21STCENMGM</td>\n",
              "      <td>EQ</td>\n",
              "      <td>27-Aug-2021</td>\n",
              "      <td>31.70</td>\n",
              "      <td>32.30</td>\n",
              "      <td>32.30</td>\n",
              "      <td>31.10</td>\n",
              "      <td>32.30</td>\n",
              "      <td>32.30</td>\n",
              "      <td>31.59</td>\n",
              "      <td>61609</td>\n",
              "      <td>19.46</td>\n",
              "      <td>302</td>\n",
              "      <td>48159</td>\n",
              "      <td>78.17</td>\n",
              "    </tr>\n",
              "    <tr>\n",
              "      <th>3</th>\n",
              "      <td>3IINFOTECH</td>\n",
              "      <td>BE</td>\n",
              "      <td>27-Aug-2021</td>\n",
              "      <td>8.05</td>\n",
              "      <td>8.45</td>\n",
              "      <td>8.45</td>\n",
              "      <td>8.45</td>\n",
              "      <td>8.45</td>\n",
              "      <td>8.45</td>\n",
              "      <td>8.45</td>\n",
              "      <td>7106212</td>\n",
              "      <td>600.47</td>\n",
              "      <td>5009</td>\n",
              "      <td>-</td>\n",
              "      <td>-</td>\n",
              "    </tr>\n",
              "    <tr>\n",
              "      <th>4</th>\n",
              "      <td>3MINDIA</td>\n",
              "      <td>EQ</td>\n",
              "      <td>27-Aug-2021</td>\n",
              "      <td>22828.10</td>\n",
              "      <td>22705.10</td>\n",
              "      <td>22805.10</td>\n",
              "      <td>22575.25</td>\n",
              "      <td>22688.15</td>\n",
              "      <td>22643.35</td>\n",
              "      <td>22654.32</td>\n",
              "      <td>2514</td>\n",
              "      <td>569.53</td>\n",
              "      <td>1563</td>\n",
              "      <td>1818</td>\n",
              "      <td>72.32</td>\n",
              "    </tr>\n",
              "  </tbody>\n",
              "</table>\n",
              "</div>"
            ],
            "text/plain": [
              "           0        1             2   ...             12          13          14\n",
              "0      SYMBOL   SERIES         DATE1  ...   NO_OF_TRADES   DELIV_QTY   DELIV_PER\n",
              "1   20MICRONS       EQ   27-Aug-2021  ...            803       36196       60.25\n",
              "2  21STCENMGM       EQ   27-Aug-2021  ...            302       48159       78.17\n",
              "3  3IINFOTECH       BE   27-Aug-2021  ...           5009           -           -\n",
              "4     3MINDIA       EQ   27-Aug-2021  ...           1563        1818       72.32\n",
              "\n",
              "[5 rows x 15 columns]"
            ]
          },
          "execution_count": 2,
          "metadata": {},
          "output_type": "execute_result"
        }
      ],
      "source": [
        "Today = datetime.datetime.now().strftime (\"%Y-%m-%d\")\n",
        "\n",
        "# Import list of stock names from NSE website\n",
        "with requests.Session() as s:\n",
        "    download = s.get('https://www1.nseindia.com/products/content/sec_bhavdata_full.csv')\n",
        "    decoded_content = download.content.decode('utf-8')\n",
        "    cr = csv.reader(decoded_content.splitlines(), delimiter=',')\n",
        "    stock_nse = pd.DataFrame(list(cr))\n",
        "    \n",
        "#View the top rows\n",
        "stock_nse.head()"
      ]
    },
    {
      "cell_type": "code",
      "execution_count": null,
      "metadata": {
        "colab": {
          "base_uri": "https://localhost:8080/"
        },
        "id": "2ttaNWFdDjJr",
        "outputId": "e4147e94-0222-4953-a539-f651a31549ca"
      },
      "outputs": [
        {
          "data": {
            "text/plain": [
              "0             SYMBOL\n",
              "1             SERIES\n",
              "2              DATE1\n",
              "3         PREV_CLOSE\n",
              "4         OPEN_PRICE\n",
              "5         HIGH_PRICE\n",
              "6          LOW_PRICE\n",
              "7         LAST_PRICE\n",
              "8        CLOSE_PRICE\n",
              "9          AVG_PRICE\n",
              "10      TTL_TRD_QNTY\n",
              "11     TURNOVER_LACS\n",
              "12      NO_OF_TRADES\n",
              "13         DELIV_QTY\n",
              "14         DELIV_PER\n",
              "Name: 0, dtype: object"
            ]
          },
          "execution_count": 3,
          "metadata": {},
          "output_type": "execute_result"
        }
      ],
      "source": [
        "new_header = stock_nse.iloc[0]\n",
        "new_header"
      ]
    },
    {
      "cell_type": "code",
      "execution_count": null,
      "metadata": {
        "colab": {
          "base_uri": "https://localhost:8080/",
          "height": 394
        },
        "id": "CJegEK8mypYq",
        "outputId": "36b2a148-b316-4680-970f-b8ce555e9b51"
      },
      "outputs": [
        {
          "data": {
            "text/html": [
              "<div>\n",
              "<style scoped>\n",
              "    .dataframe tbody tr th:only-of-type {\n",
              "        vertical-align: middle;\n",
              "    }\n",
              "\n",
              "    .dataframe tbody tr th {\n",
              "        vertical-align: top;\n",
              "    }\n",
              "\n",
              "    .dataframe thead th {\n",
              "        text-align: right;\n",
              "    }\n",
              "</style>\n",
              "<table border=\"1\" class=\"dataframe\">\n",
              "  <thead>\n",
              "    <tr style=\"text-align: right;\">\n",
              "      <th></th>\n",
              "      <th>SYMBOL</th>\n",
              "      <th>SERIES</th>\n",
              "      <th>DATE1</th>\n",
              "      <th>PREV_CLOSE</th>\n",
              "      <th>OPEN_PRICE</th>\n",
              "      <th>HIGH_PRICE</th>\n",
              "      <th>LOW_PRICE</th>\n",
              "      <th>LAST_PRICE</th>\n",
              "      <th>CLOSE_PRICE</th>\n",
              "      <th>AVG_PRICE</th>\n",
              "      <th>TTL_TRD_QNTY</th>\n",
              "      <th>TURNOVER_LACS</th>\n",
              "      <th>NO_OF_TRADES</th>\n",
              "      <th>DELIV_QTY</th>\n",
              "      <th>DELIV_PER</th>\n",
              "    </tr>\n",
              "  </thead>\n",
              "  <tbody>\n",
              "    <tr>\n",
              "      <th>1</th>\n",
              "      <td>20MICRONS</td>\n",
              "      <td>EQ</td>\n",
              "      <td>27-Aug-2021</td>\n",
              "      <td>52.75</td>\n",
              "      <td>52.00</td>\n",
              "      <td>54.10</td>\n",
              "      <td>52.00</td>\n",
              "      <td>53.10</td>\n",
              "      <td>53.45</td>\n",
              "      <td>53.36</td>\n",
              "      <td>60075</td>\n",
              "      <td>32.06</td>\n",
              "      <td>803</td>\n",
              "      <td>36196</td>\n",
              "      <td>60.25</td>\n",
              "    </tr>\n",
              "    <tr>\n",
              "      <th>2</th>\n",
              "      <td>21STCENMGM</td>\n",
              "      <td>EQ</td>\n",
              "      <td>27-Aug-2021</td>\n",
              "      <td>31.70</td>\n",
              "      <td>32.30</td>\n",
              "      <td>32.30</td>\n",
              "      <td>31.10</td>\n",
              "      <td>32.30</td>\n",
              "      <td>32.30</td>\n",
              "      <td>31.59</td>\n",
              "      <td>61609</td>\n",
              "      <td>19.46</td>\n",
              "      <td>302</td>\n",
              "      <td>48159</td>\n",
              "      <td>78.17</td>\n",
              "    </tr>\n",
              "    <tr>\n",
              "      <th>3</th>\n",
              "      <td>3IINFOTECH</td>\n",
              "      <td>BE</td>\n",
              "      <td>27-Aug-2021</td>\n",
              "      <td>8.05</td>\n",
              "      <td>8.45</td>\n",
              "      <td>8.45</td>\n",
              "      <td>8.45</td>\n",
              "      <td>8.45</td>\n",
              "      <td>8.45</td>\n",
              "      <td>8.45</td>\n",
              "      <td>7106212</td>\n",
              "      <td>600.47</td>\n",
              "      <td>5009</td>\n",
              "      <td>-</td>\n",
              "      <td>-</td>\n",
              "    </tr>\n",
              "    <tr>\n",
              "      <th>4</th>\n",
              "      <td>3MINDIA</td>\n",
              "      <td>EQ</td>\n",
              "      <td>27-Aug-2021</td>\n",
              "      <td>22828.10</td>\n",
              "      <td>22705.10</td>\n",
              "      <td>22805.10</td>\n",
              "      <td>22575.25</td>\n",
              "      <td>22688.15</td>\n",
              "      <td>22643.35</td>\n",
              "      <td>22654.32</td>\n",
              "      <td>2514</td>\n",
              "      <td>569.53</td>\n",
              "      <td>1563</td>\n",
              "      <td>1818</td>\n",
              "      <td>72.32</td>\n",
              "    </tr>\n",
              "    <tr>\n",
              "      <th>5</th>\n",
              "      <td>3PLAND</td>\n",
              "      <td>BE</td>\n",
              "      <td>27-Aug-2021</td>\n",
              "      <td>13.70</td>\n",
              "      <td>13.50</td>\n",
              "      <td>13.75</td>\n",
              "      <td>13.30</td>\n",
              "      <td>13.75</td>\n",
              "      <td>13.65</td>\n",
              "      <td>13.52</td>\n",
              "      <td>2488</td>\n",
              "      <td>0.34</td>\n",
              "      <td>44</td>\n",
              "      <td>-</td>\n",
              "      <td>-</td>\n",
              "    </tr>\n",
              "  </tbody>\n",
              "</table>\n",
              "</div>"
            ],
            "text/plain": [
              "       SYMBOL  SERIES         DATE1  ...  NO_OF_TRADES  DELIV_QTY  DELIV_PER\n",
              "1   20MICRONS      EQ   27-Aug-2021  ...           803      36196      60.25\n",
              "2  21STCENMGM      EQ   27-Aug-2021  ...           302      48159      78.17\n",
              "3  3IINFOTECH      BE   27-Aug-2021  ...          5009          -          -\n",
              "4     3MINDIA      EQ   27-Aug-2021  ...          1563       1818      72.32\n",
              "5      3PLAND      BE   27-Aug-2021  ...            44          -          -\n",
              "\n",
              "[5 rows x 15 columns]"
            ]
          },
          "execution_count": 4,
          "metadata": {},
          "output_type": "execute_result"
        }
      ],
      "source": [
        "# Clean the downloaded data\n",
        "# Rename the headers\n",
        "new_header = stock_nse.iloc[0] #grab the first row for the header; as they gives the name of stocks\n",
        "stock_nse = stock_nse[1:] #take the data less the header row\n",
        "stock_nse = stock_nse.rename(columns = new_header)\n",
        "stock_nse.head()"
      ]
    },
    {
      "cell_type": "code",
      "execution_count": null,
      "metadata": {
        "colab": {
          "base_uri": "https://localhost:8080/"
        },
        "id": "pRvouiaXDzjf",
        "outputId": "3e3512ed-59bc-48e6-fa28-e843de59b6d5"
      },
      "outputs": [
        {
          "name": "stdout",
          "output_type": "stream",
          "text": [
            "['NSE/FMNL', 'NSE/BIRLACORPN', 'NSE/UNIVPHOTO', 'NSE/ACRYSIL', 'NSE/DHANUKA', 'NSE/MADHUCON', 'NSE/SONAMCLOCK', 'NSE/HITECH', 'NSE/MAZDA', 'NSE/LPDC', 'NSE/INNOVANA', 'NSE/IFBAGRO', 'NSE/JASH', 'NSE/THERMAX', 'NSE/FORTIS', 'NSE/SHUBHLAXMI', 'NSE/CHEMPLASTS', 'NSE/HOMEFIRST', 'NSE/UJJIVANSFB', 'NSE/STAR', 'NSE/WEIZMANIND', 'NSE/ICICI500', 'NSE/CLSEL', 'NSE/SHIVATEX', 'NSE/PONNIERODE', 'NSE/REPL', 'NSE/BAFNAPH', 'NSE/ISMTLTD', 'NSE/NEXTMEDIA', 'NSE/NUVOCO', 'NSE/TTKPRESTIG', 'NSE/SHREERAMA', 'NSE/VIVIDHA', 'NSE/KIOCL', 'NSE/BIRLATYRE', 'NSE/SIS', 'NSE/HUBTOWN', 'NSE/IRB', 'NSE/VIKASLIFE', 'NSE/APLAPOLLO', 'NSE/HDFCBANK', 'NSE/BANKBEES', 'NSE/SPICEJET', 'NSE/SGBJUN29II', 'NSE/GILLANDERS', 'NSE/HIMATSEIDE', 'NSE/UCOBANK', 'NSE/SHARDACROP', 'NSE/ELGIEQUIP', 'NSE/VASWANI', 'NSE/NTPC', 'NSE/SREIBNPNCD', 'NSE/EBBETF0430', 'NSE/FORCEMOT', 'NSE/JINDALPHOT', 'NSE/BSLNIFTY', 'NSE/IIHFL', 'NSE/CEBBCO', 'NSE/ENDURANCE', 'NSE/AAATECH', 'NSE/TREJHARA', 'NSE/NETFSDL26', 'NSE/RBL', 'NSE/PHILIPCARB', 'NSE/PAISALO', 'NSE/CONTROLPR', 'NSE/GMDCLTD', 'NSE/VIJIFIN', 'NSE/VIPIND', 'NSE/JUMPNET', 'NSE/PHOENIXLTD', 'NSE/EBANK', 'NSE/JSLHISAR', 'NSE/IBULHSGFIN', 'NSE/ICIL', 'NSE/RUPA', 'NSE/SGBNOV23', 'NSE/NOVARTIND', 'NSE/ORISSAMINE', 'NSE/ORIENTHOT', 'NSE/GAYAPROJ', 'NSE/CLEAN', 'NSE/ASAHISONG', 'NSE/HBLPOWER', 'NSE/SGBFEB28IX', 'NSE/DALMIASUG', 'NSE/RSSOFTWARE', 'NSE/SARVESHWAR', 'NSE/SELAN', 'NSE/SKIPPER', 'NSE/INTELLECT', 'NSE/TARMAT', 'NSE/CHOLAFIN', 'NSE/UNIVASTU', 'NSE/SUNDARMFIN', 'NSE/MAESGETF', 'NSE/LINDEINDIA', 'NSE/INDHOTEL', 'NSE/SESHAPAPER', 'NSE/DAAWAT', 'NSE/ANDHRACEMT', 'NSE/TATACHEM', 'NSE/PDSMFL', 'NSE/IPL', 'NSE/AXISNIFTY', 'NSE/BINDALAGRO', 'NSE/JUNIORBEES', 'NSE/KHANDSE', 'NSE/JPASSOCIAT', 'NSE/TCI', 'NSE/BIRLACABLE', 'NSE/EXPLEOSOL', 'NSE/KAUSHALYA', 'NSE/HAVELLS', 'NSE/TIRUMALCHM', 'NSE/ORICONENT', 'NSE/SETFGOLD', 'NSE/MODISNME', 'NSE/IWEL', 'NSE/SGBDC27VII', 'NSE/MAGNUM', 'NSE/AARTISURF', 'NSE/SGBMAR25', 'NSE/MRPL', 'NSE/TEXINFRA', 'NSE/FMGOETZE', 'NSE/KOPRAN', 'NSE/JETAIRWAYS', 'NSE/SCHAEFFLER', 'NSE/CRAFTSMAN', 'NSE/MAJESCO', 'NSE/SGBNOV24', 'NSE/IEX', 'NSE/JAINSTUDIO', 'NSE/CHEMFAB', 'NSE/HIRECT', 'NSE/PILANIINVS', 'NSE/HIKAL', 'NSE/CIGNITITEC', 'NSE/ABBOTINDIA', 'NSE/BOSCHLTD', 'NSE/EBBETF0425', 'NSE/HNDFDS', 'NSE/VIKASPROP', 'NSE/ICICIM150', 'NSE/676GS2061', 'NSE/SICAL', 'NSE/NDRAUTO', 'NSE/RAJRAYON', 'NSE/COUNCODOS', 'NSE/NBVENTURES', 'NSE/DHUNINV', 'NSE/HINDCON', 'NSE/SOMICONVEY', 'NSE/DAMODARIND', 'NSE/TEJASNET', 'NSE/DALBHARAT', 'NSE/DEEPAKNTR', 'NSE/PTL', 'NSE/ALOKINDS', 'NSE/KIRLOSIND', 'NSE/VARROC', 'NSE/STCINDIA', 'NSE/RUCHINFRA', 'NSE/ORIENTLTD', 'NSE/CADILAHC', 'NSE/AMBUJACEM', 'NSE/AIROLAM', 'NSE/TTKHLTCARE', 'NSE/KALYANIFRG', 'NSE/ORCHPHARMA', 'NSE/RANEENGINE', 'NSE/SAGARDEEP', 'NSE/SETF10GILT', 'NSE/INDOSTAR', 'NSE/CANFINHOME', 'NSE/RKDL', 'NSE/ASPINWALL', 'NSE/SUNFLAG', 'NSE/PRSMJOHNSN', 'NSE/AUTOAXLES', 'NSE/SSINFRA', 'NSE/ANSALHSG', 'NSE/ATFL', 'NSE/DELTACORP', 'NSE/SALASAR', 'NSE/GPPL', 'NSE/GODREJAGRO', 'NSE/HERITGFOOD', 'NSE/BROOKS', 'NSE/AHLWEST', 'NSE/BASML', 'NSE/HEXATRADEX', 'NSE/KHADIM', 'NSE/HINDZINC', 'NSE/IBMFNIFTY', 'NSE/HATHWAY', 'NSE/EIHAHOTELS', 'NSE/COFFEEDAY', 'NSE/HTMEDIA', 'NSE/LXCHEM', 'NSE/MOGSEC', 'NSE/EBIXFOREX', 'NSE/CPSEETF', 'NSE/BCLIND', 'NSE/GESHIP', 'NSE/LAMBODHARA', 'NSE/GRASIM', 'NSE/TCS', 'NSE/MAFANG', 'NSE/BOMDYEING', 'NSE/DABUR', 'NSE/TCIEXP', 'NSE/TRIDENT', 'NSE/CELEBRITY', 'NSE/VRLLOG', 'NSE/GTPL', 'NSE/ROUTE', 'NSE/TARACHAND', 'NSE/INDOTECH', 'NSE/MANGCHEFER', 'NSE/PDMJEPAPER', 'NSE/HIL', 'NSE/SERVOTECH', 'NSE/NRAIL', 'NSE/ITC', 'NSE/V2RETAIL', 'NSE/GEOJITFSL', 'NSE/SOUTHBANK', 'NSE/IGARASHI', 'NSE/MALUPAPER', 'NSE/MEGASOFT', 'NSE/PAGEIND', 'NSE/IRCON', 'NSE/SPECIALITY', 'NSE/COLPAL', 'NSE/TATAMETALI', 'NSE/DEEPAKFERT', 'NSE/DECCANCE', 'NSE/GICHSGFIN', 'NSE/INDBANK', 'NSE/UTIBANKETF', 'NSE/INDIAMART', 'NSE/INDUSTOWER', 'NSE/SGBJAN27', 'NSE/HMVL', 'NSE/IVZINGOLD', 'NSE/ABFRL', 'NSE/SANWARIA', 'NSE/CASTROLIND', 'NSE/SGBJUN28', 'NSE/RUSHIL', 'NSE/TCPLPACK', 'NSE/BSE', 'NSE/ORTEL', 'NSE/GULPOLY', 'NSE/MTARTECH', 'NSE/AIAENG', 'NSE/RHFL', 'NSE/AGROPHOS', 'NSE/APOLLOPIPE', 'NSE/CAPLIPOINT', 'NSE/J&KBANK', 'NSE/GDL', 'NSE/LINCOLN', 'NSE/SURYALAXMI', 'NSE/POWERGRID', 'NSE/TATAMTRDVR', 'NSE/PFIZER', 'NSE/DENORA', 'NSE/UNIVCABLES', 'NSE/ROLTA', 'NSE/HLEGLAS', 'NSE/ARSSINFRA', 'NSE/APARINDS', 'NSE/SGBJUL29IV', 'NSE/HINDMOTORS', 'NSE/PATINTLOG', 'NSE/CONFIPET', 'NSE/PRESSMN', 'NSE/JPINFRATEC', 'NSE/DHANI', 'NSE/MANINFRA', 'NSE/PNB', 'NSE/SANGHVIMOV', 'NSE/WHIRLPOOL', 'NSE/667GS2050', 'NSE/DHANBANK', 'NSE/ORIENTALTL', 'NSE/SOLARA', 'NSE/CANBK', 'NSE/ARVINDFASN', 'NSE/JETFREIGHT', 'NSE/GREENPOWER', 'NSE/JAGRAN', 'NSE/JAYAGROGN', 'NSE/UFLEX', 'NSE/BFUTILITIE', 'NSE/BHARTIARTL', 'NSE/CERA', 'NSE/SGBSEP24', 'NSE/TAKE', 'NSE/ICICIFMCG', 'NSE/FIEMIND', 'NSE/MAHESHWARI', 'NSE/GLOBUSSPR', 'NSE/DEN', 'NSE/WABAG', 'NSE/MANAKALUCO', 'NSE/EROSMEDIA', 'NSE/LEXUS', 'NSE/ANMOL', 'NSE/GRAVITA', 'NSE/VESUVIUS', 'NSE/VIPULLTD', 'NSE/INOXLEISUR', 'NSE/IBUCCREDIT', 'NSE/ASIANPAINT', 'NSE/NBCC', 'NSE/VAIBHAVGBL', 'NSE/RSWM', 'NSE/LTI', 'NSE/DIVISLAB', 'NSE/ANIKINDS', 'NSE/ONEPOINT', 'NSE/OSWALAGRO', 'NSE/CINEVISTA', 'NSE/PURVA', 'NSE/DEVIT', 'NSE/WEALTH', 'NSE/SBICARD', 'NSE/SAREGAMA', 'NSE/VIPCLOTHNG', 'NSE/AARTIIND', 'NSE/PARSVNATH', 'NSE/DATAMATICS', 'NSE/ATGL', 'NSE/AMJLAND', 'NSE/CCHHL', 'NSE/IOLCP', 'NSE/JKTYRE', 'NSE/NETFDIVOPP', 'NSE/BHARATRAS', 'NSE/CEATLTD', 'NSE/JUSTDIAL', 'NSE/GUJAPOLLO', 'NSE/ASTRAZEN', 'NSE/VENKEYS', 'NSE/CUBEXTUB', 'NSE/DSSL', 'NSE/ANANTRAJ', 'NSE/MARATHON', 'NSE/AXISGOLD', 'NSE/HUHTAMAKI', 'NSE/SHIVAMAUTO', 'NSE/ONWARDTEC', 'NSE/VAISHALI', 'NSE/EXIDEIND', 'NSE/MGL', 'NSE/STEL', 'NSE/NIRAJ', 'NSE/IMPAL', 'NSE/SUBEXLTD', 'NSE/HDIL', 'NSE/BANG', 'NSE/PIGL', 'NSE/SUVIDHAA', 'NSE/BORORENEW', 'NSE/ESSARSHPNG', 'NSE/ARSHIYA', 'NSE/ASTRON', 'NSE/TATACOFFEE', 'NSE/JINDALPOLY', 'NSE/AXISHCETF', 'NSE/KAMDHENU', 'NSE/FSC', 'NSE/MPHASIS', 'NSE/APOLLO', 'NSE/NAVINFLUOR', 'NSE/TATAINVEST', 'NSE/NAHARINDUS', 'NSE/ASALCBR', 'NSE/MAHICKRA', 'NSE/JKLAKSHMI', 'NSE/NHBTF2014', 'NSE/KOTAKBKETF', 'NSE/ORTINLAB', 'NSE/EBBETF0431', 'NSE/ABB', 'NSE/PARACABLES', 'NSE/ECLERX', 'NSE/MAHLIFE', 'NSE/PRINCEPIPE', 'NSE/SAIL', 'NSE/GRSE', 'NSE/KANANIIND', 'NSE/ARVSMART', 'NSE/CROMPTON', 'NSE/EXXARO', 'NSE/LASA', 'NSE/WELSPUNIND', 'NSE/MANUGRAPH', 'NSE/SHREYAS', 'NSE/NETFCONSUM', 'NSE/ICICIBANKN', 'NSE/SGBFEB24', 'NSE/LINCPEN', 'NSE/ANDHRSUGAR', 'NSE/SGL', 'NSE/DUCON', 'NSE/UJAAS', 'NSE/QNIFTY', 'NSE/ISEC', 'NSE/IDBI', 'NSE/SBCL', 'NSE/AMRUTANJAN', 'NSE/SUMEETINDS', 'NSE/MAHSEAMLES', 'NSE/NACLIND', 'NSE/TORNTPOWER', 'NSE/IDFCFIRSTB', 'NSE/HCLTECH', 'NSE/KAJARIACER', 'NSE/ARCHIDPLY', 'NSE/RENUKA', 'NSE/RADIOCITY', 'NSE/TATAPOWER', 'NSE/GOKULAGRO', 'NSE/INDLMETER', 'NSE/IIFLWAM', 'NSE/TNTELE', 'NSE/NDGL', 'NSE/ORIENTPPR', 'NSE/KAMATHOTEL', 'NSE/PROINDIA', 'NSE/KPRMILL', 'NSE/TV18BRDCST', 'NSE/NATCOPHARM', 'NSE/GUJRAFFIA', 'NSE/LT', 'NSE/SURYODAY', 'NSE/GILLETTE', 'NSE/FLFL', 'NSE/RSYSTEMS', 'NSE/GTL', 'NSE/ZUARI', 'NSE/EKC', 'NSE/MBECL', 'NSE/UTIAMC', 'NSE/BSLGOLDETF', 'NSE/RAMCOIND', 'NSE/SRF', 'NSE/KOTAKBANK', 'NSE/WIPL', 'NSE/EDUCOMP', 'NSE/SGBJ28VIII', 'NSE/VASCONEQ', 'NSE/AGCNET', 'NSE/BHANDARI', 'NSE/BIRET', 'NSE/KSB', 'NSE/ICDSLTD', 'NSE/JUBLINGREA', 'NSE/WATERBASE', 'NSE/HINDCOPPER', 'NSE/CORDSCABLE', 'NSE/UBL', 'NSE/KOTHARIPET', 'NSE/INCREDIBLE', 'NSE/TVSELECT', 'NSE/ALKYLAMINE', 'NSE/PRICOLLTD', 'NSE/JMTAUTOLTD', 'NSE/ICICIGOLD', 'NSE/MINDACORP', 'NSE/BIGBLOC', 'NSE/ARVIND', 'NSE/BSL', 'NSE/PALASHSECU', 'NSE/PIONDIST', 'NSE/NEWGEN', 'NSE/KOLTEPATIL', 'NSE/ASTRAL', 'NSE/HBSL', 'NSE/BSOFT', 'NSE/POLYPLEX', 'NSE/CGCL', 'NSE/JPPOWER', 'NSE/CEREBRAINT', 'NSE/ICICIGI', 'NSE/KTKBANK', 'NSE/KEERTI', 'NSE/LEMONTREE', 'NSE/RAJESHEXPO', 'NSE/REXPIPES', 'NSE/UTINEXT50', 'NSE/DPSCLTD', 'NSE/NETFIT', 'NSE/STARPAPER', 'NSE/THEMISMED', 'NSE/INVENTURE', 'NSE/KELLTONTEC', 'NSE/L&TFINANCE', 'NSE/JINDALSAW', 'NSE/JSWISPL', 'NSE/FOSECOIND', 'NSE/KENNAMET', 'NSE/SIEMENS', 'NSE/PCJEWELLER', 'NSE/NDTV', 'NSE/KRBL', 'NSE/JALAN', 'NSE/PNBGILTS', 'NSE/DBSTOCKBRO', 'NSE/TVSSRICHAK', 'NSE/AXISBPSETF', 'NSE/HISARMETAL', 'NSE/GREENLAM', 'NSE/ANKITMETAL', 'NSE/SHYAMMETL', 'NSE/GRAPHITE', 'NSE/ANDREWYU', 'NSE/ICEMAKE', 'NSE/JMFINANCIL', 'NSE/SUZLON', 'NSE/RAMCOSYS', 'NSE/POWERINDIA', 'NSE/TIRUPATIFL', 'NSE/STYLAMIND', 'NSE/PTC', 'NSE/LGBFORGE', 'NSE/ARVEE', 'NSE/AUSOMENT', 'NSE/HINDOILEXP', 'NSE/XELPMOC', 'NSE/MENONBE', 'NSE/CAMLINFINE', 'NSE/KESORAMIND', 'NSE/OLECTRA', 'NSE/ALPA', 'NSE/MOHITIND', 'NSE/PREMEXPLN', 'NSE/TATVA', 'NSE/DRREDDY', 'NSE/JISLJALEQS', 'NSE/WEWIN', 'NSE/BEPL', 'NSE/UNIINFO', 'NSE/NETFGILT5Y', 'NSE/PANACHE', 'NSE/SONACOMS', 'NSE/BYKE', 'NSE/BANCOINDIA', 'NSE/EPL', 'NSE/SRIPIPES', 'NSE/TATACOMM', 'NSE/UNITECH', 'NSE/M&M', 'NSE/DFMFOODS', 'NSE/SKSTEXTILE', 'NSE/BHAGYAPROP', 'NSE/RPSGVENT', 'NSE/BARBEQUE', 'NSE/EICHERMOT', 'NSE/KOTAKNV20', 'NSE/QUICKHEAL', 'NSE/SAKUMA', 'NSE/AARVI', 'NSE/MAYURUNIQ', 'NSE/INEOSSTYRO', 'NSE/APLLTD', 'NSE/TRENT', 'NSE/INFOBEAN', 'NSE/TRIVENI', 'NSE/3MINDIA', 'NSE/74GS2035', 'NSE/TNPL', 'NSE/INDIANCARD', 'NSE/IIFL', 'NSE/BCG', 'NSE/JSL', 'NSE/NETFLTGILT', 'NSE/AHLADA', 'NSE/CENTURYPLY', 'NSE/TINPLATE', 'NSE/BECTORFOOD', 'NSE/SHK', 'NSE/TECHIN', 'NSE/POLYMED', 'NSE/KHAICHEM', 'NSE/GOACARBON', 'NSE/GENCON', 'NSE/RPOWER', 'NSE/SEYAIND', 'NSE/JAMNAAUTO', 'NSE/JAIBALAJI', 'NSE/GHCL', 'NSE/BALLARPUR', 'NSE/PSPPROJECT', 'NSE/GNFC', 'NSE/GNA', 'NSE/SALZERELEC', 'NSE/WORTH', 'NSE/SBILIFE', 'NSE/VISASTEEL', 'NSE/VISAKAIND', 'NSE/KERNEX', 'NSE/DODLA', 'NSE/SANDESH', 'NSE/PENINLAND', 'NSE/SUNPHARMA', 'NSE/ACCELYA', 'NSE/JINDALSTEL', 'NSE/PGIL', 'NSE/WINDMACHIN', 'NSE/GLOBAL', 'NSE/MUKTAARTS', 'NSE/PAEL', 'NSE/SECURKLOUD', 'NSE/SUNTECK', 'NSE/GSCLCEMENT', 'NSE/SUPREMEIND', 'NSE/BSHSL', 'NSE/PETRONET', 'NSE/KIRLOSENG', 'NSE/RML', 'NSE/SGBFEB29XI', 'NSE/GMBREW', 'NSE/KRITIKA', 'NSE/KECL', 'NSE/AUBANK', 'NSE/INDORAMA', 'NSE/BBTC', 'NSE/BEDMUTHA', 'NSE/M14RG', 'NSE/MANXT50', 'NSE/SIGIND', 'NSE/MFL', 'NSE/INDNIPPON', 'NSE/RALLIS', 'NSE/VLSFINANCE', 'NSE/SPAL', 'NSE/CLEDUCATE', 'NSE/ABCAPITAL', 'NSE/MIRZAINT', 'NSE/VADILALIND', 'NSE/SETFNIFBK', 'NSE/GOODYEAR', 'NSE/PREMIERPOL', 'NSE/ITI', 'NSE/CLNINDIA', 'NSE/NIFTYBEES', 'NSE/SRHHYPOLTD', 'NSE/NSIL', 'NSE/VARDHACRLC', 'NSE/ZOTA', 'NSE/NITINSPIN', 'NSE/MAITHANALL', 'NSE/EVERESTIND', 'NSE/SPLIL', 'NSE/BANARBEADS', 'NSE/AJOONI', 'NSE/SHANTIGEAR', 'NSE/UGARSUGAR', 'NSE/GODHA', 'NSE/AVANTIFEED', 'NSE/MANGALAM', 'NSE/KOTAKPSUBK', 'NSE/GRPLTD', 'NSE/CHAMBLFERT', 'NSE/INFY', 'NSE/VIVIMEDLAB', 'NSE/SWELECTES', 'NSE/ASTRAMICRO', 'NSE/PROZONINTU', 'NSE/GLOBE', 'NSE/GARFIBRES', 'NSE/NAUKRI', 'NSE/PGHH', 'NSE/AMDIND', 'NSE/EIHOTEL', 'NSE/VSTIND', 'NSE/DREDGECORP', 'NSE/SMARTLINK', 'NSE/REFEX', 'NSE/CUPID', 'NSE/IZMO', 'NSE/PARAGMILK', 'NSE/ICICIALPLV', 'NSE/PLASTIBLEN', 'NSE/CCL', 'NSE/WIPRO', 'NSE/AARTIDRUGS', 'NSE/SGBAUG24', 'NSE/SGIL', 'NSE/DGCONTENT', 'NSE/SUNCLAYLTD', 'NSE/TORNTPHARM', 'NSE/PVR', 'NSE/BHARATWIRE', 'NSE/CHEMCON', 'NSE/NAZARA', 'NSE/NCC', 'NSE/GLS', 'NSE/ADANIGREEN', 'NSE/IDFC', 'NSE/BRNL', 'NSE/IVZINNIFTY', 'NSE/NPBET', 'NSE/DIAMONDYD', 'NSE/GRINFRA', 'NSE/PRAXIS', 'NSE/PPAP', 'NSE/TECHM', 'NSE/RAMCOCEM', 'NSE/SYMPHONY', 'NSE/MATRIMONY', 'NSE/ICICIB22', 'NSE/VENUSREM', 'NSE/NIPPOBATRY', 'NSE/BIOCON', 'NSE/SCHAND', 'NSE/RAMASTEEL', 'NSE/MAGADSUGAR', 'NSE/HEG', 'NSE/INGERRAND', 'NSE/JKIL', 'NSE/MAFSETF', 'NSE/ASAL', 'NSE/VINATIORGA', 'NSE/MANAKSIA', 'NSE/CHEMBOND', 'NSE/SANCO', 'NSE/BAJAJHIND', 'NSE/PNC', 'NSE/SGBNOV26', 'NSE/BRFL', 'NSE/IRFC', 'NSE/PRITIKAUTO', 'NSE/WONDERLA', 'NSE/WELENT', 'NSE/AUTOIND', 'NSE/TATASTLBSL', 'NSE/ALKALI', 'NSE/DHAMPURSUG', 'NSE/LGHL', 'NSE/DISHTV', 'NSE/MUNJALAU', 'NSE/EHFLNCD', 'NSE/ITDC', 'NSE/SGBJUL28IV', 'NSE/DIGISPICE', 'NSE/GANESHHOUC', 'NSE/IIFCL', 'NSE/ABSLRIF6RD', 'NSE/RELCAPITAL', 'NSE/ADANITRANS', 'NSE/PRAENG', 'NSE/RUBYMILLS', 'NSE/SMCGLOBAL', 'NSE/KAYA', 'NSE/CROWN', 'NSE/HATSUN', 'NSE/ORIENTABRA', 'NSE/MERCATOR', 'NSE/ALBERTDAVD', 'NSE/GPIL', 'NSE/MINDAIND', 'NSE/KSL', 'NSE/BANSWRAS', 'NSE/INTENTECH', 'NSE/KEI', 'NSE/PERSISTENT', 'NSE/BHAGERIA', 'NSE/BAYERCROP', 'NSE/KRIDHANINF', 'NSE/ENGINERSIN', 'NSE/NECCLTD', 'NSE/SBIETFPB', 'NSE/VMART', 'NSE/CSBBANK', 'NSE/LAURUSLABS', 'NSE/MAXVIL', 'NSE/SGBN28VIII', 'NSE/APCL', 'NSE/MITTAL', 'NSE/BAJAJCON', 'NSE/ICICIPHARM', 'NSE/SGBFEB27', 'NSE/SUNDARAM', 'NSE/PALREDTEC', 'NSE/PRIMESECU', 'NSE/JUBLPHARMA', 'NSE/BAJAJFINSV', 'NSE/SBIETFCON', 'NSE/SUVENPHAR', 'NSE/BUTTERFLY', 'NSE/MRF', 'NSE/SMSLIFE', 'NSE/PUNJLLOYD', 'NSE/LIBERTSHOE', 'NSE/SOTL', 'NSE/LIQUIDETF', 'NSE/CHALET', 'NSE/MANALIPETC', 'NSE/LIQUIDBEES', 'NSE/WELCORP', 'NSE/RUCHIRA', 'NSE/EVEREADY', 'NSE/RANASUG', 'NSE/ORIENTBELL', 'NSE/ICICILIQ', 'NSE/NURECA', 'NSE/SOLARINDS', 'NSE/GENESYS', 'NSE/MASFIN', 'NSE/COALINDIA', 'NSE/SHRIRAMCIT', 'NSE/HITECHGEAR', 'NSE/INDSWFTLTD', 'NSE/BALPHARMA', 'NSE/BRIGHT', 'NSE/HAVISHA', 'NSE/LICHSGFIN', 'NSE/KHFM', 'NSE/TIMKEN', 'NSE/SILVERTUC', 'NSE/PATSPINLTD', 'NSE/UGROCAP', 'NSE/GICRE', 'NSE/ICICINIFTY', 'NSE/MAHABANK', 'NSE/MELSTAR', 'NSE/MOREPENLAB', 'NSE/FLEXITUFF', 'NSE/MOM100', 'NSE/IFGLEXPOR', 'NSE/GLENMARK', 'NSE/NETWORK18', 'NSE/UTISXN50', 'NSE/NAGREEKEXP', 'NSE/GSPL', 'NSE/KIMS', 'NSE/BDL', 'NSE/RESPONIND', 'NSE/TEAMLEASE', 'NSE/ZEEMEDIA', 'NSE/NETF', 'NSE/APOLLOHOSP', 'NSE/PEARLPOLY', 'NSE/ALANKIT', 'NSE/COSMOFILMS', 'NSE/MAHASTEEL', 'NSE/SOLEX', 'NSE/CAREERP', 'NSE/TFCILTD', 'NSE/WILLAMAGOR', 'NSE/SIRCA', 'NSE/SUMICHEM', 'NSE/SREEL', 'NSE/UJJIVAN', 'NSE/ZEEL', 'NSE/AURIONPRO', 'NSE/MCDOWELL-N', 'NSE/JKCEMENT', 'NSE/SURYAROSNI', 'NSE/SHARIABEES', 'NSE/GODFRYPHLP', 'NSE/ICICILOVOL', 'NSE/WSI', 'NSE/WELINV', 'NSE/BAJAJHLDNG', 'NSE/GREAVESCOT', 'NSE/MCLEODRUSS', 'NSE/AHLEAST', 'NSE/SHIL', 'NSE/TALBROAUTO', 'NSE/ARIHANT', 'NSE/SBIETFIT', 'NSE/EMAMIPAP', 'NSE/IFCI', 'NSE/LAKPRE', 'NSE/ADORWELD', 'NSE/OMKARCHEM', 'NSE/HINDNATGLS', 'NSE/PRIVISCL', 'NSE/LIKHITHA', 'NSE/DYNPRO', 'NSE/TEMBO', 'NSE/CTE', 'NSE/MIRCELECTR', 'NSE/CADSYS', 'NSE/RMCL', 'NSE/SGBJAN26', 'NSE/HGS', 'NSE/AMBANIORG', 'NSE/CHOLAHLDNG', 'NSE/NGIL', 'NSE/TARC', 'NSE/SAGCEM', 'NSE/HNGSNGBEES', 'NSE/TEXMOPIPES', 'NSE/UTTAMSTL', 'NSE/MAHLOG', 'NSE/SOBHA', 'NSE/SETUINFRA', 'NSE/HCC', 'NSE/LSIL', 'NSE/MSPL', 'NSE/SHREYANIND', 'NSE/SGBAUG29V', 'NSE/UNIONBANK', 'NSE/ICICIMCAP', 'NSE/NMDC', 'NSE/IREDA', 'NSE/FEL', 'NSE/SGBJAN29IX', 'NSE/VSTTILLERS', 'NSE/AXISBANK', 'NSE/MACPOWER', 'NSE/TMRVL', 'NSE/MANAKCOAT', 'NSE/JUBLFOOD', 'NSE/NOCIL', 'NSE/PRAKASHSTL', 'NSE/URJAPP', 'NSE/SUMMITSEC', 'NSE/ABSLBANETF', 'NSE/APTECHT', 'NSE/MAHAPEXLTD', 'NSE/BALMLAWRIE', 'NSE/ALLCARGO', 'NSE/TIL', 'NSE/EASEMYTRIP', 'NSE/LUXIND', 'NSE/ARIHANTSUP', 'NSE/TNPETRO', 'NSE/JUBLINDS', 'NSE/EMAMILTD', 'NSE/PEL', 'NSE/STEELXIND', 'NSE/CENTENKA', 'NSE/PRAJIND', 'NSE/KCPSUGIND', 'NSE/SUPRAJIT', 'NSE/CANDC', 'NSE/INDRAMEDCO', 'NSE/WOCKPHARMA', 'NSE/MON100', 'NSE/NHPC', 'NSE/RELAXO', 'NSE/NHBTF2023', 'NSE/DLINKINDIA', 'NSE/REMSONSIND', 'NSE/SGBJAN29X', 'NSE/DVL', 'NSE/TRITURBINE', 'NSE/ZENTEC', 'NSE/SILLYMONKS', 'NSE/TFL', 'NSE/TIINDIA', 'NSE/UTISENSETF', 'NSE/GOCLCORP', 'NSE/FDC', 'NSE/REVATHI', 'NSE/GINNIFILA', 'NSE/KICL', 'NSE/EIDPARRY', 'NSE/INDOSOLAR', 'NSE/HAL', 'NSE/HDFC', 'NSE/ANDHRAPAP', 'NSE/OAL', 'NSE/SUPPETRO', 'NSE/NCLIND', 'NSE/AISL', 'NSE/EBBETF0423', 'NSE/INDIAGLYCO', 'NSE/TGBHOTELS', 'NSE/DCMNVL', 'NSE/BBL', 'NSE/GODREJPROP', 'NSE/TIMETECHNO', 'NSE/BALRAMCHIN', 'NSE/AEGISCHEM', 'NSE/CYBERTECH', 'NSE/MBAPL', 'NSE/CYIENT', 'NSE/SAKSOFT', 'NSE/HDFCAMC', 'NSE/SGBMAY29I', 'NSE/SUMIT', 'NSE/DOLLAR', 'NSE/HUDCO', 'NSE/TATACONSUM', 'NSE/HEIDELBERG', 'NSE/KITEX', 'NSE/TEXRAIL', 'NSE/BANKINDIA', 'NSE/TIJARIA', 'NSE/AYMSYNTEX', 'NSE/DBCORP', 'NSE/SUTLEJTEX', 'NSE/MARICO', 'NSE/RATNAMANI', 'NSE/WALPAR', 'NSE/GAEL', 'NSE/AMBICAAGAR', 'NSE/GOLDTECH', 'NSE/REPCOHOME', 'NSE/SHOPERSTOP', 'NSE/INDIANHUME', 'NSE/TBZ', 'NSE/GEECEE', 'NSE/SHREECEM', 'NSE/ICICINXT50', 'NSE/GSS', 'NSE/LOKESHMACH', 'NSE/CAPTRUST', 'NSE/TAJGVK', 'NSE/GOLDENTOBC', 'NSE/PRESTIGE', 'NSE/STEELCITY', 'NSE/NECLIFE', 'NSE/PGINVIT', 'NSE/HARRMALAYA', 'NSE/SBIETFQLTY', 'NSE/AXISCADES', 'NSE/ZODJRDMKJ', 'NSE/HINDALCO', 'NSE/SGBJUN27', 'NSE/GREENPLY', 'NSE/CARBORUNIV', 'NSE/GOLDSHARE', 'NSE/XPROINDIA', 'NSE/VBL', 'NSE/KEYFINSERV', 'NSE/GRAUWEIL', 'NSE/SHYAMCENT', 'NSE/DELTAMAGNT', 'NSE/USHAMART', 'NSE/CAMS', 'NSE/PGEL', 'NSE/EQUITASBNK', 'NSE/BEARDSELL', 'NSE/AWHCL', 'NSE/BHARATGEAR', 'NSE/ZUARIGLOB', 'NSE/ZYDUSWELL', 'NSE/ZODIAC', 'NSE/UTTAMSUGAR', 'NSE/IFBIND', 'NSE/MAANALU', 'NSE/KMSUGAR', 'NSE/SUNDRMBRAK', 'NSE/3IINFOTECH', 'NSE/CREATIVE', 'NSE/GEEKAYWIRE', 'NSE/NBIFIN', 'NSE/TCNSBRANDS', 'NSE/VIKASECO', 'NSE/AKG', 'NSE/AUROPHARMA', 'NSE/ONELIFECAP', 'NSE/RAYMOND', 'NSE/MAZDOCK', 'NSE/UNIENTER', 'NSE/RAJTV', 'NSE/SHRADHA', 'NSE/KOTAKNIFTY', 'NSE/RUCHI', 'NSE/BALAMINES', 'NSE/VALIANTORG', 'NSE/ATLANTA', 'NSE/SREINFRA', 'NSE/JSWHL', 'NSE/SADBHAV', 'NSE/UPL', 'NSE/EASUNREYRL', 'NSE/KAVVERITEL', 'NSE/MUTHOOTCAP', 'NSE/HINDPETRO', 'NSE/GOODLUCK', 'NSE/HLVLTD', 'NSE/AVADHSUGAR', 'NSE/NPST', 'NSE/PODDARMENT', 'NSE/GENUSPOWER', 'NSE/SBIN', 'NSE/NETFNV20', 'NSE/SPIC', 'NSE/ASHOKLEY', 'NSE/GLAXO', 'NSE/HDFCNIFETF', 'NSE/SHAKTIPUMP', 'NSE/SPENCERS', 'NSE/MONTECARLO', 'NSE/MANGLMCEM', 'NSE/SDBL', 'NSE/MINDTREE', 'NSE/KDDL', 'NSE/TOUCHWOOD', 'NSE/VMARCIND', 'NSE/BURNPUR', 'NSE/RAIN', 'NSE/OPTOCIRCUI', 'NSE/ELECTCAST', 'NSE/IIFLSEC', 'NSE/ICICINF100', 'NSE/SHALPAINTS', 'NSE/MAHSCOOTER', 'NSE/ADANIPORTS', 'NSE/M15RG', 'NSE/HCL-INSYS', 'NSE/MOHOTAIND', 'NSE/MTNL', 'NSE/GANECOS', 'NSE/SPMLINFRA', 'NSE/ASHAPURMIN', 'NSE/NAGAFERT', 'NSE/GOLDBEES', 'NSE/JSWSTEEL', 'NSE/KKCL', 'NSE/SGBMR29XII', 'NSE/DYNAMATECH', 'NSE/IOC', 'NSE/SPENTEX', 'NSE/CDSL', 'NSE/GALLANTT', 'NSE/VOLTAS', 'NSE/TWL', 'NSE/HDFCSENETF', 'NSE/SCHNEIDER', 'NSE/ICICIBANKP', 'NSE/GAIL', 'NSE/MEP', 'NSE/ERFLNCDI', 'NSE/CARTRADE', 'NSE/DCBBANK', 'NSE/LICNETFN50', 'NSE/ANSALAPI', 'NSE/FSL', 'NSE/TATAELXSI', 'NSE/ABSLNN50ET', 'NSE/MURUDCERA', 'NSE/ASTERDM', 'NSE/COROMANDEL', 'NSE/KARMAENG', 'NSE/NETFPHARMA', 'NSE/CUMMINSIND', 'NSE/MOIL', 'NSE/AMBER', 'NSE/DOLAT', 'NSE/JAYBARMARU', 'NSE/SCI', 'NSE/GREENPANEL', 'NSE/EQ30', 'NSE/HGINFRA', 'NSE/HESTERBIO', 'NSE/HAPPSTMNDS', 'NSE/VISHWARAJ', 'NSE/COX&KINGS', 'NSE/KOTAKIT', 'NSE/APOLLOTYRE', 'NSE/GODREJIND', 'NSE/ELECTHERM', 'NSE/INDUSINDBK', 'NSE/SADBHIN', 'NSE/ADANIENT', 'NSE/OMAXE', 'NSE/PFC', 'NSE/ROHLTD', 'NSE/MAHEPC', 'NSE/NABARD', 'NSE/SGBAPR28I', 'NSE/GFLLIMITED', 'NSE/SANDHAR', 'NSE/MANINDS', 'NSE/VOLTAMP', 'NSE/MBLINFRA', 'NSE/TATACAPHSG', 'NSE/JAICORPLTD', 'NSE/MARUTI', 'NSE/PIDILITIND', 'NSE/NIBL', 'NSE/SURANAT&P', 'NSE/HINDCOMPOS', 'NSE/DHANIPP', 'NSE/BLUEDART', 'NSE/SHRIRAMEPC', 'NSE/BLBLIMITED', 'NSE/MINDTECK', 'NSE/DSML', 'NSE/S&SPOWER', 'NSE/VCL', 'NSE/PBAINFRA', 'NSE/TI', 'NSE/TREEHOUSE', 'NSE/GULFOILLUB', 'NSE/DIAPOWER', 'NSE/POONAWALLA', 'NSE/MINDSPACE', 'NSE/PANAMAPET', 'NSE/THOMASCOTT', 'NSE/INDIGRID', 'NSE/NKIND', 'NSE/KHAITANLTD', 'NSE/KIRLFER', 'NSE/KARURVYSYA', 'NSE/PENIND', 'NSE/ABAN', 'NSE/VINDHYATEL', 'NSE/HOVS', 'NSE/LUMAXIND', 'NSE/ESABINDIA', 'NSE/HILTON', 'NSE/TTML', 'NSE/TATAMOTORS', 'NSE/INDIACEM', 'NSE/SGBAUG28V', 'NSE/CHENNPETRO', 'NSE/MARKSANS', 'NSE/ARCHIES', 'NSE/EXCELINDUS', 'NSE/IDEA', 'NSE/KALPATPOWR', 'NSE/MAXIND', 'NSE/MARALOVER', 'NSE/RAILTEL', 'NSE/ENIL', 'NSE/KAPSTON', 'NSE/CYBERMEDIA', 'NSE/IL&FSTRANS', 'NSE/VGUARD', 'NSE/MORARJEE', 'NSE/BCONCEPTS', 'NSE/JAYSREETEA', 'NSE/HECPROJECT', 'NSE/SAKHTISUG', 'NSE/NOIDATOLL', 'NSE/DWARKESH', 'NSE/DEEPENR', 'NSE/ESTER', 'NSE/TCFSL', 'NSE/M&MFIN', 'NSE/JYOTHYLAB', 'NSE/BRITANNIA', 'NSE/MANAPPURAM', 'NSE/AJRINFRA', 'NSE/GOKEX', 'NSE/LODHA', 'NSE/NDL', 'NSE/BAJAJELEC', 'NSE/COCHINSHIP', 'NSE/HSIL', 'NSE/NAHARPOLY', 'NSE/MOTHERSUMI', 'NSE/TDPOWERSYS', 'NSE/TTL', 'NSE/OILCOUNTUB', 'NSE/INDTERRAIN', 'NSE/RKFORGE', 'NSE/VICEROY', 'NSE/CONCOR', 'NSE/EMBASSY', 'NSE/ALKEM', 'NSE/MASTEK', 'NSE/ALMONDZ', 'NSE/LAXMIMACH', 'NSE/MUNJALSHOW', 'NSE/KNRCON', 'NSE/BEML', 'NSE/SAMBHAAV', 'NSE/HEOFRG1126', 'NSE/GTLINFRA', 'NSE/WHEELS', 'NSE/PFOCUS', 'NSE/CORALFINAC', 'NSE/AMBIKCO', 'NSE/ROLEXRINGS', 'NSE/CENTRALBK', 'NSE/SANOFI', 'NSE/LIBAS', 'NSE/KABRAEXTRU', 'NSE/ELECON', 'NSE/FRETAIL', 'NSE/IDFNIFTYET', 'NSE/SPANDANA', 'NSE/SHIVAMILLS', 'NSE/EMCO', 'NSE/KANORICHEM', 'NSE/OCCL', 'NSE/APTUS', 'NSE/MITCON', 'NSE/AILIMITED', 'NSE/ATALREAL', 'NSE/AFFLE', 'NSE/ANUP', 'NSE/ACCURACY', 'NSE/INDIGO', 'NSE/NH', 'NSE/PRECAM', 'NSE/RPGLIFE', 'NSE/772GS2055', 'NSE/WANBURY', 'NSE/ALPHAGEO', 'NSE/NLCINDIA', 'NSE/RBLBANK', 'NSE/SANGHIIND', 'NSE/MCX', 'NSE/GUJALKALI', 'NSE/GALLISPAT', 'NSE/ALPSINDUS', 'NSE/AVROIND', 'NSE/INFIBEAM', 'NSE/MMFL', 'NSE/AHLUCONT', 'NSE/SGBOCT25IV', 'NSE/GULFPETRO', 'NSE/MFSL', 'NSE/BVCL', 'NSE/BHAGYANGR', 'NSE/GMMPFAUDLR', 'NSE/GFSTEELS', 'NSE/ZENSARTECH', 'NSE/SPTL', 'NSE/GLAND', 'NSE/ICICIBANK', 'NSE/ARROWGREEN', 'NSE/KOKUYOCMLN', 'NSE/NILASPACES', 'NSE/LYPSAGEMS', 'NSE/IL&FSENGG', 'NSE/RPPL', 'NSE/ORIENTCEM', 'NSE/VINEETLAB', 'NSE/UMANGDAIRY', 'NSE/VERTOZ', 'NSE/SUVEN', 'NSE/ATULAUTO', 'NSE/SUNTV', 'NSE/RELINFRA', 'NSE/DEEPINDS', 'NSE/OIL', 'NSE/VISHAL', 'NSE/DPWIRES', 'NSE/VIMTALABS', 'NSE/CRISIL', 'NSE/PAR', 'NSE/DANGEE', 'NSE/URJA', 'NSE/AJANTPHARM', 'NSE/CREST', 'NSE/VIDHIING', 'NSE/BIL', 'NSE/LOVABLE', 'NSE/RITES', 'NSE/BLISSGVS', 'NSE/IMFA', 'NSE/ROML', 'NSE/SINTERCOM', 'NSE/MPTODAY', 'NSE/INDOWIND', 'NSE/BPCL', 'NSE/KILITCH', 'NSE/MPSLTD', 'NSE/STLTECH', 'NSE/A2ZINFRA', 'NSE/SHREDIGCEM', 'NSE/SVPGLOB', 'NSE/KOTARISUG', 'NSE/SARLAPOLY', 'NSE/YESBANK', 'NSE/SWSOLAR', 'NSE/REPRO', 'NSE/CENTUM', 'NSE/IGPL', 'NSE/CONTI', 'NSE/SALONA', 'NSE/DCAL', 'NSE/ZODIACLOTH', 'NSE/TOTAL', 'NSE/MARSHALL', 'NSE/NRBBEARING', 'NSE/AAREYDRUGS', 'NSE/GOKUL', 'NSE/POWERMECH', 'NSE/TATASTLLP', 'NSE/RAJRATAN', 'NSE/FCL', 'NSE/AXISTECETF', 'NSE/DMART', 'NSE/KREBSBIO', 'NSE/ARENTERP', 'NSE/TANTIACONS', 'NSE/DBREALTY', 'NSE/SHRENIK', 'NSE/STERTOOLS', 'NSE/SUULD', 'NSE/SAFARI', 'NSE/RADICO', 'NSE/GISOLUTION', 'NSE/SASTASUNDR', 'NSE/5PAISA', 'NSE/SWANENERGY', 'NSE/PPL', 'NSE/WSTCSTPAPR', 'NSE/BLS', 'NSE/SETFNN50', 'NSE/SILGO', 'NSE/CENTEXT', 'NSE/KANPRPLA', 'NSE/HONAUT', 'NSE/ALICON', 'NSE/MADRASFERT', 'NSE/SUDARSCHEM', 'NSE/JBCHEPHARM', 'NSE/WFL', 'NSE/MOLDTECH', 'NSE/ICICINV20', 'NSE/KANSAINER', 'NSE/MIDHANI', 'NSE/PGHL', 'NSE/RNAVAL', 'NSE/AJMERA', 'NSE/LUPIN', 'NSE/ZOMATO', 'NSE/AIRAN', 'NSE/ROSSELLIND', 'NSE/INDOTHAI', 'NSE/MAN50ETF', 'NSE/NELCO', 'NSE/NITINFIRE', 'NSE/SKIL', 'NSE/KOTAKGOLD', 'NSE/SUNDARMHLD', 'NSE/METROPOLIS', 'NSE/RVNL', 'NSE/KALYANKJIL', 'NSE/GROBTEA', 'NSE/LYKALABS', 'NSE/UNICHEMLAB', 'NSE/COFORGE', 'NSE/VIKASWSP', 'NSE/JINDWORLD', 'NSE/ROLLT', 'NSE/CUB', 'NSE/BALAXI', 'NSE/ORBTEXP', 'NSE/FELDVR', 'NSE/RELIGARE', 'NSE/OPTIEMUS', 'NSE/JMA', 'NSE/DCM', 'NSE/FILATEX', 'NSE/INOXWIND', 'NSE/TIDEWATER', 'NSE/SABEVENTS', 'NSE/INDIGOPNTS', 'NSE/RAMANEWS', 'NSE/POLYCAB', 'NSE/THEJO', 'NSE/APOLSINHOT', 'NSE/RAJSREESUG', 'NSE/SGBJU29III', 'NSE/ASAHIINDIA', 'NSE/RELIANCE', 'NSE/GET&D', 'NSE/ASHIANA', 'NSE/3PLAND', 'NSE/PFS', 'NSE/SANGINITA', 'NSE/AROGRANITE', 'NSE/BAJAJ-AUTO', 'NSE/SWARAJENG', 'NSE/INDOCO', 'NSE/RCOM', 'NSE/IGL', 'NSE/RANEHOLDIN', 'NSE/ANURAS', 'NSE/ARIHANTCAP', 'NSE/SOMANYCERA', 'NSE/NHAI', 'NSE/MCDHOLDING', 'NSE/LICNFNHGP', 'NSE/SHEMAROO', 'NSE/KSOLVES', 'NSE/THANGAMAYL', 'NSE/APCOTEXIND', 'NSE/JMCPROJECT', 'NSE/SITINET', 'NSE/TPLPLASTEH', 'NSE/KRSNAA', 'NSE/NITIRAJ', 'NSE/SEPOWER', 'NSE/NIACL', 'NSE/QUESS', 'NSE/PANACEABIO', 'NSE/DHANILOANS', 'NSE/IPCALAB', 'NSE/DPABHUSHAN', 'NSE/NATHBIOGEN', 'NSE/NAVNETEDUL', 'NSE/GALAXYSURF', 'NSE/AAKASH', 'NSE/NFL', 'NSE/OBEROIRLTY', 'NSE/GEPIL', 'NSE/21STCENMGM', 'NSE/COMPUSOFT', 'NSE/SGBMAY25', 'NSE/GATI', 'NSE/KINGFA', 'NSE/ADL', 'NSE/ADVENZYMES', 'NSE/BAGFILMS', 'NSE/RKEC', 'NSE/UNIDT', 'NSE/MOTOGENFIN', 'NSE/EQUITAS', 'NSE/GANGESSECU', 'NSE/IDBIGOLD', 'NSE/INDIANB', 'NSE/SUBROS', 'NSE/TASTYBITE', 'NSE/WINDLAS', 'NSE/HMT', 'NSE/GIPCL', 'NSE/KUANTUM', 'NSE/GANGAFORGE', 'NSE/TATASTEEL', 'NSE/E2E', 'NSE/LAXMICOT', 'NSE/ADROITINFO', 'NSE/UMESLTD', 'NSE/NAM-INDIA', 'NSE/STARCEMENT', 'NSE/DUDIGITAL', 'NSE/TECHNOE', 'NSE/NUCLEUS', 'NSE/SKMEGGPROD', 'NSE/RTNPOWER', 'NSE/ROSSARI', 'NSE/FOCUS', 'NSE/ORIENTELEC', 'NSE/PVP', 'NSE/BIRLAMONEY', 'NSE/SGBOCT27', 'NSE/L&TFH', 'NSE/SFL', 'NSE/SIMBHALS', 'NSE/SIYSIL', 'NSE/CINELINE', 'NSE/OFSS', 'NSE/CANTABIL', 'NSE/JSWENERGY', 'NSE/ADFFOODS', 'NSE/BALAJITELE', 'NSE/AKSHOPTFBR', 'NSE/ASHIMASYN', 'NSE/RHIM', 'NSE/ELGIRUBCO', 'NSE/JBMA', 'NSE/SCAPDVR', 'NSE/JAIPURKURT', 'NSE/PRITI', 'NSE/NESCO', 'NSE/PATELENG', 'NSE/GENUSPAPER', 'NSE/SRPL', 'NSE/JINDRILL', 'NSE/BEL', 'NSE/BTML', 'NSE/AARON', 'NSE/IITL', 'NSE/SGBMAR28X', 'NSE/DIXON', 'NSE/SASKEN', 'NSE/IRCTC', 'NSE/WALCHANNAG', 'NSE/MARINE', 'NSE/TIIL', 'NSE/OMINFRAL', 'NSE/SINTEX', 'NSE/BALKRISIND', 'NSE/SORILINFRA', 'NSE/JISLDVREQS', 'NSE/LAGNAM', 'NSE/MOKSH', 'NSE/SUPERSPIN', 'NSE/ZENITHEXPO', 'NSE/DTIL', 'NSE/EASTSILK', 'NSE/KCP', 'NSE/MMP', 'NSE/SATIA', 'NSE/ASIANTILES', 'NSE/TRIL', 'NSE/SANGAMIND', 'NSE/ACC', 'NSE/INDSWFTLAB', 'NSE/63MOONS', 'NSE/HERCULES', 'NSE/SETFNIF50', 'NSE/COMPINFO', 'NSE/NILKAMAL', 'NSE/SUPREMEENG', 'NSE/WEBELSOLAR', 'NSE/BATAINDIA', 'NSE/ASHOKA', 'NSE/DNAMEDIA', 'NSE/EC2RG', 'NSE/SSWL', 'NSE/DBL', 'NSE/SGBMAY26', 'NSE/TRF', 'NSE/BLUESTARCO', 'NSE/GABRIEL', 'NSE/ERIS', 'NSE/ITDCEM', 'NSE/ACE', 'NSE/PKTEA', 'NSE/PRECWIRE', 'NSE/RECLTD', 'NSE/MUTHOOTFIN', 'NSE/GLOBALVECT', 'NSE/CENTURYTEX', 'NSE/GOLDSTAR', 'NSE/NETFNIF100', 'NSE/IVC', 'NSE/THOMASCOOK', 'NSE/SRTRANSFIN', 'NSE/RADAAN', 'NSE/RPPINFRA', 'NSE/MHRIL', 'NSE/GRINDWELL', 'NSE/FCSSOFT', 'NSE/EXCEL', 'NSE/AGRITECH', 'NSE/SGBMAR24', 'NSE/SHREEPUSHK', 'NSE/PODDARHOUS', 'NSE/RELIANCEP1', 'NSE/ATUL', 'NSE/ISGEC', 'NSE/ABSLRIF6RG', 'NSE/JBFIND', 'NSE/BRIGADE', 'NSE/PRECOT', 'NSE/KPIGLOBAL', 'NSE/MASKINVEST', 'NSE/ADANIPOWER', 'NSE/BHEL', 'NSE/METALFORGE', 'NSE/AVTNPL', 'NSE/MOTILALOFS', 'NSE/NITCO', 'NSE/M17RG', 'NSE/ECLFINANCE', 'NSE/ULTRACEMCO', 'NSE/OMAXAUTO', 'NSE/EDELWEISS', 'NSE/APEX', 'NSE/SOUTHWEST', 'NSE/TAINWALCHM', 'NSE/NELCAST', 'NSE/LGBBROSLTD', 'NSE/SYNGENE', 'NSE/ESCORTS', 'NSE/NEOGEN', 'NSE/BHARATFORG', 'NSE/AKSHARCHEM', 'NSE/SGBAUG27', 'NSE/SEQUENT', 'NSE/RAMKY', 'NSE/IOB', 'NSE/FINCABLES', 'NSE/CGPOWER', 'NSE/ARTEMISMED', 'NSE/ICICISENSX', 'NSE/MAXHEALTH', 'NSE/FAIRCHEMOR', 'NSE/HERANBA', 'NSE/PIIND', 'NSE/NXTDIGITAL', 'NSE/HCG', 'NSE/ONGC', 'NSE/VSSL', 'NSE/PSUBNKBEES', 'NSE/MAWANASUG', 'NSE/MGEL', 'NSE/AMARAJABAT', 'NSE/INFRABEES', 'NSE/DONEAR', 'NSE/NTL', 'NSE/RICOAUTO', 'NSE/BCP', 'NSE/SATIN', 'NSE/STOVEKRAFT', 'NSE/JAYNECOIND', 'NSE/ICRA', 'NSE/DRCSYSTEMS', 'NSE/CAPACITE', 'NSE/AKASH', 'NSE/SIGMA', 'NSE/INSECTICID', 'NSE/ANGELBRKG', 'NSE/YAARII', 'NSE/PSB', 'NSE/MADHAV', 'NSE/TVSMOTOR', 'NSE/ZEELEARN', 'NSE/BURGERKING', 'NSE/HBANKETF', 'NSE/PNBHOUSING', 'NSE/XCHANGING', 'NSE/CENTRUM', 'NSE/BANDHANBNK', 'NSE/TARAPUR', 'NSE/BESTAGRO', 'NSE/SMSPHARMA', 'NSE/SOMATEX', 'NSE/THEINVEST', 'NSE/NIITLTD', 'NSE/NATIONALUM', 'NSE/DHARSUGAR', 'NSE/SURANASOL', 'NSE/BARTRONICS', 'NSE/PREMIER', 'NSE/NEULANDLAB', 'NSE/SGBJUL25', 'NSE/WABCOINDIA', 'NSE/UTINIFTETF', 'NSE/SIMPLEXINF', 'NSE/RGL', 'NSE/JYOTISTRUC', 'NSE/RMDRIP', 'NSE/EMKAY', 'NSE/SALSTEEL', 'NSE/KRISHANA', 'NSE/MOM50', 'NSE/MMTC', 'NSE/MCL', 'NSE/WENDT', 'NSE/SNOWMAN', 'NSE/GAL', 'NSE/LUMAXTECH', 'NSE/RVHL', 'NSE/BKMINDST', 'NSE/20MICRONS', 'NSE/UCALFUEL', 'NSE/NESTLEIND', 'NSE/TERASOFT', 'NSE/JTEKTINDIA', 'NSE/TIPSINDLTD', 'NSE/AGARIND', 'NSE/BBTCL', 'NSE/BETA', 'NSE/RCF', 'NSE/HSCL', 'NSE/IRISDOREME', 'NSE/SONATSOFTW', 'NSE/LTTS', 'NSE/LICNETFGSC', 'NSE/BLKASHYAP', 'NSE/BODALCHEM', 'NSE/VTL', 'NSE/UNITEDTEA', 'NSE/TCIDEVELOP', 'NSE/SKFINDIA', 'NSE/KIRIINDUS', 'NSE/SUPERHOUSE', 'NSE/UFO', 'NSE/BASF', 'NSE/ADSL', 'NSE/TANLA', 'NSE/DLF', 'NSE/HPL', 'NSE/GODREJCP', 'NSE/EMMBI', 'NSE/NAHARCAP', 'NSE/NILAINFRA', 'NSE/SGBSEP27', 'NSE/ASIANHOTNR', 'NSE/UWCSL', 'NSE/SGBMAY28', 'NSE/ENERGYDEV', 'NSE/JOCIL', 'NSE/GANDHITUBE', 'NSE/LICNETFSEN', 'NSE/PILITA', 'NSE/BGRENERGY', 'NSE/SILINV', 'NSE/GUFICBIO', 'NSE/ICICITECH', 'NSE/BERGEPAINT', 'NSE/MANAKSTEEL', 'NSE/KSCL', 'NSE/AURDIS', 'NSE/TRIGYN', 'NSE/M15RD', 'NSE/BFINVEST', 'NSE/ARIES', 'NSE/LAOPALA', 'NSE/AARVEEDEN', 'NSE/ADVANIHOTR', 'NSE/VAKRANGEE', 'NSE/GOENKA', 'NSE/ARMANFIN', 'NSE/SETCO', 'NSE/KARDA', 'NSE/CMICABLES', 'NSE/FINEORG', 'NSE/CARERATING', 'NSE/INSPIRISYS', 'NSE/DCMSHRIRAM', 'NSE/IVP', 'NSE/NARMADA', 'NSE/VHL', 'NSE/ISFT', 'NSE/SGBJUL27', 'NSE/PUNJABCHEM', 'NSE/IRBINVIT', 'NSE/ICICIPRULI', 'NSE/PNCINFRA', 'NSE/IBREALEST', 'NSE/FACT', 'NSE/RTNINDIA', 'NSE/EIMCOELECO', 'NSE/GUJGASLTD', 'NSE/NAHARSPING', 'NSE/MODIRUBBER', 'NSE/NATNLSTEEL', 'NSE/GMRINFRA', 'NSE/DEVYANI', 'NSE/SURANI', 'NSE/MTEDUCARE', 'NSE/SARDAEN', 'NSE/BANARISUG', 'NSE/THYROCARE', 'NSE/POKARNA', 'NSE/HFCL', 'NSE/ONMOBILE', 'NSE/SHARDAMOTR', 'NSE/VINYLINDIA', 'NSE/ASTEC', 'NSE/IMAGICAA', 'NSE/FLUOROCHEM', 'NSE/CIPLA', 'NSE/GOLDIAM', 'NSE/KOVAI', 'NSE/SGBSEP28VI', 'NSE/KEC', 'NSE/BANKBARODA', 'NSE/SHILPAMED', 'NSE/MOLDTKPAC', 'NSE/EMAMIREAL', 'NSE/ALLSEC', 'NSE/SAKAR', 'NSE/BAJFINANCE', 'NSE/RAJMET', 'NSE/MSTCLTD', 'NSE/JCHAC', 'NSE/NCPSESDL24', 'NSE/DCW', 'NSE/TVTODAY', 'NSE/SGBOC28VII', 'NSE/SGBOCT27VI', 'NSE/LOTUSEYE', 'NSE/SHANKARA', 'NSE/HONDAPOWER', 'NSE/LCCINFOTEC', 'NSE/JHS', 'NSE/SHRIPISTON', 'NSE/GRANULES', 'NSE/WESTLIFE', 'NSE/RIIL', 'NSE/KAKATCEM', 'NSE/HDFCMFGETF', 'NSE/NETFMID150', 'NSE/LALPATHLAB', 'NSE/PIONEEREMB', 'NSE/REDINGTON', 'NSE/SGBNOV258', 'NSE/HEROMOTOCO', 'NSE/SHALBY', 'NSE/JAGSNPHARM', 'NSE/VARDMNPOLY', 'NSE/AXISBNKETF', 'NSE/MOL', 'NSE/FINPIPE', 'NSE/TIMESGTY', 'NSE/VETO', 'NSE/BIOFILCHEM', 'NSE/ALEMBICLTD', 'NSE/GKWLIMITED', 'NSE/JKPAPER', 'NSE/HDFCLIFE', 'NSE/SIL', 'NSE/TOKYOPLAST', 'NSE/AAVAS', 'NSE/KOTHARIPRO', 'NSE/QGOLDHALF', 'NSE/BANKA', 'NSE/GSFC', 'NSE/EC2RD', 'NSE/HINDUNILVR', 'NSE/SPARC', 'NSE/MAHINDCIE', 'NSE/PRAKASH', 'NSE/CESC', 'NSE/KPITTECH', 'NSE/VEDL', 'NSE/JITFINFRA', 'NSE/VISHNU', 'NSE/BOROLTD', 'NSE/FEDERALBNK', 'NSE/CREDITACC', 'NSE/SEAMECLTD', 'NSE/TITAN', 'NSE/MUKANDLTD', 'NSE/HITECHCORP', 'NSE/CONSOFINVT', 'NSE/HEMIPROP', 'NSE/GPTINFRA', 'NSE/DICIND', 'NSE/NAVKARCORP', 'NSE/MOLDTEKPP', 'NSE/AKZOINDIA', 'NSE/TVVISION', 'NSE/PITTIENG', 'NSE/FCONSUMER', 'NSE/LFIC', 'NSE/SMLISUZU', 'NSE/SUNDRMFAST', 'NSE/KIRLOSBROS', 'NSE/SHAREINDIA', 'NSE/BPL', 'NSE/SJVN', 'NSE/AVG']\n"
          ]
        }
      ],
      "source": [
        "# Get only the list of stock names - for next purpose: getting price based on date range\n",
        "stock_nse['stock_name'] = \"NSE/\"+ stock_nse['SYMBOL'] #stock_nse['SYMBOL'].str.lower()\n",
        "stock_list = stock_nse['stock_name'].tolist()\n",
        "stock_list = list(set(stock_list)) # Names of stock with \"NSE/\" as prefix\n",
        "print(stock_list)"
      ]
    },
    {
      "cell_type": "markdown",
      "metadata": {
        "id": "-pgdfoYyJmMI"
      },
      "source": [
        "### DATE-RANGE stock prices: Now we need the prices of date range"
      ]
    },
    {
      "cell_type": "code",
      "execution_count": null,
      "metadata": {
        "colab": {
          "base_uri": "https://localhost:8080/"
        },
        "id": "havpUviUyL0P",
        "outputId": "cc1f2213-2b76-4645-9ca5-62a1de420ce8"
      },
      "outputs": [
        {
          "name": "stdout",
          "output_type": "stream",
          "text": [
            "2010-08-20 00:00:00 2011-08-20 00:00:00\n"
          ]
        }
      ],
      "source": [
        "# Input Start and End Date\n",
        "start = datetime.datetime.strptime(\"20-8-2010\",'%d-%m-%Y') #datetime.datetime(2020,8,20)\n",
        "\n",
        "end = datetime.datetime.strptime(\"20-8-2011\",'%d-%m-%Y') #datetime.datetime(2021,8,20)\n",
        "print(str(start)+\" \"+str(end))"
      ]
    },
    {
      "cell_type": "code",
      "execution_count": null,
      "metadata": {
        "colab": {
          "base_uri": "https://localhost:8080/"
        },
        "id": "mJDmO-7tEFmd",
        "outputId": "22182df9-070e-49f5-c418-c93ec2ed1912"
      },
      "outputs": [
        {
          "name": "stdout",
          "output_type": "stream",
          "text": [
            "<class 'pandas.core.frame.DataFrame'>\n",
            "Index: 0 entries\n",
            "Empty DataFrame"
          ]
        }
      ],
      "source": [
        "# Create Empty Dataframe\n",
        "stock_final = pd.DataFrame()\n",
        "stock_final.info()"
      ]
    },
    {
      "cell_type": "code",
      "execution_count": null,
      "metadata": {
        "colab": {
          "base_uri": "https://localhost:8080/"
        },
        "id": "jwinbdUQTXEB",
        "outputId": "c6271b1a-bf69-4801-9369-44e3c53ec9fd"
      },
      "outputs": [
        {
          "data": {
            "text/plain": [
              "str"
            ]
          },
          "execution_count": 64,
          "metadata": {},
          "output_type": "execute_result"
        }
      ],
      "source": [
        "# type(stock_list[1])"
      ]
    },
    {
      "cell_type": "markdown",
      "metadata": {
        "id": "Sxvl_MbcYOe_"
      },
      "source": [
        "## Quandl Stock Prices\n"
      ]
    },
    {
      "cell_type": "code",
      "execution_count": null,
      "metadata": {
        "id": "5CQHm71eUNiT"
      },
      "outputs": [],
      "source": [
        "# https://pandas-datareader.readthedocs.io/en/latest/remote_data.html\n",
        "\n",
        "# web.DataReader(stock_list[i], \"quandl\", start, end) throws below error\n",
        "    # problem-1: The Quandl API key must be provided either through the api_key variable or through the environmental variable QUANDL_API_KEY\n",
        "\n",
        "# Solution:\n",
        "    # we need API key using account on Quandl\n",
        "    # steps are simple, visit Quandl site, and create an account\n",
        "\n",
        "# problem-2: b'code,message\\n\"QELx04\",\"You have exceeded the API speed limit of 2000 calls per 10 minutes. Please slow down your requests.\"'\n",
        "    # solution: slow down, and reduce the number of api calls\n",
        "    #  FutureWarning: the 'access_key'' keyword is deprecated, use 'api_key' instead"
      ]
    },
    {
      "cell_type": "code",
      "execution_count": null,
      "metadata": {
        "colab": {
          "base_uri": "https://localhost:8080/"
        },
        "id": "dSWziN1FLYHP",
        "outputId": "0a02a886-6c30-47e6-ed76-39ae1930ba12"
      },
      "outputs": [],
      "source": [
        "# Scrape the stock prices of a date range from quandl (https://www.quandl.com/)\n",
        "\n",
        "for i in range(5):   # len(stock_list) \n",
        "    try:\n",
        "        stock=[]\n",
        "        print()\n",
        "        stock = web.DataReader(stock_list[i], data_source='quandl', start=start, end=end, api_key=\"xxxxxxxxxxxx\")  #get your own api key from quandl\n",
        "        # for each stock name, find the prices from start to end range\n",
        "        #rint(type(stock)) #<class 'pandas.core.frame.DataFrame'>\n",
        "        stock['Name']=stock_list[i]\n",
        "        \n",
        "        stock_final = pd.DataFrame.append(stock_final,stock)\n",
        "\n",
        "    except Exception as e: # Replace Exception with something more specific.\n",
        "        print(e)"
      ]
    },
    {
      "cell_type": "markdown",
      "metadata": {
        "id": "LQ0mewGU1yiX"
      },
      "source": [
        "### **Not working with NSE Data for data after 2019**"
      ]
    },
    {
      "cell_type": "code",
      "execution_count": null,
      "metadata": {
        "colab": {
          "base_uri": "https://localhost:8080/",
          "height": 235
        },
        "id": "EGRSjevJLa5e",
        "outputId": "ff081a12-7d20-4747-d5eb-26b1fe059916"
      },
      "outputs": [
        {
          "data": {
            "text/html": [
              "<div>\n",
              "<style scoped>\n",
              "    .dataframe tbody tr th:only-of-type {\n",
              "        vertical-align: middle;\n",
              "    }\n",
              "\n",
              "    .dataframe tbody tr th {\n",
              "        vertical-align: top;\n",
              "    }\n",
              "\n",
              "    .dataframe thead th {\n",
              "        text-align: right;\n",
              "    }\n",
              "</style>\n",
              "<table border=\"1\" class=\"dataframe\">\n",
              "  <thead>\n",
              "    <tr style=\"text-align: right;\">\n",
              "      <th></th>\n",
              "      <th>Open</th>\n",
              "      <th>High</th>\n",
              "      <th>Low</th>\n",
              "      <th>Last</th>\n",
              "      <th>Close</th>\n",
              "      <th>TotalTradeQuantity</th>\n",
              "      <th>TurnoverLacs</th>\n",
              "      <th>Name</th>\n",
              "    </tr>\n",
              "    <tr>\n",
              "      <th>Date</th>\n",
              "      <th></th>\n",
              "      <th></th>\n",
              "      <th></th>\n",
              "      <th></th>\n",
              "      <th></th>\n",
              "      <th></th>\n",
              "      <th></th>\n",
              "      <th></th>\n",
              "    </tr>\n",
              "  </thead>\n",
              "  <tbody>\n",
              "    <tr>\n",
              "      <th>2011-08-19</th>\n",
              "      <td>299.5</td>\n",
              "      <td>314.95</td>\n",
              "      <td>299.50</td>\n",
              "      <td>313.00</td>\n",
              "      <td>313.00</td>\n",
              "      <td>5085.0</td>\n",
              "      <td>15.79</td>\n",
              "      <td>NSE/BIRLACORPN</td>\n",
              "    </tr>\n",
              "    <tr>\n",
              "      <th>2011-08-18</th>\n",
              "      <td>318.0</td>\n",
              "      <td>320.00</td>\n",
              "      <td>313.05</td>\n",
              "      <td>318.75</td>\n",
              "      <td>316.95</td>\n",
              "      <td>50244.0</td>\n",
              "      <td>158.32</td>\n",
              "      <td>NSE/BIRLACORPN</td>\n",
              "    </tr>\n",
              "    <tr>\n",
              "      <th>2011-08-17</th>\n",
              "      <td>315.0</td>\n",
              "      <td>325.45</td>\n",
              "      <td>315.00</td>\n",
              "      <td>318.00</td>\n",
              "      <td>318.60</td>\n",
              "      <td>3088.0</td>\n",
              "      <td>9.81</td>\n",
              "      <td>NSE/BIRLACORPN</td>\n",
              "    </tr>\n",
              "    <tr>\n",
              "      <th>2011-08-16</th>\n",
              "      <td>319.0</td>\n",
              "      <td>321.90</td>\n",
              "      <td>310.00</td>\n",
              "      <td>315.00</td>\n",
              "      <td>315.55</td>\n",
              "      <td>3546.0</td>\n",
              "      <td>11.17</td>\n",
              "      <td>NSE/BIRLACORPN</td>\n",
              "    </tr>\n",
              "    <tr>\n",
              "      <th>2011-08-12</th>\n",
              "      <td>319.9</td>\n",
              "      <td>319.90</td>\n",
              "      <td>311.00</td>\n",
              "      <td>311.00</td>\n",
              "      <td>314.05</td>\n",
              "      <td>208.0</td>\n",
              "      <td>0.66</td>\n",
              "      <td>NSE/BIRLACORPN</td>\n",
              "    </tr>\n",
              "  </tbody>\n",
              "</table>\n",
              "</div>"
            ],
            "text/plain": [
              "             Open    High  ...  TurnoverLacs            Name\n",
              "Date                       ...                              \n",
              "2011-08-19  299.5  314.95  ...         15.79  NSE/BIRLACORPN\n",
              "2011-08-18  318.0  320.00  ...        158.32  NSE/BIRLACORPN\n",
              "2011-08-17  315.0  325.45  ...          9.81  NSE/BIRLACORPN\n",
              "2011-08-16  319.0  321.90  ...         11.17  NSE/BIRLACORPN\n",
              "2011-08-12  319.9  319.90  ...          0.66  NSE/BIRLACORPN\n",
              "\n",
              "[5 rows x 8 columns]"
            ]
          },
          "execution_count": 17,
          "metadata": {},
          "output_type": "execute_result"
        }
      ],
      "source": [
        "#View the top 10 rows of the downloaded data \n",
        "stock_final.head()"
      ]
    },
    {
      "cell_type": "code",
      "execution_count": null,
      "metadata": {
        "colab": {
          "base_uri": "https://localhost:8080/",
          "height": 277
        },
        "id": "1QSp459tLfP2",
        "outputId": "1d36c4a0-1a0e-4b73-8582-cad9880b152b"
      },
      "outputs": [
        {
          "data": {
            "image/png": "[encoded data removed]",
            "text/plain": [
              "<Figure size 432x288 with 1 Axes>"
            ]
          },
          "metadata": {
            "needs_background": "light"
          },
          "output_type": "display_data"
        }
      ],
      "source": [
        "#Plot trend for a particular stock\n",
        "import matplotlib.pyplot as plt\n",
        "#Subset for a particular stock\n",
        "stock_final = stock_final[stock_final['Name']=='NSE/BIRLACORPN']\n",
        "\n",
        "#Generate a line plot\n",
        "stock_final.plot(y='High')\n",
        "plt.show()"
      ]
    },
    {
      "cell_type": "code",
      "execution_count": null,
      "metadata": {
        "id": "zco4Xg0PCW2u"
      },
      "outputs": [],
      "source": []
    }
  ],
  "metadata": {
    "colab": {
      "collapsed_sections": [],
      "name": "NSE_stocks_till_2019_Quandl.ipynb",
      "provenance": []
    },
    "kernelspec": {
      "display_name": "Python 3",
      "name": "python3"
    },
    "language_info": {
      "name": "python"
    }
  },
  "nbformat": 4,
  "nbformat_minor": 0
}
